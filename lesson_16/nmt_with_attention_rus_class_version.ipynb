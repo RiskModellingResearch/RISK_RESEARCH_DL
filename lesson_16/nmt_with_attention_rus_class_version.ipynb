{
  "nbformat": 4,
  "nbformat_minor": 0,
  "metadata": {
    "accelerator": "GPU",
    "colab": {
      "name": "nmt_with_attention_rus_class_version.ipynb",
      "provenance": [],
      "collapsed_sections": []
    },
    "kernelspec": {
      "display_name": "Python 3",
      "language": "python",
      "name": "python3"
    },
    "language_info": {
      "codemirror_mode": {
        "name": "ipython",
        "version": 3
      },
      "file_extension": ".py",
      "mimetype": "text/x-python",
      "name": "python",
      "nbconvert_exporter": "python",
      "pygments_lexer": "ipython3",
      "version": "3.7.4"
    }
  },
  "cells": [
    {
      "cell_type": "markdown",
      "metadata": {
        "id": "s_qNSzzyaCbD"
      },
      "source": [
        "##### Слямзино с  Copyright 2019 The TensorFlow Authors. "
      ]
    },
    {
      "cell_type": "markdown",
      "metadata": {
        "id": "J0Qjg6vuaHNt"
      },
      "source": [
        "# Neural machine translation with attention"
      ]
    },
    {
      "cell_type": "markdown",
      "metadata": {
        "id": "AOpGoE2T-YXS"
      },
      "source": [
        "<table class=\"tfo-notebook-buttons\" align=\"left\">\n",
        "  <td>\n",
        "    <a target=\"_blank\" href=\"https://www.tensorflow.org/tutorials/text/nmt_with_attention\">\n",
        "    <img src=\"https://www.tensorflow.org/images/tf_logo_32px.png\" />\n",
        "    View on TensorFlow.org</a>\n",
        "  </td>\n",
        "  <td>\n",
        "    <a target=\"_blank\" href=\"https://colab.research.google.com/github/tensorflow/docs/blob/master/site/en/tutorials/text/nmt_with_attention.ipynb\">\n",
        "    <img src=\"https://www.tensorflow.org/images/colab_logo_32px.png\" />\n",
        "    Run in Google Colab</a>\n",
        "  </td>\n",
        "  <td>\n",
        "    <a target=\"_blank\" href=\"https://github.com/tensorflow/docs/blob/master/site/en/tutorials/text/nmt_with_attention.ipynb\">\n",
        "    <img src=\"https://www.tensorflow.org/images/GitHub-Mark-32px.png\" />\n",
        "    View source on GitHub</a>\n",
        "  </td>\n",
        "  <td>\n",
        "    <a href=\"https://storage.googleapis.com/tensorflow_docs/docs/site/en/tutorials/text/nmt_with_attention.ipynb\"><img src=\"https://www.tensorflow.org/images/download_logo_32px.png\" />Download notebook</a>\n",
        "  </td>\n",
        "</table>"
      ]
    },
    {
      "cell_type": "markdown",
      "metadata": {
        "id": "CiwtNgENbx2g"
      },
      "source": [
        "Будем создавать свой автопереводчик. На основе документации tf попробуем осознать, как работает внимание.\n",
        "Пример ниже про испанский, попробуем получить тоже самое для русского\n",
        "\n",
        "<img src=\"https://tensorflow.org/images/spanish-english.png\" alt=\"spanish-english attention plot\">\n",
        "\n",
        "Note: This example takes approximately 10 minutes to run on a single P100 GPU. (больше :)))"
      ]
    },
    {
      "cell_type": "code",
      "metadata": {
        "execution": {
          "iopub.execute_input": "2021-04-02T02:05:46.319060Z",
          "iopub.status.busy": "2021-04-02T02:05:46.318253Z",
          "iopub.status.idle": "2021-04-02T02:05:53.942328Z",
          "shell.execute_reply": "2021-04-02T02:05:53.941694Z"
        },
        "id": "tnxXKDjq3jEL"
      },
      "source": [
        "import tensorflow as tf\n",
        "\n",
        "import matplotlib.pyplot as plt\n",
        "import matplotlib.ticker as ticker\n",
        "from sklearn.model_selection import train_test_split\n",
        "\n",
        "import unicodedata\n",
        "import re\n",
        "import numpy as np\n",
        "import os\n",
        "import io\n",
        "import time"
      ],
      "execution_count": 1,
      "outputs": []
    },
    {
      "cell_type": "markdown",
      "metadata": {
        "id": "wfodePkj3jEa"
      },
      "source": [
        "## Download and prepare the dataset\n",
        "\n",
        "Возьмем готовый дата сет http://www.manythings.org/anki/. Данные устроены следующим образом:\n",
        "\n",
        "```\n",
        "May I borrow this book?\tМогу ли я одолжить книгу\n",
        "```\n",
        "Плюс какая-то дичь... (для русского языка в частности)\n",
        "\n",
        "Что нам надо еще сделать с текстом\n",
        "1. добавить *start* и *end* токен в каждое предложении.\n",
        "2. Почистим все от ненужного (разные непонятные знаки).\n",
        "3. Создать пару словарей (dictionaries mapping from word → id and id → word).\n",
        "4. Ну и уровнять предложение по длине."
      ]
    },
    {
      "cell_type": "code",
      "metadata": {
        "execution": {
          "iopub.execute_input": "2021-04-02T02:05:53.949099Z",
          "iopub.status.busy": "2021-04-02T02:05:53.948369Z",
          "iopub.status.idle": "2021-04-02T02:05:54.223340Z",
          "shell.execute_reply": "2021-04-02T02:05:54.223810Z"
        },
        "id": "kRVATYOgJs1b"
      },
      "source": [
        "# Путь до файла\n",
        "\n",
        "path_to_file = \"rus.txt\""
      ],
      "execution_count": 2,
      "outputs": []
    },
    {
      "cell_type": "code",
      "metadata": {
        "colab": {
          "base_uri": "https://localhost:8080/"
        },
        "id": "MC3ZkLq5Alc9",
        "outputId": "d325fa7d-11da-44e1-fe3d-91e1c18e08f0"
      },
      "source": [
        "!nvidia-smi"
      ],
      "execution_count": 3,
      "outputs": [
        {
          "output_type": "stream",
          "name": "stdout",
          "text": [
            "Sat Oct  2 13:02:52 2021       \n",
            "+-----------------------------------------------------------------------------+\n",
            "| NVIDIA-SMI 470.74       Driver Version: 460.32.03    CUDA Version: 11.2     |\n",
            "|-------------------------------+----------------------+----------------------+\n",
            "| GPU  Name        Persistence-M| Bus-Id        Disp.A | Volatile Uncorr. ECC |\n",
            "| Fan  Temp  Perf  Pwr:Usage/Cap|         Memory-Usage | GPU-Util  Compute M. |\n",
            "|                               |                      |               MIG M. |\n",
            "|===============================+======================+======================|\n",
            "|   0  Tesla K80           Off  | 00000000:00:04.0 Off |                    0 |\n",
            "| N/A   73C    P0    78W / 149W |      0MiB / 11441MiB |      0%      Default |\n",
            "|                               |                      |                  N/A |\n",
            "+-------------------------------+----------------------+----------------------+\n",
            "                                                                               \n",
            "+-----------------------------------------------------------------------------+\n",
            "| Processes:                                                                  |\n",
            "|  GPU   GI   CI        PID   Type   Process name                  GPU Memory |\n",
            "|        ID   ID                                                   Usage      |\n",
            "|=============================================================================|\n",
            "|  No running processes found                                                 |\n",
            "+-----------------------------------------------------------------------------+\n"
          ]
        }
      ]
    },
    {
      "cell_type": "code",
      "metadata": {
        "execution": {
          "iopub.execute_input": "2021-04-02T02:05:54.230405Z",
          "iopub.status.busy": "2021-04-02T02:05:54.229722Z",
          "iopub.status.idle": "2021-04-02T02:05:54.232166Z",
          "shell.execute_reply": "2021-04-02T02:05:54.231684Z"
        },
        "id": "rd0jw-eC3jEh"
      },
      "source": [
        "def preprocess_sentence(w):\n",
        "\n",
        "    w.lower().strip()\n",
        "\n",
        "    # Чистим выборку от разных знаков препинания\n",
        "    # Убираем двойной пробел\n",
        "    w = re.sub(r\"([?.!,¿])\", r\" \\1 \", w)\n",
        "    w = re.sub(r'[\" \"]+', \" \", w)\n",
        "\n",
        "    # еще чистим\n",
        "    w = re.sub(r\"[^a-zA-Z?.!,^а-яА-Я]+\", \" \", w)\n",
        "\n",
        "    w = w.strip()\n",
        "\n",
        "    # добавляем токены начали окончания предложения\n",
        "    w = '<start> ' + w + ' <end>'\n",
        "    return w"
      ],
      "execution_count": 4,
      "outputs": []
    },
    {
      "cell_type": "code",
      "metadata": {
        "execution": {
          "iopub.execute_input": "2021-04-02T02:05:54.237054Z",
          "iopub.status.busy": "2021-04-02T02:05:54.236326Z",
          "iopub.status.idle": "2021-04-02T02:05:54.238623Z",
          "shell.execute_reply": "2021-04-02T02:05:54.239050Z"
        },
        "id": "opI2GzOt479E",
        "colab": {
          "base_uri": "https://localhost:8080/"
        },
        "outputId": "f7cb99be-1f81-4567-dec6-9ebd5cb6345d"
      },
      "source": [
        "en_sentence = u\"May I borrow this book?\"\n",
        "rus_sentence = u\"Могу ли я одолжить эту книгу?\"\n",
        "print(preprocess_sentence(en_sentence))\n",
        "print(preprocess_sentence(rus_sentence))"
      ],
      "execution_count": 5,
      "outputs": [
        {
          "output_type": "stream",
          "name": "stdout",
          "text": [
            "<start> May I borrow this book ? <end>\n",
            "<start> Могу ли я одолжить эту книгу ? <end>\n"
          ]
        }
      ]
    },
    {
      "cell_type": "code",
      "metadata": {
        "execution": {
          "iopub.execute_input": "2021-04-02T02:05:54.244176Z",
          "iopub.status.busy": "2021-04-02T02:05:54.243533Z",
          "iopub.status.idle": "2021-04-02T02:05:54.245253Z",
          "shell.execute_reply": "2021-04-02T02:05:54.245661Z"
        },
        "id": "OHn4Dct23jEm"
      },
      "source": [
        "# 1. Считали\n",
        "# 2. почистили предложения\n",
        "# 3. Вернули в след формате: [ENGLISH, RUSSIAN, Какая-то фигня]\n",
        "def create_dataset(path, num_examples):\n",
        "    lines = io.open(path, encoding='UTF-8').read().strip().split('\\n')\n",
        "\n",
        "    word_pairs = [[preprocess_sentence(w) for w in line.split('\\t')]\n",
        "                for line in lines[:num_examples]]\n",
        "\n",
        "    return list(zip(*word_pairs))"
      ],
      "execution_count": 6,
      "outputs": []
    },
    {
      "cell_type": "code",
      "metadata": {
        "execution": {
          "iopub.execute_input": "2021-04-02T02:05:54.249732Z",
          "iopub.status.busy": "2021-04-02T02:05:54.249072Z",
          "iopub.status.idle": "2021-04-02T02:05:58.938561Z",
          "shell.execute_reply": "2021-04-02T02:05:58.937916Z"
        },
        "id": "cTbSbBz55QtF",
        "scrolled": true,
        "colab": {
          "base_uri": "https://localhost:8080/"
        },
        "outputId": "00e07f14-21d0-4501-8873-91bba00571b7"
      },
      "source": [
        "%%time\n",
        "en,rus,non_know = create_dataset(path_to_file, None)\n",
        "print(en[10])\n",
        "print(rus[10])"
      ],
      "execution_count": 7,
      "outputs": [
        {
          "output_type": "stream",
          "name": "stdout",
          "text": [
            "<start> Run . <end>\n",
            "<start> Беги ! <end>\n",
            "CPU times: user 19.2 s, sys: 513 ms, total: 19.7 s\n",
            "Wall time: 19.7 s\n"
          ]
        }
      ]
    },
    {
      "cell_type": "code",
      "metadata": {
        "colab": {
          "base_uri": "https://localhost:8080/"
        },
        "id": "yn0DjWn-AZHw",
        "outputId": "c84237c5-9673-4c78-ff53-39d288854cb8"
      },
      "source": [
        "print(en[10100])\n",
        "print(rus[10100])"
      ],
      "execution_count": 8,
      "outputs": [
        {
          "output_type": "stream",
          "name": "stdout",
          "text": [
            "<start> I felt strong . <end>\n",
            "<start> Я почувствовал себя сильным . <end>\n"
          ]
        }
      ]
    },
    {
      "cell_type": "code",
      "metadata": {
        "colab": {
          "base_uri": "https://localhost:8080/"
        },
        "id": "agLSBZpHAZHx",
        "outputId": "98a6e3e2-9b6b-4ec1-fd41-c2475dc615b4"
      },
      "source": [
        "print(en[-1])\n",
        "print(rus[-1])"
      ],
      "execution_count": 9,
      "outputs": [
        {
          "output_type": "stream",
          "name": "stdout",
          "text": [
            "<start> Doubtless there exists in this world precisely the right woman for any given man to marry and vice versa but when you consider that a human being has the opportunity of being acquainted with only a few hundred people , and out of the few hundred that there are but a dozen or less whom he knows intimately , and out of the dozen , one or two friends at most , it will easily be seen , when we remember the number of millions who inhabit this world , that probably , since the earth was created , the right man has never yet met the right woman . <end>\n",
            "<start> Несомненно , для каждого мужчины в этом мире где то есть подходящая женщина , которая может стать ему женой , обратное верно и для женщин . Но если учесть , что у человека может быть максимум несколько сотен знакомых , из которых лишь дюжина , а то и меньше , тех , кого он знает близко , а из этой дюжины у него один или от силы два друга , то можно легко увидеть , что с учетом миллионов живущих на Земле людей , ни один подходящий мужчина , возможно , еще не встретил подходящую женщину . <end>\n"
          ]
        }
      ]
    },
    {
      "cell_type": "code",
      "metadata": {
        "colab": {
          "base_uri": "https://localhost:8080/"
        },
        "id": "dFixktSeAZHx",
        "outputId": "3380afa8-d28d-4380-9c02-20b0ffb09714"
      },
      "source": [
        "len(rus)"
      ],
      "execution_count": 10,
      "outputs": [
        {
          "output_type": "execute_result",
          "data": {
            "text/plain": [
              "421765"
            ]
          },
          "metadata": {},
          "execution_count": 10
        }
      ]
    },
    {
      "cell_type": "code",
      "metadata": {
        "execution": {
          "iopub.execute_input": "2021-04-02T02:05:58.943609Z",
          "iopub.status.busy": "2021-04-02T02:05:58.942960Z",
          "iopub.status.idle": "2021-04-02T02:05:58.945350Z",
          "shell.execute_reply": "2021-04-02T02:05:58.944751Z"
        },
        "id": "bIOn8RCNDJXG"
      },
      "source": [
        "def tokenize(lang):\n",
        "    # токенизируем\n",
        "    lang_tokenizer = tf.keras.preprocessing.text.Tokenizer(filters='')\n",
        "    lang_tokenizer.fit_on_texts(lang)\n",
        "    tensor = lang_tokenizer.texts_to_sequences(lang)\n",
        "    # добавляем padding \n",
        "    tensor = tf.keras.preprocessing.sequence.pad_sequences(tensor,\n",
        "                                                         padding='post')\n",
        "\n",
        "    return tensor, lang_tokenizer"
      ],
      "execution_count": 11,
      "outputs": []
    },
    {
      "cell_type": "code",
      "metadata": {
        "execution": {
          "iopub.execute_input": "2021-04-02T02:05:58.950087Z",
          "iopub.status.busy": "2021-04-02T02:05:58.949434Z",
          "iopub.status.idle": "2021-04-02T02:05:58.951355Z",
          "shell.execute_reply": "2021-04-02T02:05:58.951753Z"
        },
        "id": "eAY9k49G3jE_"
      },
      "source": [
        "def load_dataset(path, num_examples=None):\n",
        "    # считали, вернули пары\n",
        "    targ_lang, inp_lang,non_known = create_dataset(path, num_examples)\n",
        "\n",
        "    input_tensor, inp_lang_tokenizer = tokenize(inp_lang)\n",
        "    target_tensor, targ_lang_tokenizer = tokenize(targ_lang)\n",
        "\n",
        "    return input_tensor, target_tensor, inp_lang_tokenizer, targ_lang_tokenizer"
      ],
      "execution_count": 12,
      "outputs": []
    },
    {
      "cell_type": "markdown",
      "metadata": {
        "id": "GOi42V79Ydlr"
      },
      "source": [
        "### Limit the size of the dataset to experiment faster (optional)\n",
        "\n",
        "Обучение на всех данных длительный процесс. Можем взять кусок данных и надеяться что все заработает)"
      ]
    },
    {
      "cell_type": "code",
      "metadata": {
        "execution": {
          "iopub.execute_input": "2021-04-02T02:05:58.956299Z",
          "iopub.status.busy": "2021-04-02T02:05:58.955657Z",
          "iopub.status.idle": "2021-04-02T02:06:00.872187Z",
          "shell.execute_reply": "2021-04-02T02:06:00.871006Z"
        },
        "id": "cnxC7q-j3jFD"
      },
      "source": [
        "# Выбор количества примеров это важная часть\n",
        "num_examples = 50000\n",
        "input_tensor, target_tensor, inp_lang, targ_lang = load_dataset(path_to_file,\n",
        "                                                                num_examples)\n",
        "\n",
        "# считаем максимальные длины всех предложений\n",
        "max_length_targ, max_length_inp = target_tensor.shape[1], input_tensor.shape[1]"
      ],
      "execution_count": 13,
      "outputs": []
    },
    {
      "cell_type": "code",
      "metadata": {
        "execution": {
          "iopub.execute_input": "2021-04-02T02:06:00.877965Z",
          "iopub.status.busy": "2021-04-02T02:06:00.877301Z",
          "iopub.status.idle": "2021-04-02T02:06:00.885478Z",
          "shell.execute_reply": "2021-04-02T02:06:00.885907Z"
        },
        "id": "4QILQkOs3jFG",
        "colab": {
          "base_uri": "https://localhost:8080/"
        },
        "outputId": "8756f15b-4e63-4dec-99e2-fbd84ea5ef35"
      },
      "source": [
        "# Трейн тест сплит\n",
        "input_tensor_train, input_tensor_val, target_tensor_train, target_tensor_val = train_test_split(input_tensor, target_tensor, test_size=0.2)\n",
        "\n",
        "\n",
        "print(len(input_tensor_train), len(target_tensor_train), len(input_tensor_val), len(target_tensor_val))"
      ],
      "execution_count": 14,
      "outputs": [
        {
          "output_type": "stream",
          "name": "stdout",
          "text": [
            "40000 40000 10000 10000\n"
          ]
        }
      ]
    },
    {
      "cell_type": "code",
      "metadata": {
        "execution": {
          "iopub.execute_input": "2021-04-02T02:06:00.890450Z",
          "iopub.status.busy": "2021-04-02T02:06:00.889841Z",
          "iopub.status.idle": "2021-04-02T02:06:00.891656Z",
          "shell.execute_reply": "2021-04-02T02:06:00.892047Z"
        },
        "id": "lJPmLZGMeD5q"
      },
      "source": [
        "# преврощение в словари\n",
        "def convert(lang, tensor):\n",
        "    for t in tensor:\n",
        "        if t != 0:\n",
        "            print(f'{t} ----> {lang.index_word[t]}')"
      ],
      "execution_count": 15,
      "outputs": []
    },
    {
      "cell_type": "code",
      "metadata": {
        "colab": {
          "base_uri": "https://localhost:8080/"
        },
        "id": "XoM9xVaTAZH0",
        "outputId": "77d0378b-369c-41b2-e9dc-b2e591c9a7b8"
      },
      "source": [
        "input_tensor_val"
      ],
      "execution_count": 16,
      "outputs": [
        {
          "output_type": "execute_result",
          "data": {
            "text/plain": [
              "array([[   1,  228,   25, ...,    0,    0,    0],\n",
              "       [   1,  762,   18, ...,    0,    0,    0],\n",
              "       [   1,   12,  207, ...,    0,    0,    0],\n",
              "       ...,\n",
              "       [   1,    4, 1116, ...,    0,    0,    0],\n",
              "       [   1, 5433,   19, ...,    0,    0,    0],\n",
              "       [   1,    4, 9172, ...,    0,    0,    0]], dtype=int32)"
            ]
          },
          "metadata": {},
          "execution_count": 16
        }
      ]
    },
    {
      "cell_type": "code",
      "metadata": {
        "execution": {
          "iopub.execute_input": "2021-04-02T02:06:00.896593Z",
          "iopub.status.busy": "2021-04-02T02:06:00.895919Z",
          "iopub.status.idle": "2021-04-02T02:06:00.899899Z",
          "shell.execute_reply": "2021-04-02T02:06:00.900291Z"
        },
        "id": "VXukARTDd7MT",
        "colab": {
          "base_uri": "https://localhost:8080/"
        },
        "outputId": "1d69cce3-2269-4653-d5d7-a6bda31b7bd4"
      },
      "source": [
        "print(\"Input Language; index to word mapping\")\n",
        "convert(inp_lang, input_tensor_train[0])\n",
        "print()\n",
        "print(\"Target Language; index to word mapping\")\n",
        "convert(targ_lang, target_tensor_train[0])"
      ],
      "execution_count": 17,
      "outputs": [
        {
          "output_type": "stream",
          "name": "stdout",
          "text": [
            "Input Language; index to word mapping\n",
            "1 ----> <start>\n",
            "9 ----> ты\n",
            "236 ----> хочешь\n",
            "474 ----> детей\n",
            "5 ----> ?\n",
            "2 ----> <end>\n",
            "\n",
            "Target Language; index to word mapping\n",
            "1 ----> <start>\n",
            "22 ----> do\n",
            "6 ----> you\n",
            "65 ----> want\n",
            "336 ----> kids\n",
            "7 ----> ?\n",
            "2 ----> <end>\n"
          ]
        }
      ]
    },
    {
      "cell_type": "markdown",
      "metadata": {
        "id": "rgCLkfv5uO3d"
      },
      "source": [
        "### Create a tf.data dataset"
      ]
    },
    {
      "cell_type": "code",
      "metadata": {
        "execution": {
          "iopub.execute_input": "2021-04-02T02:06:02.295930Z",
          "iopub.status.busy": "2021-04-02T02:06:02.295179Z",
          "iopub.status.idle": "2021-04-02T02:06:02.299622Z",
          "shell.execute_reply": "2021-04-02T02:06:02.300061Z"
        },
        "id": "TqHsArVZ3jFS"
      },
      "source": [
        "BUFFER_SIZE = len(input_tensor_train)\n",
        "BATCH_SIZE = 512\n",
        "steps_per_epoch = len(input_tensor_train)//BATCH_SIZE\n",
        "embedding_dim = 256\n",
        "units = 1024\n",
        "vocab_inp_size = len(inp_lang.word_index)+1\n",
        "vocab_tar_size = len(targ_lang.word_index)+1\n",
        "\n",
        "dataset = tf.data.Dataset.from_tensor_slices((input_tensor_train, target_tensor_train)).shuffle(BUFFER_SIZE)\n",
        "dataset = dataset.batch(BATCH_SIZE, drop_remainder=True)"
      ],
      "execution_count": 18,
      "outputs": []
    },
    {
      "cell_type": "code",
      "metadata": {
        "execution": {
          "iopub.execute_input": "2021-04-02T02:06:02.306484Z",
          "iopub.status.busy": "2021-04-02T02:06:02.303896Z",
          "iopub.status.idle": "2021-04-02T02:06:02.343281Z",
          "shell.execute_reply": "2021-04-02T02:06:02.343717Z"
        },
        "id": "qc6-NK1GtWQt",
        "colab": {
          "base_uri": "https://localhost:8080/"
        },
        "outputId": "d2e1f530-620b-4136-9bf8-903c0c348e4e"
      },
      "source": [
        "example_input_batch, example_target_batch = next(iter(dataset))\n",
        "example_input_batch.shape, example_target_batch.shape"
      ],
      "execution_count": 19,
      "outputs": [
        {
          "output_type": "execute_result",
          "data": {
            "text/plain": [
              "(TensorShape([512, 15]), TensorShape([512, 9]))"
            ]
          },
          "metadata": {},
          "execution_count": 19
        }
      ]
    },
    {
      "cell_type": "markdown",
      "metadata": {
        "id": "TNfHIF71ulLu"
      },
      "source": [
        "## Write the encoder and decoder model\n",
        "\n",
        "Пример реалзиации энкодера и декодера для машинного перевода можно чекнуть тут [Neural Machine Translation (seq2seq) tutorial](https://github.com/tensorflow/nmt). Мы же посмотрим на attention [attention equations](https://github.com/tensorflow/nmt#background-on-the-attention-mechanism). На картинке смотрим, что там происходит с вниманием. Объяснение взято из статьи [Luong's paper](https://arxiv.org/abs/1508.04025v5). \n",
        "\n",
        "<img src=\"https://www.tensorflow.org/images/seq2seq/attention_mechanism.jpg\" width=\"500\" alt=\"attention mechanism\">\n",
        "\n",
        "Мы возвращаем все последовательность скрытых состояний из encoder *(batch_size, max_length, hidden_size)* и последнее скрытые состояния *(batch_size, hidden_size)*.\n",
        "\n",
        "Можем посмотреть на уравнения, которые у нас есть:\n",
        "\n",
        "<img src=\"https://www.tensorflow.org/images/seq2seq/attention_equation_0.jpg\" alt=\"attention equation 0\" width=\"800\">\n",
        "<img src=\"https://www.tensorflow.org/images/seq2seq/attention_equation_1.jpg\" alt=\"attention equation 1\" width=\"800\">\n",
        "\n",
        "Мы возьме вот такой attention [Bahdanau attention](https://arxiv.org/pdf/1409.0473.pdf) для энкодера. и  можем взять описание того, что есть:\n",
        "\n",
        "* FC = Fully connected (dense) layer\n",
        "* EO = Encoder output\n",
        "* H = hidden state\n",
        "* X = input to the decoder\n",
        "\n",
        "И наш псевдо-код:\n",
        "\n",
        "* `score = FC(tanh(FC(EO) + FC(H)))`\n",
        "* `attention weights = softmax(score, axis = 1)`. Softmax по умолчанию применяется к последней оси нашего тензора, но здесь мы хотим применить его к * 1-й оси *, так как наши данные имеют следующий вид * (batch_size, max_length, hidden_size) *. Max_length - длина нашей последовательности. И мы хотим дать вес каждому элементу последовательности, поэтому и применяем softmax именно так.\n",
        "\n",
        "* `context vector = sum(attention weights * EO, axis = 1)`. \n",
        "* `embedding output` = Эмбедим наш выход.\n",
        "* `merged vector = concat(embedding output, context vector)`\n",
        "* И этот вектор мы и отдаем дальше\n",
        "\n",
        "Смотрим на реализацию!"
      ]
    },
    {
      "cell_type": "code",
      "metadata": {
        "execution": {
          "iopub.execute_input": "2021-04-02T02:06:02.350331Z",
          "iopub.status.busy": "2021-04-02T02:06:02.349711Z",
          "iopub.status.idle": "2021-04-02T02:06:02.351948Z",
          "shell.execute_reply": "2021-04-02T02:06:02.351453Z"
        },
        "id": "nZ2rI24i3jFg"
      },
      "source": [
        "class Encoder(tf.keras.Model):\n",
        "    def __init__(self, vocab_size, embedding_dim, enc_units, batch_sz):\n",
        "        super(Encoder, self).__init__()\n",
        "        self.batch_sz = batch_sz\n",
        "        self.enc_units = enc_units\n",
        "        self.embedding = tf.keras.layers.Embedding(vocab_size, embedding_dim)\n",
        "        self.gru = tf.keras.layers.GRU(self.enc_units,\n",
        "                                       return_sequences=True,\n",
        "                                       return_state=True,\n",
        "                                       recurrent_initializer='glorot_uniform')\n",
        "\n",
        "    def call(self, x, hidden):\n",
        "        x = self.embedding(x)\n",
        "        output, state = self.gru(x, initial_state=hidden)\n",
        "        return output, state\n",
        "\n",
        "    def initialize_hidden_state(self):\n",
        "        return tf.zeros((self.batch_sz, self.enc_units))"
      ],
      "execution_count": 20,
      "outputs": []
    },
    {
      "cell_type": "code",
      "metadata": {
        "execution": {
          "iopub.execute_input": "2021-04-02T02:06:02.356314Z",
          "iopub.status.busy": "2021-04-02T02:06:02.355683Z",
          "iopub.status.idle": "2021-04-02T02:06:04.086751Z",
          "shell.execute_reply": "2021-04-02T02:06:04.086199Z"
        },
        "id": "60gSVh05Jl6l",
        "colab": {
          "base_uri": "https://localhost:8080/"
        },
        "outputId": "92ae33c5-e638-4d4d-dc0e-b116ab9b2efb"
      },
      "source": [
        "encoder = Encoder(vocab_inp_size, embedding_dim, units, BATCH_SIZE)\n",
        "\n",
        "# пример всего того, что у нас получилося\n",
        "sample_hidden = encoder.initialize_hidden_state()\n",
        "sample_output, sample_hidden = encoder(example_input_batch, sample_hidden)\n",
        "print('Encoder output shape: (batch size, sequence length, units)', sample_output.shape)\n",
        "print('Encoder Hidden state shape: (batch size, units)', sample_hidden.shape)"
      ],
      "execution_count": 21,
      "outputs": [
        {
          "output_type": "stream",
          "name": "stdout",
          "text": [
            "Encoder output shape: (batch size, sequence length, units) (512, 15, 1024)\n",
            "Encoder Hidden state shape: (batch size, units) (512, 1024)\n"
          ]
        }
      ]
    },
    {
      "cell_type": "code",
      "metadata": {
        "execution": {
          "iopub.execute_input": "2021-04-02T02:06:04.093942Z",
          "iopub.status.busy": "2021-04-02T02:06:04.093325Z",
          "iopub.status.idle": "2021-04-02T02:06:04.094939Z",
          "shell.execute_reply": "2021-04-02T02:06:04.095292Z"
        },
        "id": "umohpBN2OM94"
      },
      "source": [
        "class BahdanauAttention(tf.keras.layers.Layer):\n",
        "    def __init__(self, units):\n",
        "        super(BahdanauAttention, self).__init__()\n",
        "        self.W1 = tf.keras.layers.Dense(units)\n",
        "        self.W2 = tf.keras.layers.Dense(units)\n",
        "        self.V = tf.keras.layers.Dense(1)\n",
        "\n",
        "    def call(self, query, values):\n",
        "        # query hidden state shape == (batch_size, hidden size)\n",
        "        # query_with_time_axis shape == (batch_size, 1, hidden size)\n",
        "        # values shape == (batch_size, max_len, hidden size)\n",
        "        # we are doing this to broadcast addition along the time axis to calculate the score\n",
        "        query_with_time_axis = tf.expand_dims(query, 1)\n",
        "\n",
        "        # score shape == (batch_size, max_length, 1)\n",
        "        # we get 1 at the last axis because we are applying score to self.V\n",
        "        # the shape of the tensor before applying self.V is (batch_size, max_length, units)\n",
        "        score = self.V(tf.nn.tanh(\n",
        "            self.W1(query_with_time_axis) + self.W2(values)))\n",
        "\n",
        "        # attention_weights shape == (batch_size, max_length, 1)\n",
        "        attention_weights = tf.nn.softmax(score, axis=1)\n",
        "\n",
        "        # context_vector shape after sum == (batch_size, hidden_size)\n",
        "        context_vector = attention_weights * values\n",
        "        context_vector = tf.reduce_sum(context_vector, axis=1)\n",
        "\n",
        "        return context_vector, attention_weights"
      ],
      "execution_count": 22,
      "outputs": []
    },
    {
      "cell_type": "code",
      "metadata": {
        "execution": {
          "iopub.execute_input": "2021-04-02T02:06:04.104567Z",
          "iopub.status.busy": "2021-04-02T02:06:04.103963Z",
          "iopub.status.idle": "2021-04-02T02:06:04.468862Z",
          "shell.execute_reply": "2021-04-02T02:06:04.468297Z"
        },
        "id": "k534zTHiDjQU",
        "colab": {
          "base_uri": "https://localhost:8080/"
        },
        "outputId": "f95f59e5-da79-4d70-a534-cf32493128ba"
      },
      "source": [
        "attention_layer = BahdanauAttention(10)\n",
        "attention_result, attention_weights = attention_layer(sample_hidden, sample_output)\n",
        "\n",
        "print(\"Attention result shape: (batch size, units)\", attention_result.shape)\n",
        "print(\"Attention weights shape: (batch_size, sequence_length, 1)\", attention_weights.shape)"
      ],
      "execution_count": 23,
      "outputs": [
        {
          "output_type": "stream",
          "name": "stdout",
          "text": [
            "Attention result shape: (batch size, units) (512, 1024)\n",
            "Attention weights shape: (batch_size, sequence_length, 1) (512, 15, 1)\n"
          ]
        }
      ]
    },
    {
      "cell_type": "code",
      "metadata": {
        "execution": {
          "iopub.execute_input": "2021-04-02T02:06:04.477387Z",
          "iopub.status.busy": "2021-04-02T02:06:04.476693Z",
          "iopub.status.idle": "2021-04-02T02:06:04.479107Z",
          "shell.execute_reply": "2021-04-02T02:06:04.478602Z"
        },
        "id": "yJ_B3mhW3jFk"
      },
      "source": [
        "class Decoder(tf.keras.Model):\n",
        "    def __init__(self, vocab_size, embedding_dim, dec_units, batch_sz):\n",
        "        super(Decoder, self).__init__()\n",
        "        self.batch_sz = batch_sz\n",
        "        self.dec_units = dec_units\n",
        "        self.embedding = tf.keras.layers.Embedding(vocab_size, embedding_dim)\n",
        "        self.gru = tf.keras.layers.GRU(self.dec_units,\n",
        "                                       return_sequences=True,\n",
        "                                       return_state=True,\n",
        "                                       recurrent_initializer='glorot_uniform')\n",
        "        self.fc = tf.keras.layers.Dense(vocab_size)\n",
        "\n",
        "        self.attention = BahdanauAttention(self.dec_units)\n",
        "\n",
        "    def call(self, x, hidden, enc_output):\n",
        "        # enc_output shape == (batch_size, max_length, hidden_size)\n",
        "        context_vector, attention_weights = self.attention(hidden, enc_output)\n",
        "\n",
        "        # x shape after passing through embedding == (batch_size, 1, embedding_dim)\n",
        "        x = self.embedding(x)\n",
        "\n",
        "        # x shape after concatenation == (batch_size, 1, embedding_dim + hidden_size)\n",
        "        x = tf.concat([tf.expand_dims(context_vector, 1), x], axis=-1)\n",
        "\n",
        "        output, state = self.gru(x)\n",
        "\n",
        "        # output shape == (batch_size * 1, hidden_size)\n",
        "        output = tf.reshape(output, (-1, output.shape[2]))\n",
        "\n",
        "        # output shape == (batch_size, vocab)\n",
        "        x = self.fc(output)\n",
        "\n",
        "        return x, state, attention_weights"
      ],
      "execution_count": 24,
      "outputs": []
    },
    {
      "cell_type": "code",
      "metadata": {
        "execution": {
          "iopub.execute_input": "2021-04-02T02:06:04.496328Z",
          "iopub.status.busy": "2021-04-02T02:06:04.485540Z",
          "iopub.status.idle": "2021-04-02T02:06:04.522733Z",
          "shell.execute_reply": "2021-04-02T02:06:04.522041Z"
        },
        "id": "P5UY8wko3jFp",
        "colab": {
          "base_uri": "https://localhost:8080/"
        },
        "outputId": "df108627-0e48-4535-b80f-ea96fbc3db03"
      },
      "source": [
        "decoder = Decoder(vocab_tar_size, embedding_dim, units, BATCH_SIZE)\n",
        "\n",
        "sample_decoder_output, _, _ = decoder(tf.random.uniform((BATCH_SIZE, 1)),\n",
        "                                      sample_hidden, sample_output)\n",
        "\n",
        "print('Decoder output shape: (batch_size, vocab size)', sample_decoder_output.shape)"
      ],
      "execution_count": 25,
      "outputs": [
        {
          "output_type": "stream",
          "name": "stdout",
          "text": [
            "Decoder output shape: (batch_size, vocab size) (512, 4774)\n"
          ]
        }
      ]
    },
    {
      "cell_type": "markdown",
      "metadata": {
        "id": "_ch_71VbIRfK"
      },
      "source": [
        "## Define the optimizer and the loss function"
      ]
    },
    {
      "cell_type": "code",
      "metadata": {
        "execution": {
          "iopub.execute_input": "2021-04-02T02:06:04.530148Z",
          "iopub.status.busy": "2021-04-02T02:06:04.528999Z",
          "iopub.status.idle": "2021-04-02T02:06:04.531358Z",
          "shell.execute_reply": "2021-04-02T02:06:04.531807Z"
        },
        "id": "WmTHr5iV3jFr"
      },
      "source": [
        "optimizer = tf.keras.optimizers.Adam()\n",
        "loss_object = tf.keras.losses.SparseCategoricalCrossentropy(from_logits=True,\n",
        "                                                            reduction='none')\n",
        "\n",
        "\n",
        "def loss_function(real, pred):\n",
        "    mask = tf.math.logical_not(tf.math.equal(real, 0))\n",
        "    loss_ = loss_object(real, pred)\n",
        "\n",
        "    mask = tf.cast(mask, dtype=loss_.dtype)\n",
        "    loss_ *= mask\n",
        "\n",
        "    return tf.reduce_mean(loss_)"
      ],
      "execution_count": 26,
      "outputs": []
    },
    {
      "cell_type": "markdown",
      "metadata": {
        "id": "DMVWzzsfNl4e"
      },
      "source": [
        "## Checkpoints (Object-based saving)"
      ]
    },
    {
      "cell_type": "code",
      "metadata": {
        "execution": {
          "iopub.execute_input": "2021-04-02T02:06:04.537629Z",
          "iopub.status.busy": "2021-04-02T02:06:04.536506Z",
          "iopub.status.idle": "2021-04-02T02:06:04.539341Z",
          "shell.execute_reply": "2021-04-02T02:06:04.538675Z"
        },
        "id": "Zj8bXQTgNwrF"
      },
      "source": [
        "checkpoint_dir = './training_checkpoints'\n",
        "checkpoint_prefix = os.path.join(checkpoint_dir, \"ckpt\")\n",
        "checkpoint = tf.train.Checkpoint(optimizer=optimizer,\n",
        "                                 encoder=encoder,\n",
        "                                 decoder=decoder)"
      ],
      "execution_count": 27,
      "outputs": []
    },
    {
      "cell_type": "markdown",
      "metadata": {
        "id": "hpObfY22IddU"
      },
      "source": [
        "## Training\n",
        "\n",
        "\n",
        "1. Энкодим наш вход\n",
        "2. Выход энкодера засовываем в декодер\n",
        "3. Прогноз декодера используем для расчета лосса и возвращаем скрытое состояния для следующего прогноза\n",
        "4. Используем *teacher forcing* решаем какой инпут дать декодеру дальше.\n",
        "5. *Teacher forcing* это техника когда *target word* используем как *next input* декодер.\n",
        "6. Итоговый результат используем как результат и считаем лосс"
      ]
    },
    {
      "cell_type": "code",
      "metadata": {
        "execution": {
          "iopub.execute_input": "2021-04-02T02:06:04.548046Z",
          "iopub.status.busy": "2021-04-02T02:06:04.546948Z",
          "iopub.status.idle": "2021-04-02T02:06:04.549768Z",
          "shell.execute_reply": "2021-04-02T02:06:04.549234Z"
        },
        "id": "sC9ArXSsVfqn"
      },
      "source": [
        "@tf.function\n",
        "def train_step(inp, targ, enc_hidden):\n",
        "    loss = 0\n",
        "\n",
        "    with tf.GradientTape() as tape:\n",
        "        enc_output, enc_hidden = encoder(inp, enc_hidden)\n",
        "\n",
        "        dec_hidden = enc_hidden\n",
        "\n",
        "        dec_input = tf.expand_dims([targ_lang.word_index['<start>']] * BATCH_SIZE, 1)\n",
        "\n",
        "        # Teacher forcing - feeding the target as the next input\n",
        "        # Teacher forcing - скармливаем\n",
        "        for t in range(1, targ.shape[1]):\n",
        "            # passing enc_output to the decoder\n",
        "            predictions, dec_hidden, _ = decoder(dec_input, dec_hidden, enc_output)\n",
        "\n",
        "            loss += loss_function(targ[:, t], predictions)\n",
        "\n",
        "            # using teacher forcing\n",
        "            dec_input = tf.expand_dims(targ[:, t], 1)\n",
        "\n",
        "    batch_loss = (loss / int(targ.shape[1]))\n",
        "\n",
        "    variables = encoder.trainable_variables + decoder.trainable_variables\n",
        "\n",
        "    gradients = tape.gradient(loss, variables)\n",
        "\n",
        "    optimizer.apply_gradients(zip(gradients, variables))\n",
        "\n",
        "    return batch_loss"
      ],
      "execution_count": 28,
      "outputs": []
    },
    {
      "cell_type": "code",
      "metadata": {
        "execution": {
          "iopub.execute_input": "2021-04-02T02:06:04.557511Z",
          "iopub.status.busy": "2021-04-02T02:06:04.556354Z",
          "iopub.status.idle": "2021-04-02T02:08:53.650446Z",
          "shell.execute_reply": "2021-04-02T02:08:53.649859Z"
        },
        "id": "ddefjBMa3jF0",
        "colab": {
          "base_uri": "https://localhost:8080/",
          "height": 1000
        },
        "outputId": "af02a37e-af21-434a-f1b6-015db31f5ba2"
      },
      "source": [
        "EPOCHS = 1000\n",
        "\n",
        "for epoch in range(EPOCHS):\n",
        "    start = time.time()\n",
        "\n",
        "    enc_hidden = encoder.initialize_hidden_state()\n",
        "    total_loss = 0\n",
        "\n",
        "    for (batch, (inp, targ)) in enumerate(dataset.take(steps_per_epoch)):\n",
        "        batch_loss = train_step(inp, targ, enc_hidden)\n",
        "        total_loss += batch_loss\n",
        "\n",
        "        if batch % 100 == 0:\n",
        "            print(f'Epoch {epoch+1} Batch {batch} Loss {batch_loss.numpy():.4f}')\n",
        "        # сохранялка\n",
        "    if (epoch + 1) % 2 == 0:\n",
        "        checkpoint.save(file_prefix=checkpoint_prefix)\n",
        "\n",
        "    print(f'Epoch {epoch+1} Loss {total_loss/steps_per_epoch:.4f}')\n",
        "    print(f'Time taken for 1 epoch {time.time()-start:.2f} sec\\n')"
      ],
      "execution_count": 29,
      "outputs": [
        {
          "output_type": "stream",
          "name": "stdout",
          "text": [
            "Epoch 1 Batch 0 Loss 5.3110\n",
            "Epoch 1 Loss 2.8268\n",
            "Time taken for 1 epoch 60.07 sec\n",
            "\n",
            "Epoch 2 Batch 0 Loss 2.2561\n",
            "Epoch 2 Loss 2.0119\n",
            "Time taken for 1 epoch 46.27 sec\n",
            "\n",
            "Epoch 3 Batch 0 Loss 1.7420\n",
            "Epoch 3 Loss 1.6699\n",
            "Time taken for 1 epoch 45.43 sec\n",
            "\n",
            "Epoch 4 Batch 0 Loss 1.4953\n",
            "Epoch 4 Loss 1.4591\n",
            "Time taken for 1 epoch 46.02 sec\n",
            "\n",
            "Epoch 5 Batch 0 Loss 1.3339\n",
            "Epoch 5 Loss 1.2955\n",
            "Time taken for 1 epoch 45.52 sec\n",
            "\n",
            "Epoch 6 Batch 0 Loss 1.1947\n",
            "Epoch 6 Loss 1.1465\n",
            "Time taken for 1 epoch 46.11 sec\n",
            "\n",
            "Epoch 7 Batch 0 Loss 1.0205\n",
            "Epoch 7 Loss 1.0082\n",
            "Time taken for 1 epoch 45.51 sec\n",
            "\n",
            "Epoch 8 Batch 0 Loss 0.8723\n",
            "Epoch 8 Loss 0.8828\n",
            "Time taken for 1 epoch 46.15 sec\n",
            "\n",
            "Epoch 9 Batch 0 Loss 0.7857\n",
            "Epoch 9 Loss 0.7666\n",
            "Time taken for 1 epoch 45.55 sec\n",
            "\n",
            "Epoch 10 Batch 0 Loss 0.6642\n",
            "Epoch 10 Loss 0.6572\n",
            "Time taken for 1 epoch 46.21 sec\n",
            "\n",
            "Epoch 11 Batch 0 Loss 0.5498\n",
            "Epoch 11 Loss 0.5573\n",
            "Time taken for 1 epoch 45.44 sec\n",
            "\n",
            "Epoch 12 Batch 0 Loss 0.4792\n",
            "Epoch 12 Loss 0.4673\n",
            "Time taken for 1 epoch 46.09 sec\n",
            "\n",
            "Epoch 13 Batch 0 Loss 0.3502\n",
            "Epoch 13 Loss 0.3909\n",
            "Time taken for 1 epoch 45.53 sec\n",
            "\n",
            "Epoch 14 Batch 0 Loss 0.3052\n",
            "Epoch 14 Loss 0.3269\n",
            "Time taken for 1 epoch 46.11 sec\n",
            "\n",
            "Epoch 15 Batch 0 Loss 0.2639\n",
            "Epoch 15 Loss 0.2731\n",
            "Time taken for 1 epoch 45.51 sec\n",
            "\n",
            "Epoch 16 Batch 0 Loss 0.2430\n",
            "Epoch 16 Loss 0.2277\n",
            "Time taken for 1 epoch 46.08 sec\n",
            "\n",
            "Epoch 17 Batch 0 Loss 0.1641\n",
            "Epoch 17 Loss 0.1944\n",
            "Time taken for 1 epoch 45.52 sec\n",
            "\n",
            "Epoch 18 Batch 0 Loss 0.1622\n",
            "Epoch 18 Loss 0.1653\n",
            "Time taken for 1 epoch 46.10 sec\n",
            "\n",
            "Epoch 19 Batch 0 Loss 0.1319\n",
            "Epoch 19 Loss 0.1422\n",
            "Time taken for 1 epoch 45.43 sec\n",
            "\n",
            "Epoch 20 Batch 0 Loss 0.1113\n",
            "Epoch 20 Loss 0.1228\n",
            "Time taken for 1 epoch 46.09 sec\n",
            "\n",
            "Epoch 21 Batch 0 Loss 0.1065\n",
            "Epoch 21 Loss 0.1098\n",
            "Time taken for 1 epoch 45.44 sec\n",
            "\n",
            "Epoch 22 Batch 0 Loss 0.0867\n",
            "Epoch 22 Loss 0.0980\n",
            "Time taken for 1 epoch 46.10 sec\n",
            "\n",
            "Epoch 23 Batch 0 Loss 0.0761\n",
            "Epoch 23 Loss 0.0889\n",
            "Time taken for 1 epoch 45.46 sec\n",
            "\n",
            "Epoch 24 Batch 0 Loss 0.0702\n",
            "Epoch 24 Loss 0.0807\n",
            "Time taken for 1 epoch 46.17 sec\n",
            "\n",
            "Epoch 25 Batch 0 Loss 0.0637\n",
            "Epoch 25 Loss 0.0739\n",
            "Time taken for 1 epoch 45.39 sec\n",
            "\n",
            "Epoch 26 Batch 0 Loss 0.0600\n",
            "Epoch 26 Loss 0.0679\n",
            "Time taken for 1 epoch 46.06 sec\n",
            "\n",
            "Epoch 27 Batch 0 Loss 0.0549\n",
            "Epoch 27 Loss 0.0623\n",
            "Time taken for 1 epoch 45.43 sec\n",
            "\n",
            "Epoch 28 Batch 0 Loss 0.0448\n",
            "Epoch 28 Loss 0.0593\n",
            "Time taken for 1 epoch 46.10 sec\n",
            "\n",
            "Epoch 29 Batch 0 Loss 0.0465\n",
            "Epoch 29 Loss 0.0575\n",
            "Time taken for 1 epoch 45.51 sec\n",
            "\n",
            "Epoch 30 Batch 0 Loss 0.0454\n",
            "Epoch 30 Loss 0.0548\n",
            "Time taken for 1 epoch 46.08 sec\n",
            "\n",
            "Epoch 31 Batch 0 Loss 0.0446\n",
            "Epoch 31 Loss 0.0520\n",
            "Time taken for 1 epoch 81.91 sec\n",
            "\n",
            "Epoch 32 Batch 0 Loss 0.0419\n",
            "Epoch 32 Loss 0.0501\n",
            "Time taken for 1 epoch 46.47 sec\n",
            "\n",
            "Epoch 33 Batch 0 Loss 0.0409\n",
            "Epoch 33 Loss 0.0487\n",
            "Time taken for 1 epoch 45.65 sec\n",
            "\n",
            "Epoch 34 Batch 0 Loss 0.0379\n",
            "Epoch 34 Loss 0.0471\n",
            "Time taken for 1 epoch 46.22 sec\n",
            "\n",
            "Epoch 35 Batch 0 Loss 0.0428\n",
            "Epoch 35 Loss 0.0460\n",
            "Time taken for 1 epoch 45.50 sec\n",
            "\n",
            "Epoch 36 Batch 0 Loss 0.0399\n",
            "Epoch 36 Loss 0.0449\n",
            "Time taken for 1 epoch 46.19 sec\n",
            "\n",
            "Epoch 37 Batch 0 Loss 0.0342\n",
            "Epoch 37 Loss 0.0449\n",
            "Time taken for 1 epoch 45.61 sec\n",
            "\n",
            "Epoch 38 Batch 0 Loss 0.0371\n",
            "Epoch 38 Loss 0.0442\n",
            "Time taken for 1 epoch 46.15 sec\n",
            "\n",
            "Epoch 39 Batch 0 Loss 0.0344\n",
            "Epoch 39 Loss 0.0438\n",
            "Time taken for 1 epoch 45.55 sec\n",
            "\n",
            "Epoch 40 Batch 0 Loss 0.0330\n",
            "Epoch 40 Loss 0.0434\n",
            "Time taken for 1 epoch 46.24 sec\n",
            "\n",
            "Epoch 41 Batch 0 Loss 0.0347\n",
            "Epoch 41 Loss 0.0451\n",
            "Time taken for 1 epoch 45.48 sec\n",
            "\n",
            "Epoch 42 Batch 0 Loss 0.0333\n",
            "Epoch 42 Loss 0.0450\n",
            "Time taken for 1 epoch 46.22 sec\n",
            "\n",
            "Epoch 43 Batch 0 Loss 0.0447\n",
            "Epoch 43 Loss 0.0433\n",
            "Time taken for 1 epoch 45.50 sec\n",
            "\n",
            "Epoch 44 Batch 0 Loss 0.0375\n",
            "Epoch 44 Loss 0.0428\n",
            "Time taken for 1 epoch 46.26 sec\n",
            "\n",
            "Epoch 45 Batch 0 Loss 0.0338\n",
            "Epoch 45 Loss 0.0424\n",
            "Time taken for 1 epoch 45.41 sec\n",
            "\n",
            "Epoch 46 Batch 0 Loss 0.0322\n",
            "Epoch 46 Loss 0.0409\n",
            "Time taken for 1 epoch 46.00 sec\n",
            "\n",
            "Epoch 47 Batch 0 Loss 0.0323\n",
            "Epoch 47 Loss 0.0406\n",
            "Time taken for 1 epoch 45.11 sec\n",
            "\n",
            "Epoch 48 Batch 0 Loss 0.0337\n",
            "Epoch 48 Loss 0.0402\n",
            "Time taken for 1 epoch 45.82 sec\n",
            "\n",
            "Epoch 49 Batch 0 Loss 0.0298\n",
            "Epoch 49 Loss 0.0405\n",
            "Time taken for 1 epoch 45.53 sec\n",
            "\n",
            "Epoch 50 Batch 0 Loss 0.0315\n",
            "Epoch 50 Loss 0.0407\n",
            "Time taken for 1 epoch 46.18 sec\n",
            "\n",
            "Epoch 51 Batch 0 Loss 0.0349\n"
          ]
        },
        {
          "output_type": "error",
          "ename": "KeyboardInterrupt",
          "evalue": "ignored",
          "traceback": [
            "\u001b[0;31m---------------------------------------------------------------------------\u001b[0m",
            "\u001b[0;31mKeyboardInterrupt\u001b[0m                         Traceback (most recent call last)",
            "\u001b[0;32m<ipython-input-29-64e624768d65>\u001b[0m in \u001b[0;36m<module>\u001b[0;34m()\u001b[0m\n\u001b[1;32m      8\u001b[0m \u001b[0;34m\u001b[0m\u001b[0m\n\u001b[1;32m      9\u001b[0m     \u001b[0;32mfor\u001b[0m \u001b[0;34m(\u001b[0m\u001b[0mbatch\u001b[0m\u001b[0;34m,\u001b[0m \u001b[0;34m(\u001b[0m\u001b[0minp\u001b[0m\u001b[0;34m,\u001b[0m \u001b[0mtarg\u001b[0m\u001b[0;34m)\u001b[0m\u001b[0;34m)\u001b[0m \u001b[0;32min\u001b[0m \u001b[0menumerate\u001b[0m\u001b[0;34m(\u001b[0m\u001b[0mdataset\u001b[0m\u001b[0;34m.\u001b[0m\u001b[0mtake\u001b[0m\u001b[0;34m(\u001b[0m\u001b[0msteps_per_epoch\u001b[0m\u001b[0;34m)\u001b[0m\u001b[0;34m)\u001b[0m\u001b[0;34m:\u001b[0m\u001b[0;34m\u001b[0m\u001b[0;34m\u001b[0m\u001b[0m\n\u001b[0;32m---> 10\u001b[0;31m         \u001b[0mbatch_loss\u001b[0m \u001b[0;34m=\u001b[0m \u001b[0mtrain_step\u001b[0m\u001b[0;34m(\u001b[0m\u001b[0minp\u001b[0m\u001b[0;34m,\u001b[0m \u001b[0mtarg\u001b[0m\u001b[0;34m,\u001b[0m \u001b[0menc_hidden\u001b[0m\u001b[0;34m)\u001b[0m\u001b[0;34m\u001b[0m\u001b[0;34m\u001b[0m\u001b[0m\n\u001b[0m\u001b[1;32m     11\u001b[0m         \u001b[0mtotal_loss\u001b[0m \u001b[0;34m+=\u001b[0m \u001b[0mbatch_loss\u001b[0m\u001b[0;34m\u001b[0m\u001b[0;34m\u001b[0m\u001b[0m\n\u001b[1;32m     12\u001b[0m \u001b[0;34m\u001b[0m\u001b[0m\n",
            "\u001b[0;32m/usr/local/lib/python3.7/dist-packages/tensorflow/python/eager/def_function.py\u001b[0m in \u001b[0;36m__call__\u001b[0;34m(self, *args, **kwds)\u001b[0m\n\u001b[1;32m    883\u001b[0m \u001b[0;34m\u001b[0m\u001b[0m\n\u001b[1;32m    884\u001b[0m       \u001b[0;32mwith\u001b[0m \u001b[0mOptionalXlaContext\u001b[0m\u001b[0;34m(\u001b[0m\u001b[0mself\u001b[0m\u001b[0;34m.\u001b[0m\u001b[0m_jit_compile\u001b[0m\u001b[0;34m)\u001b[0m\u001b[0;34m:\u001b[0m\u001b[0;34m\u001b[0m\u001b[0;34m\u001b[0m\u001b[0m\n\u001b[0;32m--> 885\u001b[0;31m         \u001b[0mresult\u001b[0m \u001b[0;34m=\u001b[0m \u001b[0mself\u001b[0m\u001b[0;34m.\u001b[0m\u001b[0m_call\u001b[0m\u001b[0;34m(\u001b[0m\u001b[0;34m*\u001b[0m\u001b[0margs\u001b[0m\u001b[0;34m,\u001b[0m \u001b[0;34m**\u001b[0m\u001b[0mkwds\u001b[0m\u001b[0;34m)\u001b[0m\u001b[0;34m\u001b[0m\u001b[0;34m\u001b[0m\u001b[0m\n\u001b[0m\u001b[1;32m    886\u001b[0m \u001b[0;34m\u001b[0m\u001b[0m\n\u001b[1;32m    887\u001b[0m       \u001b[0mnew_tracing_count\u001b[0m \u001b[0;34m=\u001b[0m \u001b[0mself\u001b[0m\u001b[0;34m.\u001b[0m\u001b[0mexperimental_get_tracing_count\u001b[0m\u001b[0;34m(\u001b[0m\u001b[0;34m)\u001b[0m\u001b[0;34m\u001b[0m\u001b[0;34m\u001b[0m\u001b[0m\n",
            "\u001b[0;32m/usr/local/lib/python3.7/dist-packages/tensorflow/python/eager/def_function.py\u001b[0m in \u001b[0;36m_call\u001b[0;34m(self, *args, **kwds)\u001b[0m\n\u001b[1;32m    915\u001b[0m       \u001b[0;31m# In this case we have created variables on the first call, so we run the\u001b[0m\u001b[0;34m\u001b[0m\u001b[0;34m\u001b[0m\u001b[0;34m\u001b[0m\u001b[0m\n\u001b[1;32m    916\u001b[0m       \u001b[0;31m# defunned version which is guaranteed to never create variables.\u001b[0m\u001b[0;34m\u001b[0m\u001b[0;34m\u001b[0m\u001b[0;34m\u001b[0m\u001b[0m\n\u001b[0;32m--> 917\u001b[0;31m       \u001b[0;32mreturn\u001b[0m \u001b[0mself\u001b[0m\u001b[0;34m.\u001b[0m\u001b[0m_stateless_fn\u001b[0m\u001b[0;34m(\u001b[0m\u001b[0;34m*\u001b[0m\u001b[0margs\u001b[0m\u001b[0;34m,\u001b[0m \u001b[0;34m**\u001b[0m\u001b[0mkwds\u001b[0m\u001b[0;34m)\u001b[0m  \u001b[0;31m# pylint: disable=not-callable\u001b[0m\u001b[0;34m\u001b[0m\u001b[0;34m\u001b[0m\u001b[0m\n\u001b[0m\u001b[1;32m    918\u001b[0m     \u001b[0;32melif\u001b[0m \u001b[0mself\u001b[0m\u001b[0;34m.\u001b[0m\u001b[0m_stateful_fn\u001b[0m \u001b[0;32mis\u001b[0m \u001b[0;32mnot\u001b[0m \u001b[0;32mNone\u001b[0m\u001b[0;34m:\u001b[0m\u001b[0;34m\u001b[0m\u001b[0;34m\u001b[0m\u001b[0m\n\u001b[1;32m    919\u001b[0m       \u001b[0;31m# Release the lock early so that multiple threads can perform the call\u001b[0m\u001b[0;34m\u001b[0m\u001b[0;34m\u001b[0m\u001b[0;34m\u001b[0m\u001b[0m\n",
            "\u001b[0;32m/usr/local/lib/python3.7/dist-packages/tensorflow/python/eager/function.py\u001b[0m in \u001b[0;36m__call__\u001b[0;34m(self, *args, **kwargs)\u001b[0m\n\u001b[1;32m   3038\u001b[0m        filtered_flat_args) = self._maybe_define_function(args, kwargs)\n\u001b[1;32m   3039\u001b[0m     return graph_function._call_flat(\n\u001b[0;32m-> 3040\u001b[0;31m         filtered_flat_args, captured_inputs=graph_function.captured_inputs)  # pylint: disable=protected-access\n\u001b[0m\u001b[1;32m   3041\u001b[0m \u001b[0;34m\u001b[0m\u001b[0m\n\u001b[1;32m   3042\u001b[0m   \u001b[0;34m@\u001b[0m\u001b[0mproperty\u001b[0m\u001b[0;34m\u001b[0m\u001b[0;34m\u001b[0m\u001b[0m\n",
            "\u001b[0;32m/usr/local/lib/python3.7/dist-packages/tensorflow/python/eager/function.py\u001b[0m in \u001b[0;36m_call_flat\u001b[0;34m(self, args, captured_inputs, cancellation_manager)\u001b[0m\n\u001b[1;32m   1962\u001b[0m       \u001b[0;31m# No tape is watching; skip to running the function.\u001b[0m\u001b[0;34m\u001b[0m\u001b[0;34m\u001b[0m\u001b[0;34m\u001b[0m\u001b[0m\n\u001b[1;32m   1963\u001b[0m       return self._build_call_outputs(self._inference_function.call(\n\u001b[0;32m-> 1964\u001b[0;31m           ctx, args, cancellation_manager=cancellation_manager))\n\u001b[0m\u001b[1;32m   1965\u001b[0m     forward_backward = self._select_forward_and_backward_functions(\n\u001b[1;32m   1966\u001b[0m         \u001b[0margs\u001b[0m\u001b[0;34m,\u001b[0m\u001b[0;34m\u001b[0m\u001b[0;34m\u001b[0m\u001b[0m\n",
            "\u001b[0;32m/usr/local/lib/python3.7/dist-packages/tensorflow/python/eager/function.py\u001b[0m in \u001b[0;36mcall\u001b[0;34m(self, ctx, args, cancellation_manager)\u001b[0m\n\u001b[1;32m    594\u001b[0m               \u001b[0minputs\u001b[0m\u001b[0;34m=\u001b[0m\u001b[0margs\u001b[0m\u001b[0;34m,\u001b[0m\u001b[0;34m\u001b[0m\u001b[0;34m\u001b[0m\u001b[0m\n\u001b[1;32m    595\u001b[0m               \u001b[0mattrs\u001b[0m\u001b[0;34m=\u001b[0m\u001b[0mattrs\u001b[0m\u001b[0;34m,\u001b[0m\u001b[0;34m\u001b[0m\u001b[0;34m\u001b[0m\u001b[0m\n\u001b[0;32m--> 596\u001b[0;31m               ctx=ctx)\n\u001b[0m\u001b[1;32m    597\u001b[0m         \u001b[0;32melse\u001b[0m\u001b[0;34m:\u001b[0m\u001b[0;34m\u001b[0m\u001b[0;34m\u001b[0m\u001b[0m\n\u001b[1;32m    598\u001b[0m           outputs = execute.execute_with_cancellation(\n",
            "\u001b[0;32m/usr/local/lib/python3.7/dist-packages/tensorflow/python/eager/execute.py\u001b[0m in \u001b[0;36mquick_execute\u001b[0;34m(op_name, num_outputs, inputs, attrs, ctx, name)\u001b[0m\n\u001b[1;32m     58\u001b[0m     \u001b[0mctx\u001b[0m\u001b[0;34m.\u001b[0m\u001b[0mensure_initialized\u001b[0m\u001b[0;34m(\u001b[0m\u001b[0;34m)\u001b[0m\u001b[0;34m\u001b[0m\u001b[0;34m\u001b[0m\u001b[0m\n\u001b[1;32m     59\u001b[0m     tensors = pywrap_tfe.TFE_Py_Execute(ctx._handle, device_name, op_name,\n\u001b[0;32m---> 60\u001b[0;31m                                         inputs, attrs, num_outputs)\n\u001b[0m\u001b[1;32m     61\u001b[0m   \u001b[0;32mexcept\u001b[0m \u001b[0mcore\u001b[0m\u001b[0;34m.\u001b[0m\u001b[0m_NotOkStatusException\u001b[0m \u001b[0;32mas\u001b[0m \u001b[0me\u001b[0m\u001b[0;34m:\u001b[0m\u001b[0;34m\u001b[0m\u001b[0;34m\u001b[0m\u001b[0m\n\u001b[1;32m     62\u001b[0m     \u001b[0;32mif\u001b[0m \u001b[0mname\u001b[0m \u001b[0;32mis\u001b[0m \u001b[0;32mnot\u001b[0m \u001b[0;32mNone\u001b[0m\u001b[0;34m:\u001b[0m\u001b[0;34m\u001b[0m\u001b[0;34m\u001b[0m\u001b[0m\n",
            "\u001b[0;31mKeyboardInterrupt\u001b[0m: "
          ]
        }
      ]
    },
    {
      "cell_type": "markdown",
      "metadata": {
        "id": "mU3Ce8M6I3rz"
      },
      "source": [
        "## Translate\n",
        "\n",
        "* Все похоже на обучение, только мы не можем подсовывать нормальное слово в декодер.\n",
        "* Как только модель предсказала конец предложения останавливаем обучения\n",
        "* Храним выводы attention на каждом шаге\n"
      ]
    },
    {
      "cell_type": "code",
      "metadata": {
        "execution": {
          "iopub.execute_input": "2021-04-02T02:08:53.660425Z",
          "iopub.status.busy": "2021-04-02T02:08:53.659728Z",
          "iopub.status.idle": "2021-04-02T02:08:53.662480Z",
          "shell.execute_reply": "2021-04-02T02:08:53.662920Z"
        },
        "id": "EbQpyYs13jF_"
      },
      "source": [
        "def evaluate(sentence):\n",
        "    attention_plot = np.zeros((max_length_targ, max_length_inp))\n",
        "\n",
        "    sentence = preprocess_sentence(sentence)\n",
        "\n",
        "    inputs = [inp_lang.word_index[i] for i in sentence.split(' ')]\n",
        "    inputs = tf.keras.preprocessing.sequence.pad_sequences([inputs],\n",
        "                                                         maxlen=max_length_inp,\n",
        "                                                         padding='post')\n",
        "    inputs = tf.convert_to_tensor(inputs)\n",
        "\n",
        "    result = ''\n",
        "\n",
        "    hidden = [tf.zeros((1, units))]\n",
        "    enc_out, enc_hidden = encoder(inputs, hidden)\n",
        "\n",
        "    dec_hidden = enc_hidden\n",
        "    dec_input = tf.expand_dims([targ_lang.word_index['<start>']], 0)\n",
        "\n",
        "    for t in range(max_length_targ):\n",
        "        predictions, dec_hidden, attention_weights = decoder(dec_input,\n",
        "                                                             dec_hidden,\n",
        "                                                             enc_out)\n",
        "\n",
        "        # storing the attention weights to plot later on\n",
        "        attention_weights = tf.reshape(attention_weights, (-1, ))\n",
        "        attention_plot[t] = attention_weights.numpy()\n",
        "\n",
        "        predicted_id = tf.argmax(predictions[0]).numpy()\n",
        "\n",
        "        result += targ_lang.index_word[predicted_id] + ' '\n",
        "\n",
        "        if targ_lang.index_word[predicted_id] == '<end>':\n",
        "            return result, sentence, attention_plot\n",
        "\n",
        "    # the predicted ID is fed back into the model\n",
        "    dec_input = tf.expand_dims([predicted_id], 0)\n",
        "\n",
        "    return result, sentence, attention_plot"
      ],
      "execution_count": 30,
      "outputs": []
    },
    {
      "cell_type": "code",
      "metadata": {
        "execution": {
          "iopub.execute_input": "2021-04-02T02:08:53.669558Z",
          "iopub.status.busy": "2021-04-02T02:08:53.668870Z",
          "iopub.status.idle": "2021-04-02T02:08:53.670786Z",
          "shell.execute_reply": "2021-04-02T02:08:53.671189Z"
        },
        "id": "s5hQWlbN3jGF"
      },
      "source": [
        "# рисовалка внимания\n",
        "def plot_attention(attention, sentence, predicted_sentence):\n",
        "    fig = plt.figure(figsize=(10, 10))\n",
        "    ax = fig.add_subplot(1, 1, 1)\n",
        "    ax.matshow(attention, cmap='viridis')\n",
        "\n",
        "    fontdict = {'fontsize': 14}\n",
        "\n",
        "    ax.set_xticklabels([''] + sentence, fontdict=fontdict, rotation=90)\n",
        "    ax.set_yticklabels([''] + predicted_sentence, fontdict=fontdict)\n",
        "\n",
        "    ax.xaxis.set_major_locator(ticker.MultipleLocator(1))\n",
        "    ax.yaxis.set_major_locator(ticker.MultipleLocator(1))\n",
        "\n",
        "    plt.show()"
      ],
      "execution_count": 31,
      "outputs": []
    },
    {
      "cell_type": "code",
      "metadata": {
        "execution": {
          "iopub.execute_input": "2021-04-02T02:08:53.676258Z",
          "iopub.status.busy": "2021-04-02T02:08:53.675621Z",
          "iopub.status.idle": "2021-04-02T02:08:53.677985Z",
          "shell.execute_reply": "2021-04-02T02:08:53.677475Z"
        },
        "id": "sl9zUHzg3jGI"
      },
      "source": [
        "def translate(sentence):\n",
        "    result, sentence, attention_plot = evaluate(sentence)\n",
        "\n",
        "    print('Input:', sentence)\n",
        "    print('Predicted translation:', result)\n",
        "\n",
        "    attention_plot = attention_plot[:len(result.split(' ')),\n",
        "                                  :len(sentence.split(' '))]\n",
        "    plot_attention(attention_plot, sentence.split(' '), result.split(' '))"
      ],
      "execution_count": 32,
      "outputs": []
    },
    {
      "cell_type": "markdown",
      "metadata": {
        "id": "n250XbnjOaqP"
      },
      "source": [
        "## Restore the latest checkpoint and test"
      ]
    },
    {
      "cell_type": "code",
      "metadata": {
        "execution": {
          "iopub.execute_input": "2021-04-02T02:08:53.681733Z",
          "iopub.status.busy": "2021-04-02T02:08:53.681071Z",
          "iopub.status.idle": "2021-04-02T02:08:53.885040Z",
          "shell.execute_reply": "2021-04-02T02:08:53.884482Z"
        },
        "id": "UJpT9D5_OgP6",
        "colab": {
          "base_uri": "https://localhost:8080/"
        },
        "outputId": "0e741f44-d7da-4c00-953c-e4dd8db4d999"
      },
      "source": [
        "# restoring the latest checkpoint in checkpoint_dir\n",
        "checkpoint.restore(tf.train.latest_checkpoint(checkpoint_dir))"
      ],
      "execution_count": 33,
      "outputs": [
        {
          "output_type": "execute_result",
          "data": {
            "text/plain": [
              "<tensorflow.python.training.tracking.util.CheckpointLoadStatus at 0x7f96aa61b450>"
            ]
          },
          "metadata": {},
          "execution_count": 33
        }
      ]
    },
    {
      "cell_type": "code",
      "metadata": {
        "execution": {
          "iopub.execute_input": "2021-04-02T02:08:53.889827Z",
          "iopub.status.busy": "2021-04-02T02:08:53.889126Z",
          "iopub.status.idle": "2021-04-02T02:08:54.176938Z",
          "shell.execute_reply": "2021-04-02T02:08:54.176294Z"
        },
        "id": "WrAM0FDomq3E",
        "colab": {
          "base_uri": "https://localhost:8080/",
          "height": 679
        },
        "outputId": "8b9cc88b-850a-4d74-e00a-3fd5ae65b25d"
      },
      "source": [
        "translate(u'я очень старый человек .')"
      ],
      "execution_count": 34,
      "outputs": [
        {
          "output_type": "stream",
          "name": "stdout",
          "text": [
            "Input: <start> я очень старый человек . <end>\n",
            "Predicted translation: i a very very old thin shy . shy \n"
          ]
        },
        {
          "output_type": "display_data",
          "data": {
            "image/png": "[encoded data removed]",
            "text/plain": [
              "<Figure size 720x720 with 1 Axes>"
            ]
          },
          "metadata": {
            "needs_background": "light"
          }
        }
      ]
    },
    {
      "cell_type": "code",
      "metadata": {
        "colab": {
          "base_uri": "https://localhost:8080/",
          "height": 688
        },
        "id": "lCsf4iGITFxf",
        "outputId": "4e87bb91-2829-4a34-b0f4-2047427967ac"
      },
      "source": [
        "translate(u'мы поможем тебе.')"
      ],
      "execution_count": 51,
      "outputs": [
        {
          "output_type": "stream",
          "name": "stdout",
          "text": [
            "Input: <start> мы поможем тебе . <end>\n",
            "Predicted translation: we you you you you you help help help \n"
          ]
        },
        {
          "output_type": "display_data",
          "data": {
            "image/png": "[encoded data removed]",
            "text/plain": [
              "<Figure size 720x720 with 1 Axes>"
            ]
          },
          "metadata": {
            "needs_background": "light"
          }
        }
      ]
    },
    {
      "cell_type": "code",
      "metadata": {
        "colab": {
          "base_uri": "https://localhost:8080/",
          "height": 675
        },
        "id": "sOKZClZVP9RF",
        "outputId": "9ac78fc9-9825-4c0d-e291-671e2585e7bf"
      },
      "source": [
        "translate(u'мы помочь тебе.')"
      ],
      "execution_count": 49,
      "outputs": [
        {
          "output_type": "stream",
          "name": "stdout",
          "text": [
            "Input: <start> мы помочь тебе . <end>\n",
            "Predicted translation: we help help help help you you you you \n"
          ]
        },
        {
          "output_type": "display_data",
          "data": {
            "image/png": "[encoded data removed]",
            "text/plain": [
              "<Figure size 720x720 with 1 Axes>"
            ]
          },
          "metadata": {
            "needs_background": "light"
          }
        }
      ]
    },
    {
      "cell_type": "markdown",
      "metadata": {
        "id": "RTe5P5ioMJwN"
      },
      "source": [
        "## Next steps\n",
        "\n",
        "* Эксперементы :)\n"
      ]
    },
    {
      "cell_type": "code",
      "metadata": {
        "id": "mlkYPCfuAZIE"
      },
      "source": [
        ""
      ],
      "execution_count": null,
      "outputs": []
    }
  ]
}