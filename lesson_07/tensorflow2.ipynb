{
  "nbformat": 4,
  "nbformat_minor": 0,
  "metadata": {
    "kernelspec": {
      "display_name": "Python 3",
      "language": "python",
      "name": "python3"
    },
    "language_info": {
      "codemirror_mode": {
        "name": "ipython",
        "version": 3
      },
      "file_extension": ".py",
      "mimetype": "text/x-python",
      "name": "python",
      "nbconvert_exporter": "python",
      "pygments_lexer": "ipython3",
      "version": "3.7.4"
    },
    "colab": {
      "name": "tensorflow2.ipynb",
      "provenance": [],
      "collapsed_sections": []
    }
  },
  "cells": [
    {
      "cell_type": "markdown",
      "metadata": {
        "id": "V1NHQpCxuVTD"
      },
      "source": [
        "![](https://www.gstatic.com/devrel-devsite/v2355ed73ae6b243a36832e70498f2cd0b3f352ff30481ebdfdc56826b566bf8a/tensorflow/images/lockup.svg)\n",
        "\n",
        "До сегодняшнего дня мы собирали различные довольно простые модели в высокоуровневом API для [tensorflow](https://www.tensorflow.org/) под названием Keras. Сегодня, наконец, пришло время поиграться с голым \n",
        " функционалом библиотеки и посмотреть, как в нём собираются и обучаются самые простые модели. "
      ]
    },
    {
      "cell_type": "code",
      "metadata": {
        "id": "RxE3vm-juVTE"
      },
      "source": [
        "import numpy as np"
      ],
      "execution_count": null,
      "outputs": []
    },
    {
      "cell_type": "code",
      "metadata": {
        "colab": {
          "base_uri": "https://localhost:8080/",
          "height": 37
        },
        "id": "9Y6IBCOtuVTE",
        "outputId": "cdb2ec30-3e0a-42a7-eaa6-f1903d50541a"
      },
      "source": [
        "import tensorflow as tf\n",
        "tf.__version__"
      ],
      "execution_count": null,
      "outputs": [
        {
          "output_type": "execute_result",
          "data": {
            "application/vnd.google.colaboratory.intrinsic+json": {
              "type": "string"
            },
            "text/plain": [
              "'2.5.0'"
            ]
          },
          "metadata": {
            "tags": []
          },
          "execution_count": 2
        }
      ]
    },
    {
      "cell_type": "markdown",
      "metadata": {
        "id": "nCDbrXD3uVTF"
      },
      "source": [
        "# 0. Tensoflow teaser\n",
        "\n",
        "\n",
        "\n",
        "\n",
        "\n",
        "Давайте реализуем на `numpy` и на `tensorflow` функцию для поиска суммы квадратов первых $N$ чисел и посмотрим насколько быстро эти функции работают."
      ]
    },
    {
      "cell_type": "markdown",
      "metadata": {
        "id": "__Y6kdgTvc2B"
      },
      "source": [
        "Но давайте еще сравним скорость выполнения с простым питоном."
      ]
    },
    {
      "cell_type": "code",
      "metadata": {
        "id": "YgRfXXLUspgI"
      },
      "source": [
        "def python_sum_squares(N):\n",
        "    return sum([val ** 2 for val in range(N)])"
      ],
      "execution_count": null,
      "outputs": []
    },
    {
      "cell_type": "code",
      "metadata": {
        "id": "cmreb2ApuVTF"
      },
      "source": [
        "def np_sum_squares(N):\n",
        "    return np.sum(np.arange(N)**2)"
      ],
      "execution_count": null,
      "outputs": []
    },
    {
      "cell_type": "code",
      "metadata": {
        "id": "wv80uRVVvldR"
      },
      "source": [
        "N = 10**8"
      ],
      "execution_count": null,
      "outputs": []
    },
    {
      "cell_type": "markdown",
      "metadata": {
        "id": "sKiXjOzYvpvZ"
      },
      "source": [
        "Будет долго..почему так, у кого какие идеи?"
      ]
    },
    {
      "cell_type": "code",
      "metadata": {
        "colab": {
          "base_uri": "https://localhost:8080/"
        },
        "id": "-SLfuQULtgkA",
        "outputId": "beb3aedd-8347-4873-cd6d-03c4120f99a4"
      },
      "source": [
        "%time python_sum_squares(N)"
      ],
      "execution_count": null,
      "outputs": [
        {
          "output_type": "stream",
          "text": [
            "CPU times: user 32.2 s, sys: 1.67 s, total: 33.9 s\n",
            "Wall time: 33.9 s\n"
          ],
          "name": "stdout"
        },
        {
          "output_type": "execute_result",
          "data": {
            "text/plain": [
              "333333328333333350000000"
            ]
          },
          "metadata": {
            "tags": []
          },
          "execution_count": 21
        }
      ]
    },
    {
      "cell_type": "code",
      "metadata": {
        "colab": {
          "base_uri": "https://localhost:8080/"
        },
        "id": "o9DvMaRGuVTG",
        "outputId": "69c139e3-f2f4-4423-ab46-4f1f98ec0956"
      },
      "source": [
        "%timeit np_sum_squares(N)"
      ],
      "execution_count": null,
      "outputs": [
        {
          "output_type": "stream",
          "text": [
            "1 loop, best of 5: 340 ms per loop\n"
          ],
          "name": "stdout"
        }
      ]
    },
    {
      "cell_type": "markdown",
      "metadata": {
        "id": "QA_cGQuRuVTG"
      },
      "source": [
        "Tensorflow из-за того, что мы сначала задаём структуру вычислений, а после осуществляем их работает не сильно быстрее или даже медленнее, чем numpy."
      ]
    },
    {
      "cell_type": "code",
      "metadata": {
        "id": "oGpHrfK0uVTH"
      },
      "source": [
        "def tf_sum_squares(N):\n",
        "    N = tf.constant(N, dtype='int64')\n",
        "    return tf.reduce_sum((tf.range(N)**2))"
      ],
      "execution_count": null,
      "outputs": []
    },
    {
      "cell_type": "code",
      "metadata": {
        "colab": {
          "base_uri": "https://localhost:8080/"
        },
        "id": "Ha9CrshSuVTH",
        "outputId": "aef61a06-24e6-49c1-f69c-b40e98e32382"
      },
      "source": [
        "%%timeit\n",
        "tf_sum_squares(N)"
      ],
      "execution_count": null,
      "outputs": [
        {
          "output_type": "stream",
          "text": [
            "1 loop, best of 5: 319 ms per loop\n"
          ],
          "name": "stdout"
        }
      ]
    },
    {
      "cell_type": "markdown",
      "metadata": {
        "id": "j9A-j7_zuVTI"
      },
      "source": [
        "Более того, когда вы уже задали свой граф вычислений и убедились, что всё работает, можно вызвать декоратор `tf.function`. [Он сделает работу заданного графа](https://www.tensorflow.org/tutorials/customization/performance) более оптимальной и ещё ускорит код. "
      ]
    },
    {
      "cell_type": "code",
      "metadata": {
        "id": "KIgu_ohvuVTI"
      },
      "source": [
        "@tf.function\n",
        "def tf_sum_squares(N):\n",
        "    N = tf.constant(N, dtype='int64')\n",
        "    return tf.reduce_sum((tf.range(N)**2))"
      ],
      "execution_count": null,
      "outputs": []
    },
    {
      "cell_type": "code",
      "metadata": {
        "colab": {
          "base_uri": "https://localhost:8080/"
        },
        "id": "8TMORIb1uVTI",
        "outputId": "379c89ae-f3d4-416d-b591-a545af4de872"
      },
      "source": [
        "%%timeit\n",
        "tf_sum_squares(N)"
      ],
      "execution_count": null,
      "outputs": [
        {
          "output_type": "stream",
          "text": [
            "The slowest run took 35.48 times longer than the fastest. This could mean that an intermediate result is being cached.\n",
            "1000 loops, best of 5: 237 µs per loop\n"
          ],
          "name": "stdout"
        }
      ]
    },
    {
      "cell_type": "markdown",
      "metadata": {
        "id": "-kpF8Ae7uVTJ"
      },
      "source": [
        "Если сравнивать время, то мы видим значительный прогресс в скорости вычислений даже для простой задачи. Данный прирост будет значительно большим для сложных и тяжелых по памяти рассчетов.\n",
        "Однако стоит помнить, что в таких случая первый запуск всегда будет дольше, надо \"прогреть\" кэш."
      ]
    },
    {
      "cell_type": "markdown",
      "metadata": {
        "id": "OXHA9owduVTJ"
      },
      "source": [
        "# 1. Тензоры и базовые операции над ними\n",
        "\n",
        "Основной объект в tensorflow - это **тензор.** Или многомерный массив чисел. Чтобы не нужно было учить кучу новых команд, tensorflow косплеит numpy. \n",
        "\n",
        "```\n",
        "    np.zeros -> tf.zeros\n",
        "    np.sin -> tf.sin\n",
        "    np.mean -> tf.reduce_mean\n",
        "    np.arange -> tf.range\n",
        "    np.cumsum -> tf.cumsum\n",
        "```\n",
        "\n",
        "Правда говоря, не совсем косплеит. Но чаще всего оказываетс довольно близок."
      ]
    },
    {
      "cell_type": "code",
      "metadata": {
        "colab": {
          "base_uri": "https://localhost:8080/"
        },
        "id": "mD_yoKzOuVTJ",
        "outputId": "a3d4fdba-b6d1-4dd4-efeb-b95d58900cc1"
      },
      "source": [
        "# можно задать тензор из нулей\n",
        "tf.zeros([3, 4])"
      ],
      "execution_count": null,
      "outputs": [
        {
          "output_type": "execute_result",
          "data": {
            "text/plain": [
              "<tf.Tensor: shape=(3, 4), dtype=float32, numpy=\n",
              "array([[0., 0., 0., 0.],\n",
              "       [0., 0., 0., 0.],\n",
              "       [0., 0., 0., 0.]], dtype=float32)>"
            ]
          },
          "metadata": {
            "tags": []
          },
          "execution_count": 23
        }
      ]
    },
    {
      "cell_type": "code",
      "metadata": {
        "colab": {
          "base_uri": "https://localhost:8080/"
        },
        "id": "wEJKc1d_uVTK",
        "outputId": "799cae09-058a-4544-9128-c01b1a4834ae"
      },
      "source": [
        "# или из единиц, но уже более сложной размерности\n",
        "tf.ones([3, 4, 2])"
      ],
      "execution_count": null,
      "outputs": [
        {
          "output_type": "execute_result",
          "data": {
            "text/plain": [
              "<tf.Tensor: shape=(3, 4, 2), dtype=float32, numpy=\n",
              "array([[[1., 1.],\n",
              "        [1., 1.],\n",
              "        [1., 1.],\n",
              "        [1., 1.]],\n",
              "\n",
              "       [[1., 1.],\n",
              "        [1., 1.],\n",
              "        [1., 1.],\n",
              "        [1., 1.]],\n",
              "\n",
              "       [[1., 1.],\n",
              "        [1., 1.],\n",
              "        [1., 1.],\n",
              "        [1., 1.]]], dtype=float32)>"
            ]
          },
          "metadata": {
            "tags": []
          },
          "execution_count": 24
        }
      ]
    },
    {
      "cell_type": "code",
      "metadata": {
        "colab": {
          "base_uri": "https://localhost:8080/"
        },
        "id": "2aDdAe3dCQnk",
        "outputId": "7db5be84-76de-4da9-b08e-03930efc4a63"
      },
      "source": [
        "# так можно сгенерировать диагональную матрицу\n",
        "tf.eye(3)"
      ],
      "execution_count": null,
      "outputs": [
        {
          "output_type": "execute_result",
          "data": {
            "text/plain": [
              "<tf.Tensor: shape=(3, 3), dtype=float32, numpy=\n",
              "array([[1., 0., 0.],\n",
              "       [0., 1., 0.],\n",
              "       [0., 0., 1.]], dtype=float32)>"
            ]
          },
          "metadata": {
            "tags": []
          },
          "execution_count": 3
        }
      ]
    },
    {
      "cell_type": "code",
      "metadata": {
        "colab": {
          "base_uri": "https://localhost:8080/"
        },
        "id": "M-yE41naCmgG",
        "outputId": "ec3ee0af-f584-4971-863e-07b2bfac0ba7"
      },
      "source": [
        "# так можно сгенерировать диагональную матрицу кастомной размерности\n",
        "tf.eye(3, 2)"
      ],
      "execution_count": null,
      "outputs": [
        {
          "output_type": "execute_result",
          "data": {
            "text/plain": [
              "<tf.Tensor: shape=(3, 2), dtype=float32, numpy=\n",
              "array([[1., 0.],\n",
              "       [0., 1.],\n",
              "       [0., 0.]], dtype=float32)>"
            ]
          },
          "metadata": {
            "tags": []
          },
          "execution_count": 4
        }
      ]
    },
    {
      "cell_type": "code",
      "metadata": {
        "colab": {
          "base_uri": "https://localhost:8080/"
        },
        "id": "ag0GUckqCzSK",
        "outputId": "44fa2008-1e87-4e69-feea-807ba1bf3aca"
      },
      "source": [
        "#генерируем числа от 1 до 4. Не итератор, сразу все отдает в память!\n",
        "tf.range(1, 5, 1)"
      ],
      "execution_count": null,
      "outputs": [
        {
          "output_type": "execute_result",
          "data": {
            "text/plain": [
              "<tf.Tensor: shape=(4,), dtype=int32, numpy=array([1, 2, 3, 4], dtype=int32)>"
            ]
          },
          "metadata": {
            "tags": []
          },
          "execution_count": 7
        }
      ]
    },
    {
      "cell_type": "code",
      "metadata": {
        "colab": {
          "base_uri": "https://localhost:8080/"
        },
        "id": "MezmCjx5DwY4",
        "outputId": "98e4d0ed-77ea-432f-da3a-50f1907ad9df"
      },
      "source": [
        "#транспонирование\n",
        "tf.transpose(tf.eye(3, 2))\n"
      ],
      "execution_count": null,
      "outputs": [
        {
          "output_type": "execute_result",
          "data": {
            "text/plain": [
              "<tf.Tensor: shape=(2, 3), dtype=float32, numpy=\n",
              "array([[1., 0., 0.],\n",
              "       [0., 1., 0.]], dtype=float32)>"
            ]
          },
          "metadata": {
            "tags": []
          },
          "execution_count": 13
        }
      ]
    },
    {
      "cell_type": "code",
      "metadata": {
        "colab": {
          "base_uri": "https://localhost:8080/"
        },
        "id": "wC6gsVUEuVTK",
        "outputId": "564a54ff-4c97-4f02-b694-da86e6e900be"
      },
      "source": [
        "# можно сгенерировать тензор из нормального распределения\n",
        "tf.random.normal([2,2])"
      ],
      "execution_count": null,
      "outputs": [
        {
          "output_type": "execute_result",
          "data": {
            "text/plain": [
              "<tf.Tensor: shape=(2, 2), dtype=float32, numpy=\n",
              "array([[-1.9435283 ,  0.43159175],\n",
              "       [ 0.08983134,  0.04324746]], dtype=float32)>"
            ]
          },
          "metadata": {
            "tags": []
          },
          "execution_count": 25
        }
      ]
    },
    {
      "cell_type": "code",
      "metadata": {
        "colab": {
          "base_uri": "https://localhost:8080/"
        },
        "id": "Z6Xk6NmNuVTK",
        "outputId": "1b929751-0848-4602-c17f-9d97f6886479"
      },
      "source": [
        "# можно просто сделать залифку тензора какими-то числами\n",
        "tf.fill([2, 2], 0.5)"
      ],
      "execution_count": null,
      "outputs": [
        {
          "output_type": "execute_result",
          "data": {
            "text/plain": [
              "<tf.Tensor: shape=(2, 2), dtype=float32, numpy=\n",
              "array([[0.5, 0.5],\n",
              "       [0.5, 0.5]], dtype=float32)>"
            ]
          },
          "metadata": {
            "tags": []
          },
          "execution_count": 26
        }
      ]
    },
    {
      "cell_type": "code",
      "metadata": {
        "colab": {
          "base_uri": "https://localhost:8080/"
        },
        "id": "YgdEL94puVTK",
        "outputId": "720e6863-4a53-4b59-ed79-6ea541a74245"
      },
      "source": [
        "# можно создать матрицу в numpy\n",
        "x = np.array([[1, 2, 3, 4],\n",
        "              [4, 3, 2, 1]])\n",
        "x"
      ],
      "execution_count": null,
      "outputs": [
        {
          "output_type": "execute_result",
          "data": {
            "text/plain": [
              "array([[1, 2, 3, 4],\n",
              "       [4, 3, 2, 1]])"
            ]
          },
          "metadata": {
            "tags": []
          },
          "execution_count": 27
        }
      ]
    },
    {
      "cell_type": "code",
      "metadata": {
        "colab": {
          "base_uri": "https://localhost:8080/"
        },
        "id": "MXojNpa7uVTL",
        "outputId": "9a7ec746-27a9-4972-a082-f5ab1587fcf6"
      },
      "source": [
        "# а потом перевести её в тензор\n",
        "tf.convert_to_tensor(x, tf.float32) "
      ],
      "execution_count": null,
      "outputs": [
        {
          "output_type": "execute_result",
          "data": {
            "text/plain": [
              "<tf.Tensor: shape=(2, 4), dtype=float32, numpy=\n",
              "array([[1., 2., 3., 4.],\n",
              "       [4., 3., 2., 1.]], dtype=float32)>"
            ]
          },
          "metadata": {
            "tags": []
          },
          "execution_count": 28
        }
      ]
    },
    {
      "cell_type": "code",
      "metadata": {
        "colab": {
          "base_uri": "https://localhost:8080/"
        },
        "id": "Zf5raOiEuVTL",
        "outputId": "6d21c948-bd53-43e7-b12c-1619a58abc47"
      },
      "source": [
        "# или можно просто сразу создать тензор \n",
        "tf.constant([[1,  2,  3,  4],\n",
        "             [5,  6,  7,  8],\n",
        "             [9, 10, 11, 12]])"
      ],
      "execution_count": null,
      "outputs": [
        {
          "output_type": "execute_result",
          "data": {
            "text/plain": [
              "<tf.Tensor: shape=(3, 4), dtype=int32, numpy=\n",
              "array([[ 1,  2,  3,  4],\n",
              "       [ 5,  6,  7,  8],\n",
              "       [ 9, 10, 11, 12]], dtype=int32)>"
            ]
          },
          "metadata": {
            "tags": []
          },
          "execution_count": 29
        }
      ]
    },
    {
      "cell_type": "code",
      "metadata": {
        "id": "gzoFCNmRuVTL"
      },
      "source": [
        "# наверное, стоит уточнить тип данных в тензоре\n",
        "x = tf.constant([[1,  2,  3,  4],\n",
        "                 [5,  6,  7,  8],\n",
        "                 [9, 10, 11, 12]], dtype=tf.float32)"
      ],
      "execution_count": null,
      "outputs": []
    },
    {
      "cell_type": "markdown",
      "metadata": {
        "id": "d7q1mjncuVTL"
      },
      "source": [
        "Все срезы, операции, размерности работают как в numpy."
      ]
    },
    {
      "cell_type": "code",
      "metadata": {
        "colab": {
          "base_uri": "https://localhost:8080/"
        },
        "id": "NpABinJYuVTL",
        "outputId": "754854a4-0c0b-4586-8291-76cd0441d6d1"
      },
      "source": [
        "x.dtype"
      ],
      "execution_count": null,
      "outputs": [
        {
          "output_type": "execute_result",
          "data": {
            "text/plain": [
              "tf.float32"
            ]
          },
          "metadata": {
            "tags": []
          },
          "execution_count": 31
        }
      ]
    },
    {
      "cell_type": "code",
      "metadata": {
        "colab": {
          "base_uri": "https://localhost:8080/"
        },
        "id": "hxz62bvCuVTM",
        "outputId": "50523401-3b26-4e33-cf87-7949c8749871"
      },
      "source": [
        "x.shape"
      ],
      "execution_count": null,
      "outputs": [
        {
          "output_type": "execute_result",
          "data": {
            "text/plain": [
              "TensorShape([3, 4])"
            ]
          },
          "metadata": {
            "tags": []
          },
          "execution_count": 32
        }
      ]
    },
    {
      "cell_type": "code",
      "metadata": {
        "colab": {
          "base_uri": "https://localhost:8080/"
        },
        "id": "hf9jJRCCuVTM",
        "outputId": "1d22b0d4-2468-4763-da7f-d6c209fb039a"
      },
      "source": [
        "x[0]"
      ],
      "execution_count": null,
      "outputs": [
        {
          "output_type": "execute_result",
          "data": {
            "text/plain": [
              "<tf.Tensor: shape=(4,), dtype=float32, numpy=array([1., 2., 3., 4.], dtype=float32)>"
            ]
          },
          "metadata": {
            "tags": []
          },
          "execution_count": 34
        }
      ]
    },
    {
      "cell_type": "code",
      "metadata": {
        "colab": {
          "base_uri": "https://localhost:8080/"
        },
        "id": "sthyzxvEuVTM",
        "outputId": "837e244d-d856-405f-b645-f8ec205add7c"
      },
      "source": [
        "x[:,1]"
      ],
      "execution_count": null,
      "outputs": [
        {
          "output_type": "execute_result",
          "data": {
            "text/plain": [
              "<tf.Tensor: shape=(3,), dtype=float32, numpy=array([ 2.,  6., 10.], dtype=float32)>"
            ]
          },
          "metadata": {
            "tags": []
          },
          "execution_count": 35
        }
      ]
    },
    {
      "cell_type": "code",
      "metadata": {
        "colab": {
          "base_uri": "https://localhost:8080/"
        },
        "id": "aPB6TSlIuVTM",
        "outputId": "32c9f49b-ee96-4668-9389-3138c10ab96f"
      },
      "source": [
        "x + 10"
      ],
      "execution_count": null,
      "outputs": [
        {
          "output_type": "execute_result",
          "data": {
            "text/plain": [
              "<tf.Tensor: shape=(3, 4), dtype=float32, numpy=\n",
              "array([[11., 12., 13., 14.],\n",
              "       [15., 16., 17., 18.],\n",
              "       [19., 20., 21., 22.]], dtype=float32)>"
            ]
          },
          "metadata": {
            "tags": []
          },
          "execution_count": 36
        }
      ]
    },
    {
      "cell_type": "code",
      "metadata": {
        "colab": {
          "base_uri": "https://localhost:8080/"
        },
        "id": "hJqspQzouVTM",
        "outputId": "ea4e3ef9-c136-4d82-c983-3e757b4ea3d5"
      },
      "source": [
        "x[x > 3]"
      ],
      "execution_count": null,
      "outputs": [
        {
          "output_type": "execute_result",
          "data": {
            "text/plain": [
              "<tf.Tensor: shape=(9,), dtype=float32, numpy=array([ 4.,  5.,  6.,  7.,  8.,  9., 10., 11., 12.], dtype=float32)>"
            ]
          },
          "metadata": {
            "tags": []
          },
          "execution_count": 37
        }
      ]
    },
    {
      "cell_type": "code",
      "metadata": {
        "id": "IIneqIUiuVTN"
      },
      "source": [
        "y = tf.constant([[12, 11, 10, 9],\n",
        "                  [8, 7, 6, 5],\n",
        "                  [4, 3, 2, 1]], dtype=tf.float32)"
      ],
      "execution_count": null,
      "outputs": []
    },
    {
      "cell_type": "code",
      "metadata": {
        "colab": {
          "base_uri": "https://localhost:8080/"
        },
        "id": "T3qI0tCKuVTN",
        "outputId": "48f6c3f0-6474-4e96-8c5e-b6078c011331"
      },
      "source": [
        "x + y"
      ],
      "execution_count": null,
      "outputs": [
        {
          "output_type": "execute_result",
          "data": {
            "text/plain": [
              "<tf.Tensor: shape=(3, 4), dtype=float32, numpy=\n",
              "array([[13., 13., 13., 13.],\n",
              "       [13., 13., 13., 13.],\n",
              "       [13., 13., 13., 13.]], dtype=float32)>"
            ]
          },
          "metadata": {
            "tags": []
          },
          "execution_count": 39
        }
      ]
    },
    {
      "cell_type": "code",
      "metadata": {
        "colab": {
          "base_uri": "https://localhost:8080/"
        },
        "id": "jRNJjkDRuVTN",
        "outputId": "89ee0db0-1aa9-46f2-a265-c8deed47558a"
      },
      "source": [
        "x**y"
      ],
      "execution_count": null,
      "outputs": [
        {
          "output_type": "execute_result",
          "data": {
            "text/plain": [
              "<tf.Tensor: shape=(3, 4), dtype=float32, numpy=\n",
              "array([[1.0000000e+00, 2.0480000e+03, 5.9049008e+04, 2.6214400e+05],\n",
              "       [3.9062500e+05, 2.7993597e+05, 1.1764900e+05, 3.2768000e+04],\n",
              "       [6.5610000e+03, 1.0000000e+03, 1.2100000e+02, 1.2000000e+01]],\n",
              "      dtype=float32)>"
            ]
          },
          "metadata": {
            "tags": []
          },
          "execution_count": 40
        }
      ]
    },
    {
      "cell_type": "code",
      "metadata": {
        "colab": {
          "base_uri": "https://localhost:8080/"
        },
        "id": "yiZaIYi_uVTN",
        "outputId": "ec71472f-037a-459d-880c-0afdda3aa79a"
      },
      "source": [
        "tf.math.exp(x)"
      ],
      "execution_count": null,
      "outputs": [
        {
          "output_type": "execute_result",
          "data": {
            "text/plain": [
              "<tf.Tensor: shape=(3, 4), dtype=float32, numpy=\n",
              "array([[2.7182817e+00, 7.3890562e+00, 2.0085537e+01, 5.4598148e+01],\n",
              "       [1.4841316e+02, 4.0342877e+02, 1.0966332e+03, 2.9809580e+03],\n",
              "       [8.1030840e+03, 2.2026465e+04, 5.9874141e+04, 1.6275480e+05]],\n",
              "      dtype=float32)>"
            ]
          },
          "metadata": {
            "tags": []
          },
          "execution_count": 41
        }
      ]
    },
    {
      "cell_type": "code",
      "metadata": {
        "colab": {
          "base_uri": "https://localhost:8080/"
        },
        "id": "_dGYWXEDEp1K",
        "outputId": "94bcdadb-8247-4d08-8ae0-eaff5d28f5df"
      },
      "source": [
        "tf.matmul(x, y, transpose_b=True)"
      ],
      "execution_count": null,
      "outputs": [
        {
          "output_type": "execute_result",
          "data": {
            "text/plain": [
              "<tf.Tensor: shape=(3, 3), dtype=float32, numpy=\n",
              "array([[100.,  60.,  20.],\n",
              "       [268., 164.,  60.],\n",
              "       [436., 268., 100.]], dtype=float32)>"
            ]
          },
          "metadata": {
            "tags": []
          },
          "execution_count": 17
        }
      ]
    },
    {
      "cell_type": "code",
      "metadata": {
        "colab": {
          "base_uri": "https://localhost:8080/"
        },
        "id": "p2fV3j1NGu-t",
        "outputId": "89bc27e7-0399-4539-97ae-15462532f52b"
      },
      "source": [
        "x"
      ],
      "execution_count": null,
      "outputs": [
        {
          "output_type": "execute_result",
          "data": {
            "text/plain": [
              "<tf.Tensor: shape=(3, 4), dtype=float32, numpy=\n",
              "array([[ 1.,  2.,  3.,  4.],\n",
              "       [ 5.,  6.,  7.,  8.],\n",
              "       [ 9., 10., 11., 12.]], dtype=float32)>"
            ]
          },
          "metadata": {
            "tags": []
          },
          "execution_count": 24
        }
      ]
    },
    {
      "cell_type": "code",
      "metadata": {
        "colab": {
          "base_uri": "https://localhost:8080/"
        },
        "id": "zvT4oScpGOz4",
        "outputId": "ae77864d-3d8a-4aef-c46b-60f5f4e4cc73"
      },
      "source": [
        "tf.reshape(x, [4, 3])"
      ],
      "execution_count": null,
      "outputs": [
        {
          "output_type": "execute_result",
          "data": {
            "text/plain": [
              "<tf.Tensor: shape=(4, 3), dtype=float32, numpy=\n",
              "array([[ 1.,  2.,  3.],\n",
              "       [ 4.,  5.,  6.],\n",
              "       [ 7.,  8.,  9.],\n",
              "       [10., 11., 12.]], dtype=float32)>"
            ]
          },
          "metadata": {
            "tags": []
          },
          "execution_count": 19
        }
      ]
    },
    {
      "cell_type": "code",
      "metadata": {
        "colab": {
          "base_uri": "https://localhost:8080/"
        },
        "id": "bCYnooK2GcIQ",
        "outputId": "7ccffaf4-9a9f-4561-e63b-ee18e98008f0"
      },
      "source": [
        "tf.reshape(x, [2, 2, 3])"
      ],
      "execution_count": null,
      "outputs": [
        {
          "output_type": "execute_result",
          "data": {
            "text/plain": [
              "<tf.Tensor: shape=(2, 2, 3), dtype=float32, numpy=\n",
              "array([[[ 1.,  2.,  3.],\n",
              "        [ 4.,  5.,  6.]],\n",
              "\n",
              "       [[ 7.,  8.,  9.],\n",
              "        [10., 11., 12.]]], dtype=float32)>"
            ]
          },
          "metadata": {
            "tags": []
          },
          "execution_count": 23
        }
      ]
    },
    {
      "cell_type": "code",
      "metadata": {
        "colab": {
          "base_uri": "https://localhost:8080/"
        },
        "id": "e8VsmdAxuVTO",
        "outputId": "726bae44-e2ff-4db9-8dec-1ebfcddcde91"
      },
      "source": [
        "# Когда надоело работать с тензором, можно вернуться назад в numpy формат\n",
        "x.numpy() "
      ],
      "execution_count": null,
      "outputs": [
        {
          "output_type": "execute_result",
          "data": {
            "text/plain": [
              "array([[ 1.,  2.,  3.,  4.],\n",
              "       [ 5.,  6.,  7.,  8.],\n",
              "       [ 9., 10., 11., 12.]], dtype=float32)"
            ]
          },
          "metadata": {
            "tags": []
          },
          "execution_count": 42
        }
      ]
    },
    {
      "cell_type": "code",
      "metadata": {
        "colab": {
          "base_uri": "https://localhost:8080/"
        },
        "id": "GoHNA4khuVTO",
        "outputId": "80918b2f-9807-408b-deca-359042e53d40"
      },
      "source": [
        "# тип у тензоров может быть разный, но всегда один\n",
        "tf.constant(\"hello world\")"
      ],
      "execution_count": null,
      "outputs": [
        {
          "output_type": "execute_result",
          "data": {
            "text/plain": [
              "<tf.Tensor: shape=(), dtype=string, numpy=b'hello world'>"
            ]
          },
          "metadata": {
            "tags": []
          },
          "execution_count": 43
        }
      ]
    },
    {
      "cell_type": "markdown",
      "metadata": {
        "id": "UddWns9PuVTO"
      },
      "source": [
        "Попробуем реализовать на tensorflow сигмоиду. \n",
        "\n",
        "$$ \\sigma(x) = \\frac{1}{1 + e^{-x}} $$"
      ]
    },
    {
      "cell_type": "code",
      "metadata": {
        "colab": {
          "base_uri": "https://localhost:8080/"
        },
        "id": "cGM68_xNuVTO",
        "outputId": "80ea4aed-6985-4ef6-a4db-6c1938e7a60c"
      },
      "source": [
        "x = tf.linspace(-1.,1.,10)\n",
        "sigmoid = 1./(1+tf.exp(-x))\n",
        "\n",
        "sigmoid"
      ],
      "execution_count": null,
      "outputs": [
        {
          "output_type": "execute_result",
          "data": {
            "text/plain": [
              "<tf.Tensor: shape=(10,), dtype=float32, numpy=\n",
              "array([0.26894143, 0.314799  , 0.36457646, 0.41742983, 0.47225076,\n",
              "       0.52774924, 0.5825702 , 0.6354236 , 0.685201  , 0.7310586 ],\n",
              "      dtype=float32)>"
            ]
          },
          "metadata": {
            "tags": []
          },
          "execution_count": 45
        }
      ]
    },
    {
      "cell_type": "markdown",
      "metadata": {
        "id": "p185R9k_uVTO"
      },
      "source": [
        "Попробуем реализовать на tensorflow среднюю квадратичную ошибку. \n",
        "\n",
        "$$ \n",
        "MSE(\\hat y, y) = \\frac{1}{n} \\sum_{i=1}^n (\\hat y - y)^2\n",
        "$$"
      ]
    },
    {
      "cell_type": "code",
      "metadata": {
        "colab": {
          "base_uri": "https://localhost:8080/"
        },
        "id": "KMySZYCjuVTO",
        "outputId": "25e09490-4a66-4073-efad-9a728b0345bb"
      },
      "source": [
        "y_true = tf.constant([1.,2.,3.,4.,5.],tf.float32)\n",
        "y_pred = tf.constant([10.,20.,30.,40.,50.],tf.float32)\n",
        "diff = y_true-y_pred\n",
        "mse = tf.reduce_mean(tf.pow(diff,2))\n",
        "\n",
        "mse"
      ],
      "execution_count": null,
      "outputs": [
        {
          "output_type": "execute_result",
          "data": {
            "text/plain": [
              "<tf.Tensor: shape=(), dtype=float32, numpy=891.0>"
            ]
          },
          "metadata": {
            "tags": []
          },
          "execution_count": 46
        }
      ]
    },
    {
      "cell_type": "markdown",
      "metadata": {
        "id": "NV_1B_60uVTP"
      },
      "source": [
        "------------------------------------------"
      ]
    },
    {
      "cell_type": "markdown",
      "metadata": {
        "id": "edsJPloQuVTP"
      },
      "source": [
        "# 2. Производные да градиенты\n",
        "\n",
        "Тензорфлоу может вычислять производные и градиенты автоматически. Для этого используется [`GradientTape.`](https://www.tensorflow.org/tutorials/customization/autodiff)\n",
        "\n",
        "Он проходит по всем операциям, которые фигурируют в графе, и применяет к ним chain rule:\n",
        "\n",
        "$$ {\\partial f(g(x)) \\over \\partial x} = {\\partial f(g(x)) \\over \\partial g(x)}\\cdot {\\partial g(x) \\over \\partial x} $$\n",
        "\n",
        "Мы можем посчитать производную по любому тензору, участвующему в вычислениях."
      ]
    },
    {
      "cell_type": "code",
      "metadata": {
        "id": "e8m4msSruVTP"
      },
      "source": [
        "x = tf.constant([0.3, 1])\n",
        "\n",
        "# опция persistent=True позволяет искать производную много раз, а не один\n",
        "with tf.GradientTape(persistent=True) as t:\n",
        "    t.watch(x)\n",
        "    y = tf.reduce_sum(x)\n",
        "    z = y**2"
      ],
      "execution_count": null,
      "outputs": []
    },
    {
      "cell_type": "code",
      "metadata": {
        "colab": {
          "base_uri": "https://localhost:8080/"
        },
        "id": "rn283GVGuVTP",
        "outputId": "83b4eb89-f09d-424c-aed3-b4460f9bc964"
      },
      "source": [
        "t.gradient(z, x)"
      ],
      "execution_count": null,
      "outputs": [
        {
          "output_type": "execute_result",
          "data": {
            "text/plain": [
              "<tf.Tensor: shape=(2,), dtype=float32, numpy=array([2.6, 2.6], dtype=float32)>"
            ]
          },
          "metadata": {
            "tags": []
          },
          "execution_count": 48
        }
      ]
    },
    {
      "cell_type": "code",
      "metadata": {
        "colab": {
          "base_uri": "https://localhost:8080/"
        },
        "id": "mC2Fhje3uVTP",
        "outputId": "da18a32a-7ba9-4b3d-d4d1-518b470fba0d"
      },
      "source": [
        "t.gradient(z, y)"
      ],
      "execution_count": null,
      "outputs": [
        {
          "output_type": "execute_result",
          "data": {
            "text/plain": [
              "<tf.Tensor: shape=(), dtype=float32, numpy=2.6>"
            ]
          },
          "metadata": {
            "tags": []
          },
          "execution_count": 49
        }
      ]
    },
    {
      "cell_type": "markdown",
      "metadata": {
        "id": "5YQEFEMTuVTQ"
      },
      "source": [
        "Нарисуем функцию и её производную на картинке :) "
      ]
    },
    {
      "cell_type": "code",
      "metadata": {
        "colab": {
          "base_uri": "https://localhost:8080/",
          "height": 265
        },
        "id": "sKQYO0tpuVTQ",
        "outputId": "4ffef0e5-c706-43b9-8a4e-01a28c10a877"
      },
      "source": [
        "import matplotlib.pyplot as plt\n",
        "%matplotlib inline\n",
        "\n",
        "x = tf.linspace(-3., 3., 100)\n",
        "\n",
        "with tf.GradientTape(persistent=True) as t:\n",
        "    t.watch(x)\n",
        "    y = x**2\n",
        "\n",
        "dy_dx = t.gradient(y, x)\n",
        "\n",
        "plt.plot(x, y, label=\"$x^2$\")\n",
        "plt.plot(x, dy_dx, label=r\"$\\frac{dx^2}{dx}$\")\n",
        "plt.legend();"
      ],
      "execution_count": null,
      "outputs": [
        {
          "output_type": "display_data",
          "data": {
            "image/png": "[encoded data removed]",
            "text/plain": [
              "<Figure size 432x288 with 1 Axes>"
            ]
          },
          "metadata": {
            "tags": [],
            "needs_background": "light"
          }
        }
      ]
    },
    {
      "cell_type": "markdown",
      "metadata": {
        "id": "52JfZQdWuVTQ"
      },
      "source": [
        "\n",
        "Реализуем расчёт градиента для функции \n",
        "\n",
        "$$\n",
        "f(w) = \\prod_{i,j} \\ln(\\ln(w_{ij} + 7) \n",
        "$$\n",
        "\n",
        "в точке `w = [[5,10], [1,2]]`"
      ]
    },
    {
      "cell_type": "code",
      "metadata": {
        "colab": {
          "base_uri": "https://localhost:8080/"
        },
        "id": "iemFZgf5uVTQ",
        "outputId": "2ea69cf7-e291-4f45-97b9-5f69a36503f1"
      },
      "source": [
        "w = tf.constant([[5,10], [1,2]], dtype=tf.float32)\n",
        "\n",
        "with tf.GradientTape() as t:\n",
        "    t.watch(w)\n",
        "    f = tf.reduce_prod(tf.math.log(tf.math.log(w+tf.constant(7.,tf.float32))))\n",
        "\n",
        "df_dw = t.gradient(f,w)\n",
        "\n",
        "df_dw"
      ],
      "execution_count": null,
      "outputs": [
        {
          "output_type": "execute_result",
          "data": {
            "text/plain": [
              "<tf.Tensor: shape=(2, 2), dtype=float32, numpy=\n",
              "array([[0.0201272 , 0.01089125],\n",
              "       [0.04485611, 0.03509369]], dtype=float32)>"
            ]
          },
          "metadata": {
            "tags": []
          },
          "execution_count": 55
        }
      ]
    },
    {
      "cell_type": "markdown",
      "metadata": {
        "id": "AJlsx1oyuVTQ"
      },
      "source": [
        "# 3. Переменные\n",
        "\n",
        "Следущий важный объект в tensorflow это **переменная.** Она представляет из себя некоторый буфер в памяти, который содержит текущие тензоры. \n",
        "\n",
        "* Переменную можно вставить в любое место графа \n",
        "* Переменные можно использовать, чтобы описать какую-то трансформацию\n",
        "* В процессе расчётов их можно изменять\n",
        "* Обычно их исползуют для описания параметров модели"
      ]
    },
    {
      "cell_type": "code",
      "metadata": {
        "colab": {
          "base_uri": "https://localhost:8080/"
        },
        "id": "rXl_lgAtuVTQ",
        "outputId": "bafe2f5f-e9ef-407c-fbbb-5f82ae4c3c07"
      },
      "source": [
        "w = tf.Variable(initial_value=0.5)\n",
        "w"
      ],
      "execution_count": null,
      "outputs": [
        {
          "output_type": "execute_result",
          "data": {
            "text/plain": [
              "<tf.Variable 'Variable:0' shape=() dtype=float32, numpy=0.5>"
            ]
          },
          "metadata": {
            "tags": []
          },
          "execution_count": 51
        }
      ]
    },
    {
      "cell_type": "code",
      "metadata": {
        "colab": {
          "base_uri": "https://localhost:8080/"
        },
        "id": "Hiu1Wkq3uVTR",
        "outputId": "063ae212-930c-4691-b92d-2ae309cc4a16"
      },
      "source": [
        "x = np.array([1,2,3], dtype=float)\n",
        "x"
      ],
      "execution_count": null,
      "outputs": [
        {
          "output_type": "execute_result",
          "data": {
            "text/plain": [
              "array([1., 2., 3.])"
            ]
          },
          "metadata": {
            "tags": []
          },
          "execution_count": 52
        }
      ]
    },
    {
      "cell_type": "code",
      "metadata": {
        "colab": {
          "base_uri": "https://localhost:8080/"
        },
        "id": "Bk2m6TTEuVTR",
        "outputId": "6fd23b66-878e-438b-ea89-ab8938ac474f"
      },
      "source": [
        "x*w"
      ],
      "execution_count": null,
      "outputs": [
        {
          "output_type": "execute_result",
          "data": {
            "text/plain": [
              "<tf.Tensor: shape=(3,), dtype=float32, numpy=array([0.5, 1. , 1.5], dtype=float32)>"
            ]
          },
          "metadata": {
            "tags": []
          },
          "execution_count": 53
        }
      ]
    },
    {
      "cell_type": "markdown",
      "metadata": {
        "id": "epRB7XqzuVTR"
      },
      "source": [
        "Более того, переменные хороши тем, что Tensorflow сразу же следит за ними при вычислении производных. Ему не надо указывать с помощью команды `watch`, за каким тензором нужно приглядывать. "
      ]
    },
    {
      "cell_type": "markdown",
      "metadata": {
        "id": "l1CTGutuuVTR"
      },
      "source": [
        "Реализуем расчёт градиента для функции \n",
        "\n",
        "$$\n",
        "f(w) = \\prod_{i,j} \\ln(\\ln(w_{ij} + 7) \n",
        "$$\n",
        "\n",
        "в точке `w = [[5,10], [1,2]]`. Отличие от предыдущей задачки такое: надо задать $w$ не как тензор, а как переменную. "
      ]
    },
    {
      "cell_type": "code",
      "metadata": {
        "colab": {
          "base_uri": "https://localhost:8080/"
        },
        "id": "1LrVi4iruVTR",
        "outputId": "499f9f58-ac17-4285-cd2d-31b34860c190"
      },
      "source": [
        "w = tf.Variable(initial_value=[[5.,10], [1,2]])\n",
        "with tf.GradientTape() as t:\n",
        "    f = tf.reduce_prod(tf.math.log(tf.math.log(w+tf.constant(7.,tf.float32))))\n",
        "\n",
        "df_dw = t.gradient(f,w)\n",
        "\n",
        "df_dw"
      ],
      "execution_count": null,
      "outputs": [
        {
          "output_type": "execute_result",
          "data": {
            "text/plain": [
              "<tf.Tensor: shape=(2, 2), dtype=float32, numpy=\n",
              "array([[0.0201272 , 0.01089125],\n",
              "       [0.04485611, 0.03509369]], dtype=float32)>"
            ]
          },
          "metadata": {
            "tags": []
          },
          "execution_count": 56
        }
      ]
    },
    {
      "cell_type": "markdown",
      "metadata": {
        "id": "rFXC_D4CuVTR"
      },
      "source": [
        "------------------------------------------"
      ]
    },
    {
      "cell_type": "markdown",
      "metadata": {
        "id": "-f8Xm6LZuVTS"
      },
      "source": [
        "# 4. Оптимизация\n",
        "\n",
        "Итак, tf умеет искать производные, осталось научиться применять его для оптимизации. \n",
        "\n",
        "Попробуем решить глупую задачку по конвертации градусов по цельсию в градусы по фаренгейту. По данным будем пытаться восстановить формулу: \n",
        "\n",
        "$$ f = c \\times 1.8 + 32 $$"
      ]
    },
    {
      "cell_type": "code",
      "metadata": {
        "colab": {
          "base_uri": "https://localhost:8080/"
        },
        "id": "5xGUn8x0uVTS",
        "outputId": "d7df1c04-9840-41b6-c241-b781cfb83493"
      },
      "source": [
        "celsius    = np.array([-40, -10,  0,  8, 15, 22,  38],  dtype='float32')\n",
        "fahrenheit = np.array([-40,  14, 32, 46, 59, 72, 100],  dtype='float32')\n",
        "\n",
        "for i,c in enumerate(celsius):\n",
        "    print(\"{} degrees Celsius = {} degrees Fahrenheit\".format(c, fahrenheit[i]))"
      ],
      "execution_count": null,
      "outputs": [
        {
          "output_type": "stream",
          "text": [
            "-40.0 degrees Celsius = -40.0 degrees Fahrenheit\n",
            "-10.0 degrees Celsius = 14.0 degrees Fahrenheit\n",
            "0.0 degrees Celsius = 32.0 degrees Fahrenheit\n",
            "8.0 degrees Celsius = 46.0 degrees Fahrenheit\n",
            "15.0 degrees Celsius = 59.0 degrees Fahrenheit\n",
            "22.0 degrees Celsius = 72.0 degrees Fahrenheit\n",
            "38.0 degrees Celsius = 100.0 degrees Fahrenheit\n"
          ],
          "name": "stdout"
        }
      ]
    },
    {
      "cell_type": "code",
      "metadata": {
        "colab": {
          "base_uri": "https://localhost:8080/"
        },
        "id": "svU7OsuruVTS",
        "outputId": "62d2249b-0349-453d-e9e9-e4402ee178c9"
      },
      "source": [
        "# параметры модели \n",
        "a = tf.Variable(tf.random.normal([1]), name='bias')\n",
        "b = tf.Variable(tf.random.normal([1]), name='k')\n",
        "\n",
        "a.numpy(), b.numpy()"
      ],
      "execution_count": null,
      "outputs": [
        {
          "output_type": "execute_result",
          "data": {
            "text/plain": [
              "(array([-0.23020725], dtype=float32), array([-2.0108762], dtype=float32))"
            ]
          },
          "metadata": {
            "tags": []
          },
          "execution_count": 58
        }
      ]
    },
    {
      "cell_type": "code",
      "metadata": {
        "id": "w25GFFVguVTS"
      },
      "source": [
        "# Наша модель\n",
        "def linear_regression(x):\n",
        "    return a + b*x\n",
        "\n",
        "# Ошибка для модели\n",
        "def mean_square(y_pred, y_true):\n",
        "    return tf.reduce_mean((y_pred-y_true)**2)"
      ],
      "execution_count": null,
      "outputs": []
    },
    {
      "cell_type": "code",
      "metadata": {
        "colab": {
          "base_uri": "https://localhost:8080/"
        },
        "id": "Run1jozsuVTS",
        "outputId": "5fae9021-1153-42fd-be11-f2e5b69ae487"
      },
      "source": [
        "linear_regression(celsius).numpy()"
      ],
      "execution_count": null,
      "outputs": [
        {
          "output_type": "execute_result",
          "data": {
            "text/plain": [
              "array([ 80.204834  ,  19.878553  ,  -0.23020725, -16.317217  ,\n",
              "       -30.39335   , -44.469482  , -76.6435    ], dtype=float32)"
            ]
          },
          "metadata": {
            "tags": []
          },
          "execution_count": 60
        }
      ]
    },
    {
      "cell_type": "code",
      "metadata": {
        "colab": {
          "base_uri": "https://localhost:8080/"
        },
        "id": "K676WgdyuVTS",
        "outputId": "bb73e836-196e-4f43-86c1-c361abe76588"
      },
      "source": [
        "mean_square(linear_regression(celsius), fahrenheit).numpy()"
      ],
      "execution_count": null,
      "outputs": [
        {
          "output_type": "execute_result",
          "data": {
            "text/plain": [
              "10309.317"
            ]
          },
          "metadata": {
            "tags": []
          },
          "execution_count": 61
        }
      ]
    },
    {
      "cell_type": "code",
      "metadata": {
        "id": "c37iLJpWuVTS"
      },
      "source": [
        "# оптимизатор \n",
        "optimizer = tf.optimizers.SGD(learning_rate=0.001)\n",
        "\n",
        "# процесс оптимизации\n",
        "def model_train(X, Y):\n",
        "\n",
        "    # находим loss и пробрасываем градиент\n",
        "    with tf.GradientTape() as g:\n",
        "        pred = linear_regression(X)\n",
        "        loss = mean_square(pred, Y)\n",
        "\n",
        "    # Вычисляем градиенты\n",
        "    gradients = g.gradient(loss, [a, b])\n",
        "    \n",
        "    # Обновляем веса a и b в ходе одной итерации спуска \n",
        "    optimizer.apply_gradients(zip(gradients, [a, b]))\n",
        "    pass"
      ],
      "execution_count": null,
      "outputs": []
    },
    {
      "cell_type": "code",
      "metadata": {
        "colab": {
          "base_uri": "https://localhost:8080/"
        },
        "id": "cI6gwgXluVTT",
        "outputId": "f7ef294e-d1a5-4c2d-8286-8f2571f0a959"
      },
      "source": [
        "a"
      ],
      "execution_count": null,
      "outputs": [
        {
          "output_type": "execute_result",
          "data": {
            "text/plain": [
              "<tf.Variable 'bias:0' shape=(1,) dtype=float32, numpy=array([-0.23020725], dtype=float32)>"
            ]
          },
          "metadata": {
            "tags": []
          },
          "execution_count": 63
        }
      ]
    },
    {
      "cell_type": "code",
      "metadata": {
        "id": "Pbv1MOEkuVTT"
      },
      "source": [
        "model_train(celsius, fahrenheit)"
      ],
      "execution_count": null,
      "outputs": []
    },
    {
      "cell_type": "code",
      "metadata": {
        "colab": {
          "base_uri": "https://localhost:8080/"
        },
        "id": "Flp0nPyMuVTT",
        "outputId": "513e79e2-b83d-43e3-ece2-cc229a8e442d"
      },
      "source": [
        "print(f'bias = {a.numpy()[0]: .2f}, k = {b.numpy()[0]: .2f}')"
      ],
      "execution_count": null,
      "outputs": [
        {
          "output_type": "stream",
          "text": [
            "bias = -0.13, k =  2.56\n"
          ],
          "name": "stdout"
        }
      ]
    },
    {
      "cell_type": "code",
      "metadata": {
        "colab": {
          "base_uri": "https://localhost:8080/"
        },
        "id": "HufvsDAwuVTT",
        "outputId": "cca6720e-0754-49e3-d1a9-6fd9b437bd5a"
      },
      "source": [
        "# Обучение\n",
        "epochs = 2000 # число эпох \n",
        "\n",
        "for i in range(epochs):\n",
        "    \n",
        "    # Делаем щаг градиентного спуска \n",
        "    model_train(celsius, fahrenheit)\n",
        "    \n",
        "    # Каждую сотую итерацию следим за тем, что произошло\n",
        "    if i%100 == 0:\n",
        "        y_pred = linear_regression(celsius)\n",
        "        loss_val = mean_square(y_pred, fahrenheit)\n",
        "        print(\"step: %i, loss: %f, a: %f, b: %f\" % (i, loss_val, a.numpy(), b.numpy()))"
      ],
      "execution_count": null,
      "outputs": [
        {
          "output_type": "stream",
          "text": [
            "step: 0, loss: 986.808716, a: -0.072905, b: 2.010222\n",
            "step: 100, loss: 670.579102, a: 5.528138, b: 2.020952\n",
            "step: 200, loss: 456.564697, a: 10.149262, b: 1.981953\n",
            "step: 300, loss: 310.858887, a: 13.962246, b: 1.949774\n",
            "step: 400, loss: 211.659546, a: 17.108402, b: 1.923223\n",
            "step: 500, loss: 144.122604, a: 19.704350, b: 1.901315\n",
            "step: 600, loss: 98.141724, a: 21.846331, b: 1.883238\n",
            "step: 700, loss: 66.837242, a: 23.613705, b: 1.868323\n",
            "step: 800, loss: 45.524239, a: 25.072014, b: 1.856016\n",
            "step: 900, loss: 31.013948, a: 26.275290, b: 1.845861\n",
            "step: 1000, loss: 21.135107, a: 27.268126, b: 1.837482\n",
            "step: 1100, loss: 14.409338, a: 28.087343, b: 1.830568\n",
            "step: 1200, loss: 9.830279, a: 28.763292, b: 1.824864\n",
            "step: 1300, loss: 6.712808, a: 29.321026, b: 1.820157\n",
            "step: 1400, loss: 4.590368, a: 29.781219, b: 1.816273\n",
            "step: 1500, loss: 3.145320, a: 30.160946, b: 1.813069\n",
            "step: 1600, loss: 2.161501, a: 30.474268, b: 1.810425\n",
            "step: 1700, loss: 1.491699, a: 30.732796, b: 1.808243\n",
            "step: 1800, loss: 1.035712, a: 30.946098, b: 1.806443\n",
            "step: 1900, loss: 0.725251, a: 31.122107, b: 1.804957\n"
          ],
          "name": "stdout"
        }
      ]
    },
    {
      "cell_type": "code",
      "metadata": {
        "colab": {
          "base_uri": "https://localhost:8080/"
        },
        "id": "anwAwDvQFHZk",
        "outputId": "8e278b47-0170-4b6a-9c74-4dd4b0449be7"
      },
      "source": [
        "print(f'bias = {a.numpy()[0]: .2f}, k = {b.numpy()[0]: .2f}')"
      ],
      "execution_count": null,
      "outputs": [
        {
          "output_type": "stream",
          "text": [
            "bias =  31.27, k =  1.80\n"
          ],
          "name": "stdout"
        }
      ]
    },
    {
      "cell_type": "markdown",
      "metadata": {
        "id": "z-Lz4v8BuVTU"
      },
      "source": [
        "Можно сделать то же самое, но с визуализацией. "
      ]
    },
    {
      "cell_type": "code",
      "metadata": {
        "colab": {
          "base_uri": "https://localhost:8080/",
          "height": 265
        },
        "id": "JIM--6x0uVTU",
        "outputId": "390c5626-81c5-4d6e-bbc7-d61b964aa5ba"
      },
      "source": [
        "from IPython.display import clear_output\n",
        "\n",
        "epochs = 2000 # число эпох \n",
        "\n",
        "a = tf.Variable(tf.random.normal([1]), name='bias')\n",
        "b = tf.Variable(tf.random.normal([1]), name='k')\n",
        "\n",
        "\n",
        "ass = [a.numpy()[0]] # стартовые точки \n",
        "bss = [b.numpy()[0]] \n",
        "\n",
        "for i in range(epochs):\n",
        "    # Делаем щаг градиентного спуска \n",
        "    model_train(celsius, fahrenheit)\n",
        "    \n",
        "    if i%25 == 0:\n",
        "        # Пополняем запас точек \n",
        "        ass.append(a.numpy()[0])\n",
        "        bss.append(b.numpy()[0])\n",
        "\n",
        "        clear_output(True) # чтобы всё на одной картинке рисовалось, а не на милионе\n",
        "        plt.plot(ass, bss, marker='.')\n",
        "        plt.scatter(32, 1.8, c='red')\n",
        "        plt.show()"
      ],
      "execution_count": null,
      "outputs": [
        {
          "output_type": "display_data",
          "data": {
            "image/png": "[encoded data removed]",
            "text/plain": [
              "<Figure size 432x288 with 1 Axes>"
            ]
          },
          "metadata": {
            "tags": [],
            "needs_background": "light"
          }
        }
      ]
    },
    {
      "cell_type": "markdown",
      "metadata": {
        "id": "4aLeRPVnuVTV"
      },
      "source": [
        "------------------------------------------"
      ]
    },
    {
      "cell_type": "markdown",
      "metadata": {
        "id": "iDo6FzNauVTV"
      },
      "source": [
        "Можно попробовать поразвлекаться с разными методами оптимизации! \n",
        "\n",
        "* На вход модели при обучении мы сейчас подавали нумпаевские вектора. В будущем мы будем смотреть и на разные другие способы скармливать модели данные."
      ]
    },
    {
      "cell_type": "markdown",
      "metadata": {
        "id": "ZvT6Ec6luVTV"
      },
      "source": [
        "# 5. Нейронка на Tensorflow \n",
        "\n",
        "Пришло время страдать. Чтобы пострадать как следует, вы получаете задание --- построить свою первую нейросеть в tensorflow. __Спойлер:__ cильнее вего вы будете страдать от того, что размерности матриц не сходятся. Осторожнее с этим. \n",
        "\n",
        "Раньше все учили свою первую нейросеть на [наборе рукопистных цифр MNIST.](http://yann.lecun.com/exdb/mnist/) Теперь это не модно. Если где-то кто-то будет проводить у вас семинар с участием этого датасета, так и скажите ему: __это не модно!__  Хлопать дверью или нет --- на ваше усмотрение. \n",
        "\n",
        "На арене туториалов новый король: [Fashion MNIST.](https://www.tensorflow.org/tutorials/keras/classification) По ссылке лежит туториал с строительством нейросетки на этом наборе, но с участием Keras. Мы пока что обойдёмся без него."
      ]
    },
    {
      "cell_type": "code",
      "metadata": {
        "id": "WV4pp3pbuVTV"
      },
      "source": [
        "fashion_mnist = tf.keras.datasets.fashion_mnist\n",
        "(X_train, y_train), (X_test, y_test) = fashion_mnist.load_data()"
      ],
      "execution_count": null,
      "outputs": []
    },
    {
      "cell_type": "code",
      "metadata": {
        "colab": {
          "base_uri": "https://localhost:8080/"
        },
        "id": "JxT2gPdFuVTV",
        "outputId": "bb4413a3-2006-49bf-dc2b-756d3b090277"
      },
      "source": [
        "X_train.shape, X_test.shape"
      ],
      "execution_count": null,
      "outputs": [
        {
          "output_type": "execute_result",
          "data": {
            "text/plain": [
              "((60000, 28, 28), (10000, 28, 28))"
            ]
          },
          "metadata": {
            "tags": []
          },
          "execution_count": 86
        }
      ]
    },
    {
      "cell_type": "code",
      "metadata": {
        "id": "67SMr-qHuVTV"
      },
      "source": [
        "class_names = ['T-shirt/top', 'Trouser', 'Pullover', 'Dress', 'Coat',\n",
        "               'Sandal', 'Shirt', 'Sneaker', 'Bag', 'Ankle boot']"
      ],
      "execution_count": null,
      "outputs": []
    },
    {
      "cell_type": "markdown",
      "metadata": {
        "id": "wdx98YETuVTW"
      },
      "source": [
        "Нарисуем несколько рандомных картинок из тренировочной выборки. "
      ]
    },
    {
      "cell_type": "code",
      "metadata": {
        "colab": {
          "base_uri": "https://localhost:8080/",
          "height": 288
        },
        "id": "Dd1jsZrzuVTW",
        "outputId": "9e9497f7-4cb2-4dbe-f19a-9187c9b315e3"
      },
      "source": [
        "cols = 8\n",
        "rows = 2\n",
        "fig = plt.figure(figsize=(2 * cols, 2.5 * rows))\n",
        "for i in range(cols):\n",
        "    for j in range(rows):\n",
        "        random_index = np.random.randint(0, len(y_train))\n",
        "        ax = fig.add_subplot(rows, cols, i * rows + j + 1)\n",
        "        ax.grid(False)\n",
        "        ax.set_xticks([])\n",
        "        ax.set_yticks([])\n",
        "        ax.imshow(X_train[random_index, :], cmap = 'gray')\n",
        "        ax.set_xlabel(class_names[y_train[random_index]])\n",
        "plt.show()"
      ],
      "execution_count": null,
      "outputs": [
        {
          "output_type": "display_data",
          "data": {
            "image/png": "[encoded data removed]",
            "text/plain": [
              "<Figure size 1152x360 with 16 Axes>"
            ]
          },
          "metadata": {
            "tags": []
          }
        }
      ]
    },
    {
      "cell_type": "markdown",
      "metadata": {
        "id": "o3ggkcrKuVTW"
      },
      "source": [
        "Каждая картинка это матрица из чисел. Если число большое - пиксель яркий. Если маленькое - тёмный. Яркость измеряется по шкале от $0$ до $255$."
      ]
    },
    {
      "cell_type": "code",
      "metadata": {
        "colab": {
          "base_uri": "https://localhost:8080/"
        },
        "id": "XvX4KkqiuVTW",
        "outputId": "bca6441e-cd22-4105-f7b4-f3e4d4e99861"
      },
      "source": [
        "X_train"
      ],
      "execution_count": null,
      "outputs": [
        {
          "output_type": "execute_result",
          "data": {
            "text/plain": [
              "array([[[0, 0, 0, ..., 0, 0, 0],\n",
              "        [0, 0, 0, ..., 0, 0, 0],\n",
              "        [0, 0, 0, ..., 0, 0, 0],\n",
              "        ...,\n",
              "        [0, 0, 0, ..., 0, 0, 0],\n",
              "        [0, 0, 0, ..., 0, 0, 0],\n",
              "        [0, 0, 0, ..., 0, 0, 0]],\n",
              "\n",
              "       [[0, 0, 0, ..., 0, 0, 0],\n",
              "        [0, 0, 0, ..., 0, 0, 0],\n",
              "        [0, 0, 0, ..., 0, 0, 0],\n",
              "        ...,\n",
              "        [0, 0, 0, ..., 0, 0, 0],\n",
              "        [0, 0, 0, ..., 0, 0, 0],\n",
              "        [0, 0, 0, ..., 0, 0, 0]],\n",
              "\n",
              "       [[0, 0, 0, ..., 0, 0, 0],\n",
              "        [0, 0, 0, ..., 0, 0, 0],\n",
              "        [0, 0, 0, ..., 0, 0, 0],\n",
              "        ...,\n",
              "        [0, 0, 0, ..., 0, 0, 0],\n",
              "        [0, 0, 0, ..., 0, 0, 0],\n",
              "        [0, 0, 0, ..., 0, 0, 0]],\n",
              "\n",
              "       ...,\n",
              "\n",
              "       [[0, 0, 0, ..., 0, 0, 0],\n",
              "        [0, 0, 0, ..., 0, 0, 0],\n",
              "        [0, 0, 0, ..., 0, 0, 0],\n",
              "        ...,\n",
              "        [0, 0, 0, ..., 0, 0, 0],\n",
              "        [0, 0, 0, ..., 0, 0, 0],\n",
              "        [0, 0, 0, ..., 0, 0, 0]],\n",
              "\n",
              "       [[0, 0, 0, ..., 0, 0, 0],\n",
              "        [0, 0, 0, ..., 0, 0, 0],\n",
              "        [0, 0, 0, ..., 0, 0, 0],\n",
              "        ...,\n",
              "        [0, 0, 0, ..., 0, 0, 0],\n",
              "        [0, 0, 0, ..., 0, 0, 0],\n",
              "        [0, 0, 0, ..., 0, 0, 0]],\n",
              "\n",
              "       [[0, 0, 0, ..., 0, 0, 0],\n",
              "        [0, 0, 0, ..., 0, 0, 0],\n",
              "        [0, 0, 0, ..., 0, 0, 0],\n",
              "        ...,\n",
              "        [0, 0, 0, ..., 0, 0, 0],\n",
              "        [0, 0, 0, ..., 0, 0, 0],\n",
              "        [0, 0, 0, ..., 0, 0, 0]]], dtype=uint8)"
            ]
          },
          "metadata": {
            "tags": []
          },
          "execution_count": 89
        }
      ]
    },
    {
      "cell_type": "markdown",
      "metadata": {
        "id": "P0uh9IxPuVTW"
      },
      "source": [
        "Картинка - матрица. "
      ]
    },
    {
      "cell_type": "code",
      "metadata": {
        "colab": {
          "base_uri": "https://localhost:8080/"
        },
        "id": "rZXwy6QHuVTW",
        "outputId": "b8d589ee-352c-4831-e193-32386fde320b"
      },
      "source": [
        "X_train[0].shape"
      ],
      "execution_count": null,
      "outputs": [
        {
          "output_type": "execute_result",
          "data": {
            "text/plain": [
              "(28, 28)"
            ]
          },
          "metadata": {
            "tags": []
          },
          "execution_count": 90
        }
      ]
    },
    {
      "cell_type": "markdown",
      "metadata": {
        "id": "DonBkJZbuVTW"
      },
      "source": [
        "Давайте отнормируем выборку. "
      ]
    },
    {
      "cell_type": "code",
      "metadata": {
        "id": "bgpW2pi8uVTW"
      },
      "source": [
        "X_train = X_train/255\n",
        "X_test = X_test/255"
      ],
      "execution_count": null,
      "outputs": []
    },
    {
      "cell_type": "markdown",
      "metadata": {
        "id": "T6Pdjy-tuVTX"
      },
      "source": [
        "Будем прогнозировать тип картинки по её пикселям. Давайте растянем её в вектор из $28 \\times 28$ фичей."
      ]
    },
    {
      "cell_type": "code",
      "metadata": {
        "colab": {
          "base_uri": "https://localhost:8080/"
        },
        "id": "3YhC_SyLuVTX",
        "outputId": "d1fb1a55-7ebc-4c00-8c59-a19308961292"
      },
      "source": [
        "X_train = X_train.reshape(X_train.shape[0], 28**2)\n",
        "X_test = X_test.reshape(X_test.shape[0], 28**2)\n",
        "X_train.shape"
      ],
      "execution_count": null,
      "outputs": [
        {
          "output_type": "execute_result",
          "data": {
            "text/plain": [
              "(60000, 784)"
            ]
          },
          "metadata": {
            "tags": []
          },
          "execution_count": 6
        }
      ]
    },
    {
      "cell_type": "markdown",
      "metadata": {
        "id": "y5HdFzLXuVTX"
      },
      "source": [
        "Поставим для данных тип, чтобы ничего не поломалось."
      ]
    },
    {
      "cell_type": "code",
      "metadata": {
        "id": "VeXsSZSUuVTX"
      },
      "source": [
        "X_train = X_train.astype(np.float32)\n",
        "X_test = X_test.astype(np.float32)"
      ],
      "execution_count": null,
      "outputs": []
    },
    {
      "cell_type": "markdown",
      "metadata": {
        "id": "lptLObS3uVTX"
      },
      "source": [
        "У нас в задаче фигурирует $10$ классов. Последним слоем в сетке будет Softmax. Не забудьте сделать OHE, когда будете описывать функцию потерь. "
      ]
    },
    {
      "cell_type": "code",
      "metadata": {
        "colab": {
          "base_uri": "https://localhost:8080/"
        },
        "id": "SLCNn-qFuVTX",
        "outputId": "30310735-ae49-4680-b9dc-95b6ac79d261"
      },
      "source": [
        "tf.keras.utils.to_categorical(y_train)"
      ],
      "execution_count": null,
      "outputs": [
        {
          "output_type": "execute_result",
          "data": {
            "text/plain": [
              "array([[0., 0., 0., ..., 0., 0., 1.],\n",
              "       [1., 0., 0., ..., 0., 0., 0.],\n",
              "       [1., 0., 0., ..., 0., 0., 0.],\n",
              "       ...,\n",
              "       [0., 0., 0., ..., 0., 0., 0.],\n",
              "       [1., 0., 0., ..., 0., 0., 0.],\n",
              "       [0., 0., 0., ..., 0., 0., 0.]], dtype=float32)"
            ]
          },
          "metadata": {
            "tags": []
          },
          "execution_count": 8
        }
      ]
    },
    {
      "cell_type": "code",
      "metadata": {
        "id": "dO7n11-CuVTX"
      },
      "source": [
        "y_train = tf.keras.utils.to_categorical(y_train)\n",
        "y_test = tf.keras.utils.to_categorical(y_test)"
      ],
      "execution_count": null,
      "outputs": []
    },
    {
      "cell_type": "markdown",
      "metadata": {
        "id": "YIMS8af0uVTY"
      },
      "source": [
        "## Приступим...\n",
        "\n",
        "Для начала обучим однослойною модель. Задайте её архитектуру и напишите функцию для прогнозирования. "
      ]
    },
    {
      "cell_type": "code",
      "metadata": {
        "id": "vOtuOeMRuVTY"
      },
      "source": [
        "num_classes = 10   # число классов\n",
        "num_features = 784 # число фичей (28*28 пикселей)\n",
        "\n",
        "W = tf.Variable(tf.random.normal([num_features,num_classes]),tf.float32)\n",
        "b = tf.Variable(tf.random.normal([num_classes]),tf.float32)\n",
        "\n",
        "\n",
        "# прогнозы\n",
        "def logistic_regression(X):\n",
        "    # ваша модель\n",
        "    lin_prod = tf.matmul(X,W)+b\n",
        "    return tf.nn.softmax(lin_prod)"
      ],
      "execution_count": null,
      "outputs": []
    },
    {
      "cell_type": "code",
      "metadata": {
        "colab": {
          "base_uri": "https://localhost:8080/"
        },
        "id": "ilsuEYO0uVTY",
        "outputId": "738df123-30ce-48c5-f4a2-df0da66d096e"
      },
      "source": [
        "p_pred = logistic_regression(X_train[:3])\n",
        "p_pred"
      ],
      "execution_count": null,
      "outputs": [
        {
          "output_type": "execute_result",
          "data": {
            "text/plain": [
              "<tf.Tensor: shape=(3, 10), dtype=float32, numpy=\n",
              "array([[8.5541953e-16, 7.0394672e-09, 9.9065501e-16, 5.9193703e-03,\n",
              "        1.9406162e-21, 1.0882252e-11, 2.2337188e-04, 3.8358158e-15,\n",
              "        9.9385720e-01, 1.2226313e-18],\n",
              "       [2.8887513e-17, 1.0000000e+00, 1.0882651e-12, 6.0388015e-09,\n",
              "        2.0045453e-19, 1.3885169e-14, 2.1187240e-12, 3.1111941e-10,\n",
              "        6.9964597e-11, 1.5649879e-26],\n",
              "       [2.1148888e-04, 4.2381987e-02, 7.8496964e-10, 9.5722342e-01,\n",
              "        3.5844302e-08, 6.4768839e-09, 1.7868489e-04, 3.9084828e-08,\n",
              "        4.3647919e-06, 3.8788302e-11]], dtype=float32)>"
            ]
          },
          "metadata": {
            "tags": []
          },
          "execution_count": 99
        }
      ]
    },
    {
      "cell_type": "markdown",
      "metadata": {
        "id": "hpSpE-X2JPDL"
      },
      "source": [
        "Не очень понятны прогнозы, давайте приведем их к более человеческому виду)"
      ]
    },
    {
      "cell_type": "code",
      "metadata": {
        "colab": {
          "base_uri": "https://localhost:8080/"
        },
        "id": "8LTp5_HPI5kt",
        "outputId": "93408eb8-bb43-4847-8bdc-97c7c365b351"
      },
      "source": [
        "tf.argmax(p_pred, axis=1)"
      ],
      "execution_count": null,
      "outputs": [
        {
          "output_type": "execute_result",
          "data": {
            "text/plain": [
              "<tf.Tensor: shape=(3,), dtype=int64, numpy=array([8, 1, 3])>"
            ]
          },
          "metadata": {
            "tags": []
          },
          "execution_count": 102
        }
      ]
    },
    {
      "cell_type": "markdown",
      "metadata": {
        "id": "4DyJH5JouVTY"
      },
      "source": [
        "Отлично! Теперь давайте реализуем функцию потерь. Использовать будем logloss. Ещё не забыли как его искать? "
      ]
    },
    {
      "cell_type": "code",
      "metadata": {
        "id": "BzHMHIF6uVTY"
      },
      "source": [
        "def logloss(p_pred, y_true):\n",
        "    # Чтобы не возникло log(0) и бесконечностей\n",
        "    p_pred = tf.clip_by_value(p_pred, 1e-9, 1.)\n",
        "    # а теперь считаем\n",
        "    return -tf.reduce_mean(tf.reduce_sum(y_true * tf.math.log(p_pred), axis=1)) "
      ],
      "execution_count": null,
      "outputs": []
    },
    {
      "cell_type": "markdown",
      "metadata": {
        "id": "dqH3-10SuVTY"
      },
      "source": [
        "Чтобы избежать проблем с бесконечностями, обычно logloss считают по-другому, с помощью функции tf.nn.softmax_cross_entropy_with_logits. Откуда берутся проблемы в виде бесконечностей в softmax либо посмотрите во второй лекции, либо в Николенко на страницах  133−135."
      ]
    },
    {
      "cell_type": "code",
      "metadata": {
        "colab": {
          "base_uri": "https://localhost:8080/"
        },
        "id": "-lhqneMiuVTY",
        "outputId": "6daaa9c0-f9fa-4164-eff3-3920d31ac043"
      },
      "source": [
        "p_pred = logistic_regression(X_train)\n",
        "logloss(p_pred, y_train)"
      ],
      "execution_count": null,
      "outputs": [
        {
          "output_type": "execute_result",
          "data": {
            "text/plain": [
              "<tf.Tensor: shape=(), dtype=float32, numpy=14.24445>"
            ]
          },
          "metadata": {
            "tags": []
          },
          "execution_count": 104
        }
      ]
    },
    {
      "cell_type": "markdown",
      "metadata": {
        "id": "aSlCksd9uVTY"
      },
      "source": [
        "На каждой итерации будем искать accuracy. Напишите функцию, чтобы его искать. "
      ]
    },
    {
      "cell_type": "code",
      "metadata": {
        "id": "Y9E081nNuVTZ"
      },
      "source": [
        "def accuracy(y_pred, y_true):\n",
        "    correct_pred = tf.equal(tf.argmax(y_pred,axis=1),tf.argmax(y_true,axis=1))\n",
        "    \n",
        "    return tf.reduce_mean(tf.cast(correct_pred,tf.float32))"
      ],
      "execution_count": null,
      "outputs": []
    },
    {
      "cell_type": "code",
      "metadata": {
        "colab": {
          "base_uri": "https://localhost:8080/"
        },
        "id": "2LDhfupQuVTZ",
        "outputId": "031b1f28-a863-4a8c-a71d-4a0d4e0a8b58"
      },
      "source": [
        "accuracy(p_pred, y_train)"
      ],
      "execution_count": null,
      "outputs": [
        {
          "output_type": "execute_result",
          "data": {
            "text/plain": [
              "<tf.Tensor: shape=(), dtype=float32, numpy=0.07715>"
            ]
          },
          "metadata": {
            "tags": []
          },
          "execution_count": 106
        }
      ]
    },
    {
      "cell_type": "markdown",
      "metadata": {
        "id": "MoiMe4WSuVTZ"
      },
      "source": [
        "Задаём оптимизатор"
      ]
    },
    {
      "cell_type": "code",
      "metadata": {
        "id": "988rwLBtuVTZ"
      },
      "source": [
        "learning_rate = 1e-4\n",
        "optimizer = tf.optimizers.Adam(learning_rate)"
      ],
      "execution_count": null,
      "outputs": []
    },
    {
      "cell_type": "markdown",
      "metadata": {
        "id": "aApU3PcxuVTZ"
      },
      "source": [
        "Задаём один шаг обучения"
      ]
    },
    {
      "cell_type": "code",
      "metadata": {
        "id": "grAKZT7wuVTZ"
      },
      "source": [
        "@tf.function\n",
        "def model_train(X, Y):\n",
        "    with tf.GradientTape() as g:\n",
        "        pred = logistic_regression(X)\n",
        "        loss = logloss(pred,Y)\n",
        "    gradients = g.gradient(loss,[W,b])\n",
        "\n",
        "# Считаем градиенты\n",
        "    \n",
        "    # Обновляем веса a и b в ходе одной итерации спуска \n",
        "    optimizer.apply_gradients(zip(gradients, [W, b]))"
      ],
      "execution_count": null,
      "outputs": []
    },
    {
      "cell_type": "code",
      "metadata": {
        "colab": {
          "base_uri": "https://localhost:8080/"
        },
        "id": "UKJBJ8-0uVTZ",
        "outputId": "03af601b-07d8-4d50-b8b3-176d9cf645d8"
      },
      "source": [
        "W"
      ],
      "execution_count": null,
      "outputs": [
        {
          "output_type": "execute_result",
          "data": {
            "text/plain": [
              "<tf.Variable 'Variable:0' shape=(784, 10) dtype=float32, numpy=\n",
              "array([[-0.24569029, -2.0092218 , -1.5693135 , ...,  0.16578466,\n",
              "        -0.8111449 , -0.6714431 ],\n",
              "       [ 2.2638464 , -1.671855  ,  0.5979372 , ..., -0.4533373 ,\n",
              "        -2.632316  ,  1.5602759 ],\n",
              "       [-0.84421176,  0.22160803, -0.10670067, ...,  1.05639   ,\n",
              "        -0.28329763,  0.04176743],\n",
              "       ...,\n",
              "       [ 0.31895083,  0.91689134,  2.1291344 , ..., -1.2923338 ,\n",
              "        -0.23027858,  1.8468342 ],\n",
              "       [-1.390532  ,  1.6471336 ,  0.5863657 , ..., -0.66538244,\n",
              "        -0.28133115,  1.0092849 ],\n",
              "       [ 0.9676127 , -1.0981908 ,  2.4996898 , ...,  0.9023401 ,\n",
              "         0.41193992,  1.0133822 ]], dtype=float32)>"
            ]
          },
          "metadata": {
            "tags": []
          },
          "execution_count": 109
        }
      ]
    },
    {
      "cell_type": "code",
      "metadata": {
        "id": "JwN1sNfXuVTZ"
      },
      "source": [
        "# Работает ли?\n",
        "model_train(X_train, y_train)"
      ],
      "execution_count": null,
      "outputs": []
    },
    {
      "cell_type": "code",
      "metadata": {
        "colab": {
          "base_uri": "https://localhost:8080/"
        },
        "id": "HApHNEu_uVTZ",
        "outputId": "7b8f09da-472f-42c8-9dd5-669b4f7d1dac"
      },
      "source": [
        "W"
      ],
      "execution_count": null,
      "outputs": [
        {
          "output_type": "execute_result",
          "data": {
            "text/plain": [
              "<tf.Variable 'Variable:0' shape=(784, 10) dtype=float32, numpy=\n",
              "array([[-0.245692  , -2.0092463 , -1.5693117 , ...,  0.16578464,\n",
              "        -0.8111374 , -0.6714431 ],\n",
              "       [ 2.263861  , -1.6719215 ,  0.5979652 , ..., -0.45333967,\n",
              "        -2.6322613 ,  1.5602759 ],\n",
              "       [-0.84413904,  0.22151935, -0.10664168, ...,  1.056369  ,\n",
              "        -0.28323323,  0.04176739],\n",
              "       ...,\n",
              "       [ 0.31887442,  0.91679156,  2.1292331 , ..., -1.2924246 ,\n",
              "        -0.23017913,  1.8469276 ],\n",
              "       [-1.3905705 ,  1.6470342 ,  0.58646184, ..., -0.665402  ,\n",
              "        -0.2812328 ,  1.0093764 ],\n",
              "       [ 0.96765083, -1.0982853 ,  2.4997752 , ...,  0.90232784,\n",
              "         0.41203445,  1.0134562 ]], dtype=float32)>"
            ]
          },
          "metadata": {
            "tags": []
          },
          "execution_count": 111
        }
      ]
    },
    {
      "cell_type": "markdown",
      "metadata": {
        "id": "GnGRrCb0uVTa"
      },
      "source": [
        "Остался только этап для обучения модели. Напишем функцию, которая будет генерировать из наших данных батчи. Одна эпоха - один проход модели по всем батчам. Один батч - совокупность наблюдений.  В этом может помочь [специальный класс для создания батчей, Dataset.](https://www.tensorflow.org/api_docs/python/tf/data/Dataset)"
      ]
    },
    {
      "cell_type": "code",
      "metadata": {
        "id": "_WnYe46zuVTa"
      },
      "source": [
        "# создали объект с данными для обучения \n",
        "train_data = tf.data.Dataset.from_tensor_slices((X_train, y_train))\n",
        "\n",
        "# перемешали данные с окном в 5000 и сделали кучу батчей размера 512 \n",
        "train_data = train_data.shuffle(5000).batch(512)"
      ],
      "execution_count": null,
      "outputs": []
    },
    {
      "cell_type": "markdown",
      "metadata": {
        "id": "RtIpe2jcuVTa"
      },
      "source": [
        "Напишем небольшую функцию для визуализации процедуры обучения. "
      ]
    },
    {
      "cell_type": "code",
      "metadata": {
        "id": "Vfvgde9ouVTb"
      },
      "source": [
        "from IPython import display\n",
        "\n",
        "def visualize(l1,l2, h1, h2):\n",
        "    plt.figure(figsize=(20,5)) \n",
        "    epo_range = range(1,len(h1)+1)\n",
        "    tick_range = range(1,len(h1)+1,2)\n",
        "    plt.subplot(1,2,1)\n",
        "    plt.title('Learning loss')\n",
        "    plt.plot(epo_range,l1, label='train set')\n",
        "    plt.plot(epo_range,l2, label='valid set')\n",
        "    plt.grid()\n",
        "    plt.xticks(tick_range)\n",
        "    plt.legend(title = 'Loss at:')\n",
        "    \n",
        "    plt.subplot(1,2,2)\n",
        "    plt.title('Learning accuracy')\n",
        "    plt.plot(epo_range,h1, label='train set')\n",
        "    plt.plot(epo_range,h2, label='valid set')\n",
        "    plt.grid()\n",
        "    plt.xticks(tick_range)\n",
        "    plt.ylim(0, 1.)\n",
        "    plt.legend(title = 'Accuracy at:')\n",
        "    \n",
        "    display.clear_output(wait=True)\n",
        "    plt.show()"
      ],
      "execution_count": null,
      "outputs": []
    },
    {
      "cell_type": "markdown",
      "metadata": {
        "id": "3eTxcMQkuVTb"
      },
      "source": [
        "Обучаем модель! "
      ]
    },
    {
      "cell_type": "code",
      "metadata": {
        "colab": {
          "base_uri": "https://localhost:8080/",
          "height": 333
        },
        "id": "J686HqZquVTb",
        "outputId": "387525bb-7f62-4bbd-bde0-c50d1d2ba7cc"
      },
      "source": [
        "epochs = 100           # число эпох \n",
        "training_steps = 1000  # сколько раз на эпохе теребить генератор батчей\n",
        "\n",
        "# Вектора для метрик\n",
        "loss_test, loss_train  = [ ], [ ] \n",
        "acc_test, acc_train = [ ], [ ]\n",
        "\n",
        "for i in range(epochs):\n",
        "    \n",
        "    # Проходимся по всем батчам\n",
        "    for batch_x, batch_y in train_data.take(training_steps):\n",
        "        model_train(batch_x,batch_y)\n",
        "        \n",
        "        # Делаем щаг градиентного спуска \n",
        "        ### Ваш код для шага на текущем батче\n",
        "\n",
        "        ########################\n",
        "    \n",
        "    # в конце эпохи считаем метрики\n",
        "    p_train = logistic_regression(X_train)\n",
        "    p_test = logistic_regression(X_test)\n",
        "    \n",
        "    loss_train.append(logloss(p_train, y_train))\n",
        "    loss_test.append(logloss(p_test, y_test))\n",
        "    \n",
        "    acc_train.append(accuracy(p_train, y_train))\n",
        "    acc_test.append(accuracy(p_test, y_test))\n",
        "    \n",
        "    # визуализируем\n",
        "    visualize(loss_train, loss_test, acc_train, acc_test) "
      ],
      "execution_count": null,
      "outputs": [
        {
          "output_type": "display_data",
          "data": {
            "image/png": "[encoded data removed]",
            "text/plain": [
              "<Figure size 1440x360 with 2 Axes>"
            ]
          },
          "metadata": {
            "tags": [],
            "needs_background": "light"
          }
        }
      ]
    },
    {
      "cell_type": "markdown",
      "metadata": {
        "id": "4ndUwlUKuVTb"
      },
      "source": [
        "Делать такие визуализации для больших нейронок и большого количества эпох не лучшая идея, но так как мы только учимся и хотим красивых картинок, то мы можем себе это позволить. __Отдельно обратите внимание,__ что TensorFlow очень чуствительна к размерностям. Например, чтобы работала функция `matmul`, нужно подать ей на вход обязательно матрицы. Даже если это матрица размера $1 \\times 1$."
      ]
    },
    {
      "cell_type": "markdown",
      "metadata": {
        "id": "aq0a9WA1uVTb"
      },
      "source": [
        "## Домашнее задание\n",
        "\n",
        "Переделайте свою логистическую регрессию в двухслойную нейросетку. В качестве функции активации возьмите что угодно. Функцию, где будет реализована модель назовите `our_nn`."
      ]
    },
    {
      "cell_type": "code",
      "metadata": {
        "id": "sbkeiEXEuVTb"
      },
      "source": [
        "# Ваш код"
      ],
      "execution_count": null,
      "outputs": []
    },
    {
      "cell_type": "markdown",
      "metadata": {
        "id": "TAYnUSDouVTc"
      },
      "source": [
        "Обучаем модель!"
      ]
    },
    {
      "cell_type": "code",
      "metadata": {
        "id": "gvyijf5uuVTc"
      },
      "source": [
        "epochs = 100           # число эпох \n",
        "training_steps = 1000  # сколько раз на эпохе теребить генератор батчей\n",
        "\n",
        "# Вектора для метрик\n",
        "loss_test, loss_train  = [ ], [ ] \n",
        "acc_test, acc_train = [ ], [ ]\n",
        "\n",
        "for i in range(epochs):\n",
        "    \n",
        "    # Проходимся по всем батчам\n",
        "    for batch_x, batch_y in train_data.take(training_steps):\n",
        "        \n",
        "        # Делаем щаг градиентного спуска \n",
        "        model_train(batch_x, batch_y)\n",
        "    \n",
        "    p_train = our_nn(X_train)\n",
        "    p_test = our_nn(X_test)\n",
        "    \n",
        "    loss_train.append(logloss(p_train, y_train))\n",
        "    loss_test.append(logloss(p_test, y_test))\n",
        "    \n",
        "    acc_train.append(accuracy(p_train, y_train))\n",
        "    acc_test.append(accuracy(p_test, y_test))\n",
        "    \n",
        "    # визуализируем\n",
        "    visualize(loss_train, loss_test, acc_train, acc_test) "
      ],
      "execution_count": null,
      "outputs": []
    },
    {
      "cell_type": "markdown",
      "metadata": {
        "id": "3xk3j_xauVTc"
      },
      "source": [
        "# Вместо итога.\n",
        "\n",
        "__Но... Но... Но... Намного проще собрать это в Keras! Зачем нам страдать?__\n",
        "\n",
        "Дело в том, что Keras лишь надстройка над tensorflow. По факту все слои, написанные для Keras - это замаскированный tensorflow. Более того, даже сетку, написанную на Keras можно обучать таким вот незатейливым циклом, как у нас. Иногда так намного проще проверять свои идеи. \n",
        "\n",
        "* Например, в прошлый раз мы с вами пытались мень скорость обучения сетки с помощью колбэков прямо в процессе обучения. Это было довольно неприятно и код был неочевидным. Если описывать процедуру обучения в виде цикла, работать становится проще.  В Tensorflow проще делать довольно много разных вещей, а также проще реализовывать и проверять какие-то свои идеи. \n",
        "* В том числе на Tensorflow можно писать новые слои для Keras и встраивать их в свои сетки. Этим мы тоже с вами позанимаемся."
      ]
    },
    {
      "cell_type": "markdown",
      "metadata": {
        "id": "lK2Wp27sWEO7"
      },
      "source": [
        "## Бонусная инфа\n",
        "\n",
        "Можно использовать keras, о котором мы поговорим на следующем семинаре, но и оставаться с большой степенью свободы Tensorflow, описывая модель почти как в pytorch (попроще, конечно, в торче все низкоуровнево)\n"
      ]
    },
    {
      "cell_type": "code",
      "metadata": {
        "id": "ET9K0vaoWDck"
      },
      "source": [
        "from tensorflow.keras.layers import Dense\n",
        "from tensorflow.keras import Model\n",
        "from tensorflow.keras.layers import BatchNormalization"
      ],
      "execution_count": null,
      "outputs": []
    },
    {
      "cell_type": "code",
      "metadata": {
        "id": "tdVA4z0_W7Br"
      },
      "source": [
        "# создали объект с данными для обучения \n",
        "train_data = tf.data.Dataset.from_tensor_slices((X_train, y_train))\n",
        "\n",
        "# перемешали данные с окном в 5000 и сделали кучу батчей размера 512 \n",
        "train_data = train_data.shuffle(5000).batch(512)"
      ],
      "execution_count": null,
      "outputs": []
    },
    {
      "cell_type": "code",
      "metadata": {
        "id": "6maOac98XHOe"
      },
      "source": [
        "#создаем класс с нашей моделью\n",
        "class MyModel(Model):\n",
        "    def __init__(self):\n",
        "        super(MyModel, self).__init__()\n",
        "        self.d1 = Dense(64, activation='relu', kernel_initializer='he_normal')\n",
        "        self.bn1 = BatchNormalization()\n",
        "        self.d2 = Dense(64, activation='relu', kernel_initializer='he_normal')\n",
        "        self.bn2 = BatchNormalization()\n",
        "        self.d3 = Dense(10)\n",
        "\n",
        "    def call(self, x, training=False):\n",
        "        x = self.d1(x)\n",
        "        x = self.bn1(x, training=training)\n",
        "        x = self.d2(x)\n",
        "        x = self.bn2(x, training=training)\n",
        "        x = self.d3(x)\n",
        "        return x\n",
        "\n",
        "# Create an instance of the model\n",
        "model = MyModel()"
      ],
      "execution_count": null,
      "outputs": []
    },
    {
      "cell_type": "code",
      "metadata": {
        "id": "DwpBh3OKeDDg"
      },
      "source": [
        "loss_object = tf.keras.losses.CategoricalCrossentropy(from_logits=True)\n",
        "optimizer = tf.keras.optimizers.Adam()"
      ],
      "execution_count": null,
      "outputs": []
    },
    {
      "cell_type": "code",
      "metadata": {
        "id": "gmoZqKFcenlg"
      },
      "source": [
        "train_loss = tf.keras.metrics.Mean(name='train_loss')\n",
        "train_accuracy = tf.keras.metrics.CategoricalAccuracy(name='train_accuracy')\n",
        "\n",
        "test_loss = tf.keras.metrics.Mean(name='test_loss')\n",
        "test_accuracy = tf.keras.metrics.CategoricalAccuracy(name='test_accuracy')"
      ],
      "execution_count": null,
      "outputs": []
    },
    {
      "cell_type": "code",
      "metadata": {
        "id": "7AXssxf4tV80"
      },
      "source": [
        "@tf.function\n",
        "def train_step(data, labels):\n",
        "    with tf.GradientTape() as tape:\n",
        "        predictions = model(data, training=True)\n",
        "        loss = loss_object(labels, predictions)\n",
        "    gradients = tape.gradient(loss, model.trainable_variables)\n",
        "    optimizer.apply_gradients(zip(gradients, model.trainable_variables))\n",
        "    train_loss(loss)\n",
        "    train_accuracy(labels, predictions)\n",
        "\n",
        "@tf.function\n",
        "def test_step(data, labels):\n",
        "    #не забываем про trainung=False\n",
        "    predictions = model(data, training=False)\n",
        "    t_loss = loss_object(labels, predictions)\n",
        "\n",
        "    test_loss(t_loss)\n",
        "    test_accuracy(labels, predictions)"
      ],
      "execution_count": null,
      "outputs": []
    },
    {
      "cell_type": "code",
      "metadata": {
        "colab": {
          "base_uri": "https://localhost:8080/"
        },
        "id": "yyXfizWhuEl9",
        "outputId": "10afd97a-dac3-4c33-edc7-13cc8f9583f7"
      },
      "source": [
        "EPOCHS = 20\n",
        "\n",
        "for epoch in range(EPOCHS):\n",
        "    # Reset the metrics at the start of the next epoch\n",
        "    train_loss.reset_states()\n",
        "    train_accuracy.reset_states()\n",
        "    test_loss.reset_states()\n",
        "    test_accuracy.reset_states()\n",
        "\n",
        "    for data_train, labels in train_data:\n",
        "        train_step(data_train, labels)\n",
        "\n",
        "    test_step(X_test, y_test)\n",
        "\n",
        "    print(\n",
        "        f'Epoch {epoch + 1}, '\n",
        "        f'Loss: {train_loss.result(): .4f}, '\n",
        "        f'Accuracy: {train_accuracy.result() * 100: .4f}, '\n",
        "        f'Test Loss: {test_loss.result(): .4f}, '\n",
        "        f'Test Accuracy: {test_accuracy.result() * 100: .4f}'\n",
        "    )"
      ],
      "execution_count": null,
      "outputs": [
        {
          "output_type": "stream",
          "text": [
            "Epoch 1, Loss:  0.6651, Accuracy:  77.7167, Test Loss:  0.7042, Test Accuracy:  79.4600\n",
            "Epoch 2, Loss:  0.4067, Accuracy:  85.7417, Test Loss:  0.4570, Test Accuracy:  84.4200\n",
            "Epoch 3, Loss:  0.3602, Accuracy:  87.2167, Test Loss:  0.4160, Test Accuracy:  85.1900\n",
            "Epoch 4, Loss:  0.3303, Accuracy:  88.1533, Test Loss:  0.4141, Test Accuracy:  84.6100\n",
            "Epoch 5, Loss:  0.3088, Accuracy:  88.8550, Test Loss:  0.3896, Test Accuracy:  85.9300\n",
            "Epoch 6, Loss:  0.2910, Accuracy:  89.3283, Test Loss:  0.3768, Test Accuracy:  86.4000\n",
            "Epoch 7, Loss:  0.2793, Accuracy:  89.8150, Test Loss:  0.3926, Test Accuracy:  85.5800\n",
            "Epoch 8, Loss:  0.2693, Accuracy:  90.0733, Test Loss:  0.3733, Test Accuracy:  86.6700\n",
            "Epoch 9, Loss:  0.2560, Accuracy:  90.6783, Test Loss:  0.3786, Test Accuracy:  86.3400\n",
            "Epoch 10, Loss:  0.2467, Accuracy:  90.9317, Test Loss:  0.3769, Test Accuracy:  86.0800\n",
            "Epoch 11, Loss:  0.2384, Accuracy:  91.2817, Test Loss:  0.3523, Test Accuracy:  87.3200\n",
            "Epoch 12, Loss:  0.2326, Accuracy:  91.4833, Test Loss:  0.3789, Test Accuracy:  86.2900\n",
            "Epoch 13, Loss:  0.2241, Accuracy:  91.8783, Test Loss:  0.3687, Test Accuracy:  86.9000\n",
            "Epoch 14, Loss:  0.2187, Accuracy:  91.9850, Test Loss:  0.3907, Test Accuracy:  86.3600\n",
            "Epoch 15, Loss:  0.2126, Accuracy:  92.2317, Test Loss:  0.3872, Test Accuracy:  86.6500\n",
            "Epoch 16, Loss:  0.2057, Accuracy:  92.5167, Test Loss:  0.3646, Test Accuracy:  86.9400\n",
            "Epoch 17, Loss:  0.1997, Accuracy:  92.7200, Test Loss:  0.3695, Test Accuracy:  87.0600\n",
            "Epoch 18, Loss:  0.1962, Accuracy:  92.6667, Test Loss:  0.3851, Test Accuracy:  86.9700\n",
            "Epoch 19, Loss:  0.1876, Accuracy:  93.1517, Test Loss:  0.3730, Test Accuracy:  87.1500\n",
            "Epoch 20, Loss:  0.1851, Accuracy:  93.3033, Test Loss:  0.3832, Test Accuracy:  86.8700\n"
          ],
          "name": "stdout"
        }
      ]
    }
  ]
}