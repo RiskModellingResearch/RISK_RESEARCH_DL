{
  "nbformat": 4,
  "nbformat_minor": 2,
  "metadata": {
    "colab": {
      "name": "TabNet.ipynb",
      "provenance": [],
      "collapsed_sections": []
    },
    "kernelspec": {
      "name": "python3",
      "display_name": "Python 3"
    },
    "language_info": {
      "name": "python"
    }
  },
  "cells": [
    {
      "cell_type": "code",
      "execution_count": 1,
      "source": [
        "import pandas as pd\n",
        "import numpy as np\n",
        "import matplotlib.pyplot as plt\n",
        "import time\n",
        "\n",
        "import torch\n",
        "import torch.nn as nn\n",
        "from torch.utils.data import Dataset,DataLoader\n",
        "import torchvision\n",
        "import torchvision.transforms as transforms\n",
        "from sklearn.metrics import roc_auc_score\n",
        "\n",
        "\n",
        "from sklearn import preprocessing\n",
        "import torch.optim as optim\n",
        "import torch.nn.functional as F\n",
        "import plotly as pl"
      ],
      "outputs": [],
      "metadata": {
        "id": "Vqp1h5EODUSm"
      }
    },
    {
      "cell_type": "code",
      "execution_count": 2,
      "source": [
        "class CustomDataset(Dataset):\n",
        "    def __init__(self, dataset_path):\n",
        "        data, self.nrof_emb_categories, self.unique_categories = pd.read_pickle(dataset_path)\n",
        "\n",
        "        self.embedding_columns = ['workclass_cat', 'education_cat', 'marital-status_cat', 'occupation_cat',\n",
        "                                  'relationship_cat', 'race_cat',\n",
        "                                  'sex_cat', 'native-country_cat']\n",
        "        self.nrof_emb_categories = {key + '_cat': val for key, val in self.nrof_emb_categories.items()}\n",
        "        self.numeric_columns = ['age', 'fnlwgt', 'education-num', 'capital-gain', 'capital-loss',\n",
        "                                'hours-per-week']\n",
        "\n",
        "        self.columns = self.embedding_columns + self.numeric_columns\n",
        "\n",
        "        self.X = data[self.columns].reset_index(drop=True)\n",
        "        self.y = np.asarray([0 if el == '<50k' else 1 for el in data['salary'].values], dtype=np.int32)\n",
        "        \n",
        "        self.X['education-num'] = self.X['education-num'].fillna(0)\n",
        "\n",
        "        return\n",
        "\n",
        "    def __len__(self):\n",
        "        return len(self.X)\n",
        "\n",
        "    def __getitem__(self, idx):\n",
        "\n",
        "        row = self.X.take([idx], axis=0).values\n",
        "        #упростим для табнета и не будем делать еще эмбединги категориальных переменных\n",
        "        #row = {col: torch.tensor(row[col], dtype=torch.float32) for i, col in enumerate(self.columns)}\n",
        "\n",
        "        return torch.Tensor(row), np.float32(self.y[idx])"
      ],
      "outputs": [],
      "metadata": {
        "id": "-wbR6XTyKo_f"
      }
    },
    {
      "cell_type": "code",
      "execution_count": 3,
      "source": [
        "TRAIN_PATH = 'train_adult.pickle'\n",
        "TEST_PATH = 'valid_adult.pickle'\n",
        "train_dataset = CustomDataset(TRAIN_PATH)\n",
        "test_dataset = CustomDataset(TEST_PATH)\n",
        "train_loader = DataLoader(dataset=train_dataset, batch_size=512, shuffle=True)\n",
        "test_loader = DataLoader(dataset=test_dataset, batch_size=512, shuffle=False)"
      ],
      "outputs": [],
      "metadata": {
        "id": "mpSPEwsqLN5x"
      }
    },
    {
      "cell_type": "code",
      "execution_count": 4,
      "source": [
        "def seed_everything(seed=7):\n",
        "    np.random.seed(seed)\n",
        "    np.random.seed(seed)\n",
        "    torch.manual_seed(seed)\n",
        "    torch.cuda.manual_seed(seed)\n",
        "    torch.backends.cudnn.deterministic = True\n",
        "    \n",
        "seed_everything(seed=7)"
      ],
      "outputs": [],
      "metadata": {
        "id": "2hKWEo5YD-cJ"
      }
    },
    {
      "cell_type": "code",
      "execution_count": 5,
      "source": [
        "device = 'cuda:0' if torch.cuda.is_available() else 'cpu'"
      ],
      "outputs": [],
      "metadata": {
        "id": "avEa-kDpD1t5"
      }
    },
    {
      "cell_type": "code",
      "execution_count": 6,
      "source": [
        "class Sparsemax(nn.Module):\n",
        "    def __init__(self, dim=None):\n",
        "        super(Sparsemax, self).__init__()\n",
        "        self.dim = -1 if dim is None else dim\n",
        "\n",
        "    def forward(self, input):\n",
        "        input = input.transpose(0, self.dim)\n",
        "        original_size = input.size()\n",
        "        input = input.reshape(input.size(0), -1)\n",
        "        input = input.transpose(0, 1)\n",
        "        dim = 1\n",
        "\n",
        "        number_of_logits = input.size(dim)\n",
        "        \n",
        "        input = input - torch.max(input, dim=dim, keepdim=True)[0].expand_as(input)\n",
        "        zs = torch.sort(input=input, dim=dim, descending=True)[0]\n",
        "        range = torch.arange(start=1, end=number_of_logits + 1, device=device,step=1, dtype=input.dtype).view(1, -1)\n",
        "        range = range.expand_as(zs)\n",
        "\n",
        "        bound = 1 + range * zs\n",
        "        cumulative_sum_zs = torch.cumsum(zs, dim)\n",
        "        is_gt = torch.gt(bound, cumulative_sum_zs).type(input.type())\n",
        "        k = torch.max(is_gt * range, dim, keepdim=True)[0]\n",
        "        zs_sparse = is_gt * zs\n",
        "        taus = (torch.sum(zs_sparse, dim, keepdim=True) - 1) / k\n",
        "        taus = taus.expand_as(input)\n",
        "        self.output = torch.max(torch.zeros_like(input), input - taus)\n",
        "        output = self.output\n",
        "        output = output.transpose(0, 1)\n",
        "        output = output.reshape(original_size)\n",
        "        output = output.transpose(0, self.dim)\n",
        "        return output\n",
        "\n",
        "    def backward(self, grad_output):\n",
        "        dim = 1\n",
        "        nonzeros = torch.ne(self.output, 0)\n",
        "        sum = torch.sum(grad_output * nonzeros, dim=dim) / torch.sum(nonzeros, dim=dim)\n",
        "        self.grad_input = nonzeros * (grad_output - sum.expand_as(grad_output))\n",
        "        return self.grad_input"
      ],
      "outputs": [],
      "metadata": {
        "id": "wWY3gsKkESCn"
      }
    },
    {
      "cell_type": "code",
      "execution_count": 7,
      "source": [
        "def initialize_non_glu(module,inp_dim,out_dim):\n",
        "    gain = np.sqrt((inp_dim+out_dim)/np.sqrt(4*inp_dim))\n",
        "    torch.nn.init.xavier_normal_(module.weight, gain=gain)\n",
        "    \n",
        "class GBN(nn.Module):\n",
        "    def __init__(self,inp,vbs=128,momentum=0.01):\n",
        "        super().__init__()\n",
        "        self.bn = nn.BatchNorm1d(inp,momentum=momentum)\n",
        "        self.vbs = vbs\n",
        "\n",
        "    def forward(self,x):\n",
        "        chunk = torch.chunk(x,max(1,x.size(0)//self.vbs),0)\n",
        "        res = [self.bn(y) for y in chunk ]\n",
        "        return torch.cat(res,0)\n",
        "\n",
        "class GLU(nn.Module):\n",
        "    def __init__(self,inp_dim,out_dim,fc=None,vbs=128):\n",
        "        super().__init__()\n",
        "        if fc:\n",
        "            self.fc = fc\n",
        "        else:\n",
        "            self.fc = nn.Linear(inp_dim,out_dim*2)\n",
        "        self.bn = GBN(out_dim*2,vbs=vbs) \n",
        "        self.od = out_dim\n",
        "\n",
        "    def forward(self,x):\n",
        "        x = self.bn(self.fc(x))\n",
        "        return x[:,:self.od]*torch.sigmoid(x[:,self.od:])\n",
        "    \n",
        "\n",
        "class FeatureTransformer(nn.Module):\n",
        "    def __init__(self,inp_dim,out_dim,shared,n_ind,vbs=128):\n",
        "        super().__init__()\n",
        "        first = True\n",
        "        self.shared = nn.ModuleList()\n",
        "        if shared:\n",
        "            self.shared.append(GLU(inp_dim,out_dim,shared[0],vbs=vbs))\n",
        "            first= False    \n",
        "            for fc in shared[1:]:\n",
        "                self.shared.append(GLU(out_dim,out_dim,fc,vbs=vbs))\n",
        "        else:\n",
        "            self.shared = None\n",
        "        self.independ = nn.ModuleList()\n",
        "        if first:\n",
        "            self.independ.append(GLU(inp,out_dim,vbs=vbs))\n",
        "        for x in range(first, n_ind):\n",
        "            self.independ.append(GLU(out_dim,out_dim,vbs=vbs))\n",
        "        self.scale = torch.sqrt(torch.tensor([.5],device=device))\n",
        "\n",
        "    def forward(self,x):\n",
        "        if self.shared:\n",
        "            x = self.shared[0](x)\n",
        "            for glu in self.shared[1:]:\n",
        "                x = torch.add(x, glu(x))\n",
        "                x = x*self.scale\n",
        "        for glu in self.independ:\n",
        "            x = torch.add(x, glu(x))\n",
        "            x = x*self.scale\n",
        "        return x\n",
        "\n",
        "class AttentionTransformer(nn.Module):\n",
        "    def __init__(self,inp_dim,out_dim,relax,vbs=128):\n",
        "        super().__init__()\n",
        "        self.fc = nn.Linear(inp_dim,out_dim)\n",
        "        self.bn = GBN(out_dim,vbs=vbs)\n",
        "        self.smax = Sparsemax()\n",
        "        self.r = torch.tensor([relax],device=device)\n",
        "\n",
        "    def forward(self,a,priors):\n",
        "        a = self.bn(self.fc(a))\n",
        "        mask = self.smax(a*priors)\n",
        "        priors =priors*(self.r-mask)\n",
        "        return mask\n",
        "\n",
        "class DecisionStep(nn.Module):\n",
        "    def __init__(self,inp_dim,n_d,n_a,shared,n_ind,relax,vbs=128):\n",
        "        super().__init__()\n",
        "        self.fea_tran = FeatureTransformer(inp_dim,n_d+n_a,shared,n_ind,vbs)\n",
        "        self.atten_tran = AttentionTransformer(n_a,inp_dim,relax,vbs)\n",
        "\n",
        "    def forward(self,x,a,priors):\n",
        "        mask = self.atten_tran(a,priors)\n",
        "        loss = ((-1)*mask*torch.log(mask+1e-10)).mean()\n",
        "        x = self.fea_tran(x*mask)\n",
        "        return x,loss\n",
        "\n",
        "class TabNet(nn.Module):\n",
        "    def __init__(self,inp_dim,final_out_dim,n_d=64,n_a=64,n_shared=2,n_ind=2,n_steps=5,relax=1.2,vbs=128):\n",
        "        super().__init__()\n",
        "        if n_shared>0:\n",
        "            self.shared = nn.ModuleList()\n",
        "            self.shared.append(nn.Linear(inp_dim,2*(n_d+n_a)))\n",
        "            for x in range(n_shared-1):\n",
        "                self.shared.append(nn.Linear(n_d+n_a,2*(n_d+n_a)))\n",
        "        else:\n",
        "            self.shared=None\n",
        "        self.first_step = FeatureTransformer(inp_dim,n_d+n_a,self.shared,n_ind) \n",
        "        self.steps = nn.ModuleList()\n",
        "        for x in range(n_steps-1):\n",
        "            self.steps.append(DecisionStep(inp_dim,n_d,n_a,self.shared,n_ind,relax,vbs))\n",
        "        self.fc = nn.Linear(n_d,final_out_dim)\n",
        "        self.bn = nn.BatchNorm1d(inp_dim)\n",
        "        self.n_d = n_d\n",
        "    def forward(self,x):\n",
        " \n",
        "        return output"
      ],
      "outputs": [],
      "metadata": {
        "id": "_jHBIBYPEWFS"
      }
    },
    {
      "cell_type": "code",
      "execution_count": 8,
      "source": [
        "model = TabNet(14,1,n_d=7,n_a=7,n_shared=1,n_ind=2,n_steps=3,relax=1.5,vbs=128)\n",
        "optimizer = optim.AdamW(model.parameters())\n",
        "loss_func = nn.BCEWithLogitsLoss()\n",
        "model.to(device)\n",
        "n_epochs = 10\n",
        "\n",
        "train_losses = []\n",
        "train_auc = []\n",
        "test_losses = []\n",
        "test_auc = []\n",
        "\n",
        "seed_everything(7)\n",
        "\n",
        "t = time.time()\n",
        "for x in range(n_epochs):\n",
        "    model.train()\n",
        "    for inp,tar in train_loader:\n",
        "        optimizer.zero_grad()\n",
        "        inp = inp.reshape(-1, 14)\n",
        "        tar = tar.reshape(-1, 1)\n",
        "        out = model(inp)\n",
        "        loss = loss_func(out,tar.to(device))\n",
        "        loss.backward()\n",
        "        optimizer.step()\n",
        "        train_losses.append(loss.detach().numpy())\n",
        "        train_auc.append(roc_auc_score(tar.detach().numpy(), torch.sigmoid(out).detach().numpy()))\n",
        "    model.eval()\n",
        "    with torch.no_grad():\n",
        "        for inp,tar in test_loader:\n",
        "            inp = inp.reshape(-1, 14)\n",
        "            tar = tar.reshape(-1, 1)\n",
        "            out,_ = model(inp)\n",
        "            loss = loss_func(out,tar.to(device))\n",
        "            test_losses.append(loss.detach().numpy())\n",
        "            test_auc.append(roc_auc_score(tar.detach().numpy(), torch.sigmoid(out).detach().numpy()))\n",
        "    print(f'epoch: {x}, train_loss: {train_losses[-1]: .2f}, train_auc: {train_auc[-1]: .2f},  test_loss: {test_losses[-1]: .2f}, test_auc: {test_auc[-1]: .2f}, elapsed_time: {(time.time() - t): .2f}')\n",
        "    t = time.time()"
      ],
      "outputs": [
        {
          "output_type": "stream",
          "name": "stdout",
          "text": [
            "epoch: 0, train_loss:  0.66, train_auc:  0.76,  test_loss:  0.74, test_auc:  0.72, elapsed_time:  10.43\n",
            "epoch: 1, train_loss:  0.54, train_auc:  0.81,  test_loss:  0.60, test_auc:  0.83, elapsed_time:  10.10\n",
            "epoch: 2, train_loss:  0.47, train_auc:  0.84,  test_loss:  0.47, test_auc:  0.84, elapsed_time:  10.04\n",
            "epoch: 3, train_loss:  0.44, train_auc:  0.82,  test_loss:  0.41, test_auc:  0.87, elapsed_time:  10.38\n",
            "epoch: 4, train_loss:  0.38, train_auc:  0.88,  test_loss:  0.37, test_auc:  0.88, elapsed_time:  12.13\n",
            "epoch: 5, train_loss:  0.38, train_auc:  0.89,  test_loss:  0.35, test_auc:  0.89, elapsed_time:  10.21\n",
            "epoch: 6, train_loss:  0.36, train_auc:  0.87,  test_loss:  0.35, test_auc:  0.89, elapsed_time:  10.19\n",
            "epoch: 7, train_loss:  0.36, train_auc:  0.86,  test_loss:  0.33, test_auc:  0.90, elapsed_time:  10.26\n",
            "epoch: 8, train_loss:  0.35, train_auc:  0.89,  test_loss:  0.33, test_auc:  0.91, elapsed_time:  10.41\n",
            "epoch: 9, train_loss:  0.34, train_auc:  0.88,  test_loss:  0.32, test_auc:  0.90, elapsed_time:  10.13\n"
          ]
        }
      ],
      "metadata": {
        "colab": {
          "base_uri": "https://localhost:8080/"
        },
        "id": "Q9IQQpHfdSK9",
        "outputId": "91244aa7-b15a-437b-be06-398af6e7db88"
      }
    },
    {
      "cell_type": "code",
      "execution_count": 9,
      "source": [
        "plt.plot(train_losses, 'r', label='train')\n",
        "plt.legend()\n",
        "plt.show()"
      ],
      "outputs": [
        {
          "output_type": "display_data",
          "data": {
            "text/plain": [
              "<Figure size 432x288 with 1 Axes>"
            ],
            "image/png": "[encoded data removed]"
          },
          "metadata": {
            "tags": [],
            "needs_background": "light"
          }
        }
      ],
      "metadata": {
        "colab": {
          "base_uri": "https://localhost:8080/",
          "height": 265
        },
        "id": "QOYc05-Z33VK",
        "outputId": "9a6be864-5f2c-480e-f75c-01cac330c21f"
      }
    },
    {
      "cell_type": "code",
      "execution_count": 10,
      "source": [
        "plt.plot(train_auc, 'r', label='train')\n",
        "plt.legend()\n",
        "plt.show()"
      ],
      "outputs": [
        {
          "output_type": "display_data",
          "data": {
            "text/plain": [
              "<Figure size 432x288 with 1 Axes>"
            ],
            "image/png": "[encoded data removed]"
          },
          "metadata": {
            "tags": [],
            "needs_background": "light"
          }
        }
      ],
      "metadata": {
        "colab": {
          "base_uri": "https://localhost:8080/",
          "height": 265
        },
        "id": "ZAbDN1f5bNsi",
        "outputId": "66adf793-c898-408f-90eb-8fd47d82c157"
      }
    },
    {
      "cell_type": "code",
      "execution_count": 11,
      "source": [
        "plt.plot(test_losses, 'r', label='test')\n",
        "plt.legend()\n",
        "plt.show()"
      ],
      "outputs": [
        {
          "output_type": "display_data",
          "data": {
            "text/plain": [
              "<Figure size 432x288 with 1 Axes>"
            ],
            "image/png": "[encoded data removed]"
          },
          "metadata": {
            "tags": [],
            "needs_background": "light"
          }
        }
      ],
      "metadata": {
        "colab": {
          "base_uri": "https://localhost:8080/",
          "height": 265
        },
        "id": "cqqu1jeDHEpM",
        "outputId": "6a66e34e-b6ee-4562-9349-06896edbd286"
      }
    },
    {
      "cell_type": "code",
      "execution_count": 12,
      "source": [
        "plt.plot(test_auc, 'r', label='test')\n",
        "plt.legend()\n",
        "plt.show()"
      ],
      "outputs": [
        {
          "output_type": "display_data",
          "data": {
            "text/plain": [
              "<Figure size 432x288 with 1 Axes>"
            ],
            "image/png": "[encoded data removed]"
          },
          "metadata": {
            "tags": [],
            "needs_background": "light"
          }
        }
      ],
      "metadata": {
        "colab": {
          "base_uri": "https://localhost:8080/",
          "height": 265
        },
        "id": "kseBwo94bTcz",
        "outputId": "61182d7c-de82-46ba-ab02-3f3eaa4be4a9"
      }
    },
    {
      "cell_type": "markdown",
      "source": [
        "Не часто сейчас используют собственные реализации и разбираются в том, что запускают...Давайте попробуем использовать уже готовую реализацию сетки и увидим, какой будет результат"
      ],
      "metadata": {
        "id": "S6zvTFMkzdXm"
      }
    },
    {
      "cell_type": "code",
      "execution_count": 13,
      "source": [
        "!pip install pytorch-tabnet"
      ],
      "outputs": [
        {
          "output_type": "stream",
          "name": "stdout",
          "text": [
            "Collecting pytorch-tabnet\n",
            "  Downloading https://files.pythonhosted.org/packages/94/e5/2a808d611a5d44e3c997c0d07362c04a56c70002208e00aec9eee3d923b5/pytorch_tabnet-3.1.1-py3-none-any.whl\n",
            "Requirement already satisfied: scikit_learn>0.21 in /usr/local/lib/python3.7/dist-packages (from pytorch-tabnet) (0.22.2.post1)\n",
            "Requirement already satisfied: numpy<2.0,>=1.17 in /usr/local/lib/python3.7/dist-packages (from pytorch-tabnet) (1.19.5)\n",
            "Requirement already satisfied: tqdm<5.0,>=4.36 in /usr/local/lib/python3.7/dist-packages (from pytorch-tabnet) (4.41.1)\n",
            "Requirement already satisfied: torch<2.0,>=1.2 in /usr/local/lib/python3.7/dist-packages (from pytorch-tabnet) (1.9.0+cu102)\n",
            "Requirement already satisfied: scipy>1.4 in /usr/local/lib/python3.7/dist-packages (from pytorch-tabnet) (1.4.1)\n",
            "Requirement already satisfied: joblib>=0.11 in /usr/local/lib/python3.7/dist-packages (from scikit_learn>0.21->pytorch-tabnet) (1.0.1)\n",
            "Requirement already satisfied: typing-extensions in /usr/local/lib/python3.7/dist-packages (from torch<2.0,>=1.2->pytorch-tabnet) (3.7.4.3)\n",
            "Installing collected packages: pytorch-tabnet\n",
            "Successfully installed pytorch-tabnet-3.1.1\n"
          ]
        }
      ],
      "metadata": {
        "colab": {
          "base_uri": "https://localhost:8080/"
        },
        "id": "ZkhDXlCGzb_G",
        "outputId": "95e9caf6-ce18-4fab-b6cb-a6400de83029"
      }
    },
    {
      "cell_type": "code",
      "execution_count": 16,
      "source": [
        "from pytorch_tabnet.tab_model import TabNetClassifier\n",
        "from pytorch_tabnet.metrics import Metric"
      ],
      "outputs": [],
      "metadata": {
        "id": "lVDxBckN2Nar"
      }
    },
    {
      "cell_type": "code",
      "execution_count": 38,
      "source": [
        "class RocAuc(Metric):\n",
        "    def __init__(self):\n",
        "        self._name = \"roc_auc\"\n",
        "        self._maximize = True\n",
        "\n",
        "    def __call__(self, y_true, y_score):\n",
        "        auc = roc_auc_score(y_true, y_score[:, 1])\n",
        "        return auc\n",
        "\n",
        "clf = TabNetClassifier(\n",
        "    n_d=7,\n",
        "    n_a=7,\n",
        "    n_shared=1,\n",
        "    n_steps=3,\n",
        "    gamma=1.5, #relax\n",
        "    optimizer_fn=optim.AdamW,\n",
        "    mask_type='sparsemax')"
      ],
      "outputs": [
        {
          "output_type": "stream",
          "name": "stdout",
          "text": [
            "Device used : cpu\n"
          ]
        }
      ],
      "metadata": {
        "colab": {
          "base_uri": "https://localhost:8080/"
        },
        "id": "tRBxH7292QBo",
        "outputId": "2fa36a64-345a-4552-ac00-88dbe80798a3"
      }
    },
    {
      "cell_type": "code",
      "execution_count": 22,
      "source": [
        "X_train = train_dataset.X.copy()\n",
        "y_train = train_dataset.y.copy()\n",
        "\n",
        "X_test = test_dataset.X.copy()\n",
        "y_test = test_dataset.y.copy()"
      ],
      "outputs": [],
      "metadata": {
        "id": "kp9X-rWx63R6"
      }
    },
    {
      "cell_type": "code",
      "execution_count": 39,
      "source": [
        "clf.fit(\n",
        "    X_train.values,\n",
        "    y_train,\n",
        "    eval_set=[(X_train.values, y_train), (X_test.values, y_test)],\n",
        "    eval_name=['train', 'valid'],\n",
        "    eval_metric=[RocAuc],\n",
        "    max_epochs=10,\n",
        "    batch_size=512,\n",
        "    virtual_batch_size=64\n",
        ")"
      ],
      "outputs": [
        {
          "output_type": "stream",
          "name": "stdout",
          "text": [
            "epoch 0  | loss: 0.44657 | train_roc_auc: 0.70006 | valid_roc_auc: 0.69299 |  0:00:03s\n",
            "epoch 1  | loss: 0.39431 | train_roc_auc: 0.79281 | valid_roc_auc: 0.79427 |  0:00:06s\n",
            "epoch 2  | loss: 0.38577 | train_roc_auc: 0.84877 | valid_roc_auc: 0.84864 |  0:00:09s\n",
            "epoch 3  | loss: 0.37639 | train_roc_auc: 0.86269 | valid_roc_auc: 0.864   |  0:00:12s\n",
            "epoch 4  | loss: 0.37291 | train_roc_auc: 0.87063 | valid_roc_auc: 0.8691  |  0:00:15s\n",
            "epoch 5  | loss: 0.36686 | train_roc_auc: 0.88002 | valid_roc_auc: 0.88049 |  0:00:18s\n",
            "epoch 6  | loss: 0.35843 | train_roc_auc: 0.88929 | valid_roc_auc: 0.88518 |  0:00:21s\n",
            "epoch 7  | loss: 0.34915 | train_roc_auc: 0.89508 | valid_roc_auc: 0.89222 |  0:00:24s\n",
            "epoch 8  | loss: 0.34259 | train_roc_auc: 0.89696 | valid_roc_auc: 0.8945  |  0:00:27s\n",
            "epoch 9  | loss: 0.34244 | train_roc_auc: 0.89696 | valid_roc_auc: 0.89337 |  0:00:30s\n",
            "Stop training because you reached max_epochs = 10 with best_epoch = 8 and best_valid_roc_auc = 0.8945\n",
            "Best weights from best epoch are automatically used!\n"
          ]
        }
      ],
      "metadata": {
        "colab": {
          "base_uri": "https://localhost:8080/"
        },
        "id": "wCc7vU0l4Q7A",
        "outputId": "5d64550e-3b3a-4bf6-d546-bbb17f6d5e3d"
      }
    },
    {
      "cell_type": "markdown",
      "source": [
        "А тепепрь давайте попробуем все же включить какую-то предобработку категориальных переменных!"
      ],
      "metadata": {
        "id": "FliF4pKpEaYh"
      }
    },
    {
      "cell_type": "code",
      "execution_count": 41,
      "source": [
        "train_dataset.embedding_columns"
      ],
      "outputs": [
        {
          "output_type": "execute_result",
          "data": {
            "text/plain": [
              "['workclass_cat',\n",
              " 'education_cat',\n",
              " 'marital-status_cat',\n",
              " 'occupation_cat',\n",
              " 'relationship_cat',\n",
              " 'race_cat',\n",
              " 'sex_cat',\n",
              " 'native-country_cat']"
            ]
          },
          "metadata": {
            "tags": []
          },
          "execution_count": 41
        }
      ],
      "metadata": {
        "colab": {
          "base_uri": "https://localhost:8080/"
        },
        "id": "nU_6sT8dEdN5",
        "outputId": "e550ec23-b22d-40c9-cbf5-0620e11f0f2c"
      }
    },
    {
      "cell_type": "code",
      "execution_count": 52,
      "source": [
        "cat_features_idx = [i for i, feature in enumerate(train_dataset.X.columns.values) \n",
        "                      if feature in train_dataset.embedding_columns]\n",
        "cat_features_dims = [len(train_dataset.X.iloc[:, col].unique()) for col in cat_features_idx]"
      ],
      "outputs": [],
      "metadata": {
        "id": "dAWfIs0bE2te"
      }
    },
    {
      "cell_type": "code",
      "execution_count": 55,
      "source": [
        "clf_with_emb = TabNetClassifier(\n",
        "    cat_idxs=cat_features_idx,\n",
        "    cat_dims=cat_features_dims,\n",
        "    cat_emb_dim=4,\n",
        "    n_d=7,\n",
        "    n_a=7,\n",
        "    n_shared=1,\n",
        "    n_steps=3,\n",
        "    gamma=1.5, #relax\n",
        "    optimizer_fn=optim.AdamW,\n",
        "    mask_type='sparsemax')\n",
        "\n",
        "clf_with_emb.fit(\n",
        "    X_train.values,\n",
        "    y_train,\n",
        "    eval_set=[(X_train.values, y_train), (X_test.values, y_test)],\n",
        "    eval_name=['train', 'valid'],\n",
        "    eval_metric=[RocAuc],\n",
        "    max_epochs=10,\n",
        "    batch_size=512,\n",
        "    virtual_batch_size=64\n",
        ")"
      ],
      "outputs": [
        {
          "output_type": "stream",
          "name": "stdout",
          "text": [
            "Device used : cpu\n",
            "epoch 0  | loss: 0.47805 | train_roc_auc: 0.72842 | valid_roc_auc: 0.72603 |  0:00:03s\n",
            "epoch 1  | loss: 0.40708 | train_roc_auc: 0.82461 | valid_roc_auc: 0.82522 |  0:00:07s\n",
            "epoch 2  | loss: 0.39003 | train_roc_auc: 0.8619  | valid_roc_auc: 0.86614 |  0:00:11s\n",
            "epoch 3  | loss: 0.38225 | train_roc_auc: 0.87129 | valid_roc_auc: 0.87143 |  0:00:15s\n",
            "epoch 4  | loss: 0.37484 | train_roc_auc: 0.87964 | valid_roc_auc: 0.87982 |  0:00:19s\n",
            "epoch 5  | loss: 0.36185 | train_roc_auc: 0.8869  | valid_roc_auc: 0.88679 |  0:00:23s\n",
            "epoch 6  | loss: 0.35576 | train_roc_auc: 0.8911  | valid_roc_auc: 0.89001 |  0:00:27s\n",
            "epoch 7  | loss: 0.34963 | train_roc_auc: 0.89474 | valid_roc_auc: 0.89468 |  0:00:31s\n",
            "epoch 8  | loss: 0.34375 | train_roc_auc: 0.89656 | valid_roc_auc: 0.89608 |  0:00:35s\n",
            "epoch 9  | loss: 0.33809 | train_roc_auc: 0.90042 | valid_roc_auc: 0.89963 |  0:00:39s\n",
            "Stop training because you reached max_epochs = 10 with best_epoch = 9 and best_valid_roc_auc = 0.89963\n",
            "Best weights from best epoch are automatically used!\n"
          ]
        }
      ],
      "metadata": {
        "colab": {
          "base_uri": "https://localhost:8080/"
        },
        "id": "qnD0YKrkHqv0",
        "outputId": "3f95c631-523d-49fe-ca18-cda0d4e5947d"
      }
    }
  ]
}