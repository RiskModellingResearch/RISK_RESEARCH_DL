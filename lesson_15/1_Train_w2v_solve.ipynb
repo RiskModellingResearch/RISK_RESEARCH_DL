{
  "nbformat": 4,
  "nbformat_minor": 0,
  "metadata": {
    "kernelspec": {
      "display_name": "Python 3",
      "language": "python",
      "name": "python3"
    },
    "language_info": {
      "codemirror_mode": {
        "name": "ipython",
        "version": 3
      },
      "file_extension": ".py",
      "mimetype": "text/x-python",
      "name": "python",
      "nbconvert_exporter": "python",
      "pygments_lexer": "ipython3",
      "version": "3.7.4"
    },
    "colab": {
      "name": "1. Train_w2v_solve.ipynb",
      "provenance": [],
      "collapsed_sections": []
    }
  },
  "cells": [
    {
      "cell_type": "markdown",
      "metadata": {
        "id": "pb2RNZapd5ss"
      },
      "source": [
        "# Как научить компьютер читать? \n",
        "\n",
        "В этой тетрадке мы обучим свой собственный word2vec. Делать мы это будем на каком-нибудь не очень большом тексте, который вам предстоит выбрать самому. На выбор есть [несколько сказок](https://github.com/nevmenandr/word2vec-russian-novels/tree/master/vector-school) и других [литературных штук](https://github.com/nevmenandr/word2vec-russian-novels/tree/master/books_before) из школьной программы. "
      ]
    },
    {
      "cell_type": "code",
      "metadata": {
        "colab": {
          "base_uri": "https://localhost:8080/"
        },
        "id": "PlDrJwz0e23E",
        "outputId": "93f3857d-f8a8-4004-a567-75a9fa4ee2ab"
      },
      "source": [
        "!pip install pymorphy2"
      ],
      "execution_count": 1,
      "outputs": [
        {
          "output_type": "stream",
          "name": "stdout",
          "text": [
            "Collecting pymorphy2\n",
            "  Downloading pymorphy2-0.9.1-py3-none-any.whl (55 kB)\n",
            "\u001b[?25l\r\u001b[K     |██████                          | 10 kB 23.3 MB/s eta 0:00:01\r\u001b[K     |███████████▉                    | 20 kB 30.1 MB/s eta 0:00:01\r\u001b[K     |█████████████████▊              | 30 kB 15.6 MB/s eta 0:00:01\r\u001b[K     |███████████████████████▋        | 40 kB 11.6 MB/s eta 0:00:01\r\u001b[K     |█████████████████████████████▌  | 51 kB 8.1 MB/s eta 0:00:01\r\u001b[K     |████████████████████████████████| 55 kB 2.7 MB/s \n",
            "\u001b[?25hRequirement already satisfied: docopt>=0.6 in /usr/local/lib/python3.7/dist-packages (from pymorphy2) (0.6.2)\n",
            "Collecting dawg-python>=0.7.1\n",
            "  Downloading DAWG_Python-0.7.2-py2.py3-none-any.whl (11 kB)\n",
            "Collecting pymorphy2-dicts-ru<3.0,>=2.4\n",
            "  Downloading pymorphy2_dicts_ru-2.4.417127.4579844-py2.py3-none-any.whl (8.2 MB)\n",
            "\u001b[K     |████████████████████████████████| 8.2 MB 11.5 MB/s \n",
            "\u001b[?25hInstalling collected packages: pymorphy2-dicts-ru, dawg-python, pymorphy2\n",
            "Successfully installed dawg-python-0.7.2 pymorphy2-0.9.1 pymorphy2-dicts-ru-2.4.417127.4579844\n"
          ]
        }
      ]
    },
    {
      "cell_type": "code",
      "metadata": {
        "colab": {
          "base_uri": "https://localhost:8080/"
        },
        "id": "Dlhtg-7FeR1F",
        "outputId": "423ade15-cb5c-4f2d-f675-c3ebe1b3c23a"
      },
      "source": [
        " import nltk\n",
        " nltk.download('punkt')\n",
        " nltk.download('stopwords')"
      ],
      "execution_count": 2,
      "outputs": [
        {
          "output_type": "stream",
          "name": "stdout",
          "text": [
            "[nltk_data] Downloading package punkt to /root/nltk_data...\n",
            "[nltk_data]   Unzipping tokenizers/punkt.zip.\n",
            "[nltk_data] Downloading package stopwords to /root/nltk_data...\n",
            "[nltk_data]   Unzipping corpora/stopwords.zip.\n"
          ]
        },
        {
          "output_type": "execute_result",
          "data": {
            "text/plain": [
              "True"
            ]
          },
          "metadata": {},
          "execution_count": 2
        }
      ]
    },
    {
      "cell_type": "code",
      "metadata": {
        "id": "bUwyXgMqd5sw"
      },
      "source": [
        "# Ссылка на выбранное вами произведение\n",
        "# Я взял преступление и наказание (ненвижу Достоевского)\n",
        "url = 'https://raw.githubusercontent.com/nevmenandr/word2vec-russian-novels/master/books_before/CrimeAndPunishment.txt'\n"
      ],
      "execution_count": 3,
      "outputs": []
    },
    {
      "cell_type": "markdown",
      "metadata": {
        "id": "3DE1ETjYd5sy"
      },
      "source": [
        "Спарсим текст из файлика."
      ]
    },
    {
      "cell_type": "code",
      "metadata": {
        "colab": {
          "base_uri": "https://localhost:8080/"
        },
        "id": "WPWkmmI3d5sy",
        "outputId": "225fada6-7e7e-4f0c-cc2e-89d8d3664391"
      },
      "source": [
        "import requests\n",
        "\n",
        "resp = requests.get(url)\n",
        "text = resp.text \n",
        "\n",
        "# Последние 500 символов. Аккуратно! Спойлеры!\n",
        "print(text[-500:])"
      ],
      "execution_count": 4,
      "outputs": [
        {
          "output_type": "stream",
          "name": "stdout",
          "text": [
            "смотреть на эти семь лет, как на семь\n",
            "дней. Он даже и не знал того, что новая жизнь не даром же ему достается, что ее надо еще дорого купить, заплатить за нее великим, будущим подвигом...\n",
            "Но тут уж начинается новая история, история постепенного обновления человека, история постепенного перерождения его, постепенного перехода из одного мира в другой, знакомства с новою, доселе совершенно неведомою действительностью. Это могло бы составить тему нового рассказа, - но теперешний рассказ наш окончен.\n"
          ]
        }
      ]
    },
    {
      "cell_type": "markdown",
      "metadata": {
        "id": "S6bHOsnRd5s0"
      },
      "source": [
        "## 1. Предобработка\n",
        "\n",
        "Теперь нам надо его немного предобработать.  Пусть все слова пишутся с маленькой буквы. "
      ]
    },
    {
      "cell_type": "code",
      "metadata": {
        "id": "WIcLQyRZd5s0"
      },
      "source": [
        "text = text.lower()"
      ],
      "execution_count": 5,
      "outputs": []
    },
    {
      "cell_type": "markdown",
      "metadata": {
        "id": "yydbI-Lrd5s0"
      },
      "source": [
        "Разобьём весь текст на предложения. "
      ]
    },
    {
      "cell_type": "code",
      "metadata": {
        "colab": {
          "base_uri": "https://localhost:8080/"
        },
        "id": "rQBD7tGMd5s1",
        "outputId": "2718c836-5935-4f3d-962a-9acbc1d83362"
      },
      "source": [
        "from nltk.tokenize import sent_tokenize\n",
        "\n",
        "sents = sent_tokenize(text)\n",
        "len(sents)"
      ],
      "execution_count": 6,
      "outputs": [
        {
          "output_type": "execute_result",
          "data": {
            "text/plain": [
              "13702"
            ]
          },
          "metadata": {},
          "execution_count": 6
        }
      ]
    },
    {
      "cell_type": "code",
      "metadata": {
        "colab": {
          "base_uri": "https://localhost:8080/",
          "height": 37
        },
        "id": "9DKPQvVUd5s1",
        "outputId": "cd6fd9e5-9f60-416f-8e35-b006b7ed21ef"
      },
      "source": [
        "sents[220]"
      ],
      "execution_count": 7,
      "outputs": [
        {
          "output_type": "execute_result",
          "data": {
            "application/vnd.google.colaboratory.intrinsic+json": {
              "type": "string"
            },
            "text/plain": [
              "'действительно, на его платье и даже в волосах кое-где виднелись прилипшие былинки сена.'"
            ]
          },
          "metadata": {},
          "execution_count": 7
        }
      ]
    },
    {
      "cell_type": "markdown",
      "metadata": {
        "id": "G4sBeX_ud5s2"
      },
      "source": [
        "Разобьём каждое предложение на отдельные слова."
      ]
    },
    {
      "cell_type": "code",
      "metadata": {
        "colab": {
          "base_uri": "https://localhost:8080/"
        },
        "id": "UvcRKMj5d5s2",
        "outputId": "cec12216-7d58-44f6-9c36-6ce5817ca5df"
      },
      "source": [
        "from nltk.tokenize import RegexpTokenizer\n",
        "\n",
        "tokenizer = RegexpTokenizer('\\w+')\n",
        "tokenizer.tokenize(sents[220])"
      ],
      "execution_count": 8,
      "outputs": [
        {
          "output_type": "execute_result",
          "data": {
            "text/plain": [
              "['действительно',\n",
              " 'на',\n",
              " 'его',\n",
              " 'платье',\n",
              " 'и',\n",
              " 'даже',\n",
              " 'в',\n",
              " 'волосах',\n",
              " 'кое',\n",
              " 'где',\n",
              " 'виднелись',\n",
              " 'прилипшие',\n",
              " 'былинки',\n",
              " 'сена']"
            ]
          },
          "metadata": {},
          "execution_count": 8
        }
      ]
    },
    {
      "cell_type": "code",
      "metadata": {
        "colab": {
          "base_uri": "https://localhost:8080/"
        },
        "id": "04qVzJUmd5s3",
        "outputId": "875abbaa-f50b-4eb7-8f53-3b35428f6256"
      },
      "source": [
        "sents_tokenize = [tokenizer.tokenize(sent) for sent in sents]\n",
        "sents_tokenize[4:6]"
      ],
      "execution_count": 9,
      "outputs": [
        {
          "output_type": "execute_result",
          "data": {
            "text/plain": [
              "[['и',\n",
              "  'каждый',\n",
              "  'раз',\n",
              "  'молодой',\n",
              "  'человек',\n",
              "  'проходя',\n",
              "  'мимо',\n",
              "  'чувствовал',\n",
              "  'какое',\n",
              "  'то',\n",
              "  'болезненное',\n",
              "  'и',\n",
              "  'трусливое',\n",
              "  'ощущение',\n",
              "  'которого',\n",
              "  'стыдился',\n",
              "  'и',\n",
              "  'от',\n",
              "  'которого',\n",
              "  'морщился'],\n",
              " ['он',\n",
              "  'был',\n",
              "  'должен',\n",
              "  'кругом',\n",
              "  'хозяйке',\n",
              "  'и',\n",
              "  'боялся',\n",
              "  'с',\n",
              "  'нею',\n",
              "  'встретиться']]"
            ]
          },
          "metadata": {},
          "execution_count": 9
        }
      ]
    },
    {
      "cell_type": "code",
      "metadata": {
        "id": "cDMqSwIBd5s4"
      },
      "source": [
        "# Flatten без numpy :) \n",
        "words = [item for sent in sents_tokenize for item in sent]"
      ],
      "execution_count": 10,
      "outputs": []
    },
    {
      "cell_type": "code",
      "metadata": {
        "colab": {
          "base_uri": "https://localhost:8080/"
        },
        "id": "g3dGtxKcd5s4",
        "outputId": "88628fa4-70e6-44f1-8a25-03d6e39b9fdb"
      },
      "source": [
        "len(words) # всего слов"
      ],
      "execution_count": 11,
      "outputs": [
        {
          "output_type": "execute_result",
          "data": {
            "text/plain": [
              "173403"
            ]
          },
          "metadata": {},
          "execution_count": 11
        }
      ]
    },
    {
      "cell_type": "code",
      "metadata": {
        "colab": {
          "base_uri": "https://localhost:8080/"
        },
        "id": "4e-OGJtBd5s4",
        "outputId": "4e618112-9776-4cf1-b226-c75f6498c819"
      },
      "source": [
        "len(set(words)) # уникальных слов"
      ],
      "execution_count": 12,
      "outputs": [
        {
          "output_type": "execute_result",
          "data": {
            "text/plain": [
              "24925"
            ]
          },
          "metadata": {},
          "execution_count": 12
        }
      ]
    },
    {
      "cell_type": "markdown",
      "metadata": {
        "id": "VTGbFkV5d5s5"
      },
      "source": [
        "Можно выбросить все стоп-слова. "
      ]
    },
    {
      "cell_type": "code",
      "metadata": {
        "colab": {
          "base_uri": "https://localhost:8080/"
        },
        "id": "slBzkP4ed5s6",
        "outputId": "ab9f99e1-fd5f-4522-aee9-8f7dd2a557d3"
      },
      "source": [
        "from nltk.corpus import stopwords\n",
        "\n",
        "stopwords_ru = stopwords.words('russian') \n",
        "stopwords_ru[:10]"
      ],
      "execution_count": 13,
      "outputs": [
        {
          "output_type": "execute_result",
          "data": {
            "text/plain": [
              "['и', 'в', 'во', 'не', 'что', 'он', 'на', 'я', 'с', 'со']"
            ]
          },
          "metadata": {},
          "execution_count": 13
        }
      ]
    },
    {
      "cell_type": "code",
      "metadata": {
        "id": "33bpznFQd5s6"
      },
      "source": [
        "sents_tokenize = [[word for word in text_cur if word not in stopwords_ru] for text_cur in sents_tokenize]"
      ],
      "execution_count": 14,
      "outputs": []
    },
    {
      "cell_type": "markdown",
      "metadata": {
        "id": "UZDv561jd5s6"
      },
      "source": [
        "Слов в корпусе не очень много. Давайте лемматизируем их.  В этом нам поможет библиотека **pymorphy2.**\n",
        "\n",
        "**pymorphy2** — это полноценный морфологический анализатор, целиком написанный на Python. Он также умеет ставить слова в нужную форму (спрягать и склонять). [Документация по pymorphy2.](https://pymorphy2.readthedocs.io/en/latest/)"
      ]
    },
    {
      "cell_type": "code",
      "metadata": {
        "colab": {
          "base_uri": "https://localhost:8080/",
          "height": 37
        },
        "id": "k35CbMuYd5s7",
        "outputId": "735ca6b9-9ffa-49a9-9e3b-2eda291fe1fc"
      },
      "source": [
        "import pymorphy2\n",
        "morph = pymorphy2.MorphAnalyzer()\n",
        "\n",
        "text = \"Филипп пошёл в Авеньон и пленил пап!\"\n",
        "tokens = tokenizer.tokenize(text)\n",
        "\n",
        "\" \".join(morph.normal_forms(token)[0] for token in tokens)"
      ],
      "execution_count": 15,
      "outputs": [
        {
          "output_type": "execute_result",
          "data": {
            "application/vnd.google.colaboratory.intrinsic+json": {
              "type": "string"
            },
            "text/plain": [
              "'филипп пойти в авеньон и пленить папа'"
            ]
          },
          "metadata": {},
          "execution_count": 15
        }
      ]
    },
    {
      "cell_type": "code",
      "metadata": {
        "colab": {
          "base_uri": "https://localhost:8080/"
        },
        "id": "Nt1ZnR4Cd5s7",
        "outputId": "649f193f-8504-45ee-94ae-f7787e82df86"
      },
      "source": [
        "p = morph.parse('стали')\n",
        "p"
      ],
      "execution_count": 16,
      "outputs": [
        {
          "output_type": "execute_result",
          "data": {
            "text/plain": [
              "[Parse(word='стали', tag=OpencorporaTag('VERB,perf,intr plur,past,indc'), normal_form='стать', score=0.975342, methods_stack=((DictionaryAnalyzer(), 'стали', 945, 4),)),\n",
              " Parse(word='стали', tag=OpencorporaTag('NOUN,inan,femn sing,gent'), normal_form='сталь', score=0.010958, methods_stack=((DictionaryAnalyzer(), 'стали', 13, 1),)),\n",
              " Parse(word='стали', tag=OpencorporaTag('NOUN,inan,femn plur,nomn'), normal_form='сталь', score=0.005479, methods_stack=((DictionaryAnalyzer(), 'стали', 13, 6),)),\n",
              " Parse(word='стали', tag=OpencorporaTag('NOUN,inan,femn sing,datv'), normal_form='сталь', score=0.002739, methods_stack=((DictionaryAnalyzer(), 'стали', 13, 2),)),\n",
              " Parse(word='стали', tag=OpencorporaTag('NOUN,inan,femn sing,loct'), normal_form='сталь', score=0.002739, methods_stack=((DictionaryAnalyzer(), 'стали', 13, 5),)),\n",
              " Parse(word='стали', tag=OpencorporaTag('NOUN,inan,femn plur,accs'), normal_form='сталь', score=0.002739, methods_stack=((DictionaryAnalyzer(), 'стали', 13, 9),))]"
            ]
          },
          "metadata": {},
          "execution_count": 16
        }
      ]
    },
    {
      "cell_type": "markdown",
      "metadata": {
        "id": "PtkP06nXd5s7"
      },
      "source": [
        "Обработаем все слова из датасета. "
      ]
    },
    {
      "cell_type": "code",
      "metadata": {
        "id": "xxlMNUu8d5s8"
      },
      "source": [
        "sents_tokenize = [[morph.normal_forms(word)[0] for word in text_cur] for text_cur in sents_tokenize]"
      ],
      "execution_count": 17,
      "outputs": []
    },
    {
      "cell_type": "code",
      "metadata": {
        "id": "gLjEPN2xd5s8"
      },
      "source": [
        "# Flatten без numpy :) \n",
        "words = [item for sent in  sents_tokenize for item in sent]"
      ],
      "execution_count": 18,
      "outputs": []
    },
    {
      "cell_type": "code",
      "metadata": {
        "colab": {
          "base_uri": "https://localhost:8080/"
        },
        "id": "MbRJDvawd5s8",
        "outputId": "879ea9c6-adf6-431c-e1d3-110b7e997742"
      },
      "source": [
        "len(words) # всего слов"
      ],
      "execution_count": 19,
      "outputs": [
        {
          "output_type": "execute_result",
          "data": {
            "text/plain": [
              "93069"
            ]
          },
          "metadata": {},
          "execution_count": 19
        }
      ]
    },
    {
      "cell_type": "code",
      "metadata": {
        "colab": {
          "base_uri": "https://localhost:8080/"
        },
        "id": "xTWVFKRUd5s8",
        "outputId": "ad89b571-19e2-4a74-f671-1698bfdaaadc"
      },
      "source": [
        "len(set(words)) # уникальных слов"
      ],
      "execution_count": 20,
      "outputs": [
        {
          "output_type": "execute_result",
          "data": {
            "text/plain": [
              "11084"
            ]
          },
          "metadata": {},
          "execution_count": 20
        }
      ]
    },
    {
      "cell_type": "markdown",
      "metadata": {
        "id": "1opskx7Wd5s9"
      },
      "source": [
        "Хватит обработок! Мы тут не анализом текстов занимаемся, а нейросетками. Если хочешь больше предобработки, [читай мой мануал](https://nbviewer.jupyter.org/github/FUlyankin/hse_texts_do/blob/master/sem_1/texts_sem1.ipynb) об этом.  Давайте построим словарик с частотностями и перейдём к моделированию. "
      ]
    },
    {
      "cell_type": "code",
      "metadata": {
        "colab": {
          "base_uri": "https://localhost:8080/"
        },
        "id": "iBKNFh9_d5s9",
        "outputId": "83b6f338-34c5-4c0a-e271-aebefea1daf9"
      },
      "source": [
        "from collections import Counter\n",
        "\n",
        "word_dict = Counter(words)\n",
        "word_dict.most_common()[:20]"
      ],
      "execution_count": 21,
      "outputs": [
        {
          "output_type": "execute_result",
          "data": {
            "text/plain": [
              "[('это', 1449),\n",
              " ('всё', 963),\n",
              " ('знать', 630),\n",
              " ('раскольник', 567),\n",
              " ('свой', 549),\n",
              " ('один', 548),\n",
              " ('сказать', 544),\n",
              " ('говорить', 536),\n",
              " ('человек', 501),\n",
              " ('весь', 442),\n",
              " ('стать', 441),\n",
              " ('мочь', 441),\n",
              " ('который', 430),\n",
              " ('сам', 430),\n",
              " ('такой', 395),\n",
              " ('очень', 387),\n",
              " ('какой', 379),\n",
              " ('соня', 379),\n",
              " ('рука', 369),\n",
              " ('петрович', 369)]"
            ]
          },
          "metadata": {},
          "execution_count": 21
        }
      ]
    },
    {
      "cell_type": "code",
      "metadata": {
        "colab": {
          "base_uri": "https://localhost:8080/"
        },
        "id": "c8UadXtGd5s9",
        "outputId": "89e04489-56a8-48af-ec55-b120006fb984"
      },
      "source": [
        "words = word_dict.most_common()\n",
        "len([item for item in words if item[1] >= 3])  # совсем мало :) "
      ],
      "execution_count": 22,
      "outputs": [
        {
          "output_type": "execute_result",
          "data": {
            "text/plain": [
              "4768"
            ]
          },
          "metadata": {},
          "execution_count": 22
        }
      ]
    },
    {
      "cell_type": "markdown",
      "metadata": {
        "id": "1kkHo7pAd5s9"
      },
      "source": [
        "## 2. Моделирование\n",
        "\n",
        "__Основные параметры:__\n",
        "\n",
        "* данные должны быть итерируемым объектом \n",
        "* `size` — размер вектора, \n",
        "* `window` — размер окна наблюдения,\n",
        "* `min_count` — мин. частотность слова в корпусе,\n",
        "* `sg` — используемый алгоритм обучения (0 — CBOW, 1 — Skip-gram),\n",
        "* `sample` — порог для downsampling'a высокочастотных слов,\n",
        "* `workers` — количество потоков,\n",
        "* `alpha` — learning rate,\n",
        "* `iter` — количество итераций,\n",
        "* `max_vocab_size` — позволяет выставить ограничение по памяти при создании словаря (т.е. если ограничение привышается, то низкочастотные слова будут выбрасываться). Для сравнения: 10 млн слов = 1Гб RAM."
      ]
    },
    {
      "cell_type": "code",
      "metadata": {
        "colab": {
          "base_uri": "https://localhost:8080/"
        },
        "id": "gsxHOsdKd5s-",
        "outputId": "c55d8e05-e057-46a3-ae00-876e8d7399a5"
      },
      "source": [
        "%%time \n",
        "from gensim.models.word2vec import Word2Vec\n",
        "\n",
        "# size - размерность векторов, которые мы хотим обучить\n",
        "# window - ширина окна контекста\n",
        "# min_count - если слово встречается реже, для него не учим модель\n",
        "model = Word2Vec(size=100, window=2, min_count=3, workers=4, )\n",
        "\n",
        "# строительство словаря, чтобы обучение шло быстрее\n",
        "model.build_vocab(sents_tokenize)\n",
        "\n",
        "# обучение модели \n",
        "# первый аргумент - наша выборка, генератор будет вкидывать в модель наши тексты, пока они не кончатся\n",
        "# второй аргумент - число примеров в выборке \n",
        "# третий аргумент - количество эпох обучения: сколько раз модель пройдётся по всему корпусу текстов\n",
        "model.train(sents_tokenize, total_examples=model.corpus_count, epochs=100)\n",
        "\n",
        "# !NB в ситуации, когда у нас огромный корпус, 100 эпох это слишком много! "
      ],
      "execution_count": 23,
      "outputs": [
        {
          "output_type": "stream",
          "name": "stdout",
          "text": [
            "CPU times: user 23.6 s, sys: 305 ms, total: 24 s\n",
            "Wall time: 14.5 s\n"
          ]
        }
      ]
    },
    {
      "cell_type": "code",
      "metadata": {
        "colab": {
          "base_uri": "https://localhost:8080/"
        },
        "id": "18eepxpSd5s_",
        "outputId": "48aa70bb-3a74-4497-9693-d0670da91f4b"
      },
      "source": [
        "model.corpus_count # число примеров в обучающей выборке"
      ],
      "execution_count": 24,
      "outputs": [
        {
          "output_type": "execute_result",
          "data": {
            "text/plain": [
              "13702"
            ]
          },
          "metadata": {},
          "execution_count": 24
        }
      ]
    },
    {
      "cell_type": "markdown",
      "metadata": {
        "id": "wIG-F7gld5tA"
      },
      "source": [
        "Смотрим, сколько в модели слов."
      ]
    },
    {
      "cell_type": "code",
      "metadata": {
        "colab": {
          "base_uri": "https://localhost:8080/"
        },
        "id": "fh6jt03hd5tD",
        "outputId": "89d1338f-e34c-40da-a1b5-f4e8468ac985"
      },
      "source": [
        "len(model.wv.vocab)"
      ],
      "execution_count": 25,
      "outputs": [
        {
          "output_type": "execute_result",
          "data": {
            "text/plain": [
              "4768"
            ]
          },
          "metadata": {},
          "execution_count": 25
        }
      ]
    },
    {
      "cell_type": "code",
      "metadata": {
        "scrolled": true,
        "colab": {
          "base_uri": "https://localhost:8080/"
        },
        "id": "HRovE0E7d5tE",
        "outputId": "036f44e4-ac84-4603-8a74-4d84ebc5a65d"
      },
      "source": [
        "'старуха' in model.wv.vocab"
      ],
      "execution_count": 26,
      "outputs": [
        {
          "output_type": "execute_result",
          "data": {
            "text/plain": [
              "True"
            ]
          },
          "metadata": {},
          "execution_count": 26
        }
      ]
    },
    {
      "cell_type": "markdown",
      "metadata": {
        "id": "ITIntnw3d5tG"
      },
      "source": [
        "## 3. Свойства модели"
      ]
    },
    {
      "cell_type": "code",
      "metadata": {
        "colab": {
          "base_uri": "https://localhost:8080/"
        },
        "id": "rjyxDj3Bd5tH",
        "outputId": "b57131a3-250b-4448-f975-e919bf6e952e"
      },
      "source": [
        "# вектор слова\n",
        "model.wv['старуха'][:10]"
      ],
      "execution_count": 27,
      "outputs": [
        {
          "output_type": "execute_result",
          "data": {
            "text/plain": [
              "array([ 0.02277945,  0.59645087, -0.97010195, -0.5576507 , -0.58633286,\n",
              "        0.01415113,  0.2324946 , -0.29876757,  0.8240862 ,  0.41107488],\n",
              "      dtype=float32)"
            ]
          },
          "metadata": {},
          "execution_count": 27
        }
      ]
    },
    {
      "cell_type": "code",
      "metadata": {
        "colab": {
          "base_uri": "https://localhost:8080/"
        },
        "id": "2DFeB6yCd5tH",
        "outputId": "6b001037-1e8a-45bb-9aa4-9add624dc1ac"
      },
      "source": [
        "# размерность вектора\n",
        "model.wv['старуха'].shape"
      ],
      "execution_count": 28,
      "outputs": [
        {
          "output_type": "execute_result",
          "data": {
            "text/plain": [
              "(100,)"
            ]
          },
          "metadata": {},
          "execution_count": 28
        }
      ]
    },
    {
      "cell_type": "code",
      "metadata": {
        "colab": {
          "base_uri": "https://localhost:8080/"
        },
        "id": "ftHc4hwhd5tH",
        "outputId": "cd39f480-ce49-4e05-a00f-e996636496e2"
      },
      "source": [
        "# похожести слов \n",
        "model.wv.similarity('тварь', 'право')"
      ],
      "execution_count": 29,
      "outputs": [
        {
          "output_type": "execute_result",
          "data": {
            "text/plain": [
              "-0.014740856"
            ]
          },
          "metadata": {},
          "execution_count": 29
        }
      ]
    },
    {
      "cell_type": "code",
      "metadata": {
        "colab": {
          "base_uri": "https://localhost:8080/"
        },
        "id": "l1jn1MQzd5tI",
        "outputId": "510d2445-c787-459a-c7f3-449ad24fd539"
      },
      "source": [
        "model.wv.similarity('старуха', 'топор')"
      ],
      "execution_count": 30,
      "outputs": [
        {
          "output_type": "execute_result",
          "data": {
            "text/plain": [
              "0.31544155"
            ]
          },
          "metadata": {},
          "execution_count": 30
        }
      ]
    },
    {
      "cell_type": "code",
      "metadata": {
        "colab": {
          "base_uri": "https://localhost:8080/"
        },
        "id": "-g-uRqrDd5tI",
        "outputId": "9a0fbbe5-f831-432c-c462-af36dd26f7da"
      },
      "source": [
        "model.wv.similarity('тварь', 'тварь')"
      ],
      "execution_count": 31,
      "outputs": [
        {
          "output_type": "execute_result",
          "data": {
            "text/plain": [
              "0.99999994"
            ]
          },
          "metadata": {},
          "execution_count": 31
        }
      ]
    },
    {
      "cell_type": "code",
      "metadata": {
        "colab": {
          "base_uri": "https://localhost:8080/"
        },
        "id": "xrz4Fm4Wd5tI",
        "outputId": "24015c2b-0fd5-48c0-f703-96f380aef829"
      },
      "source": [
        "# самые похожие\n",
        "model.wv.most_similar('старуха')"
      ],
      "execution_count": 32,
      "outputs": [
        {
          "output_type": "execute_result",
          "data": {
            "text/plain": [
              "[('лизавета', 0.4834555387496948),\n",
              " ('близко', 0.4589611291885376),\n",
              " ('чиновница', 0.4112577438354492),\n",
              " ('наклепать', 0.3871508836746216),\n",
              " ('здравствуйте', 0.3868829011917114),\n",
              " ('одуматься', 0.3765152096748352),\n",
              " ('ограбить', 0.36270660161972046),\n",
              " ('снять', 0.3618197739124298),\n",
              " ('запор', 0.3613971769809723),\n",
              " ('домой', 0.3600963354110718)]"
            ]
          },
          "metadata": {},
          "execution_count": 32
        }
      ]
    },
    {
      "cell_type": "code",
      "metadata": {
        "colab": {
          "base_uri": "https://localhost:8080/"
        },
        "id": "QOYMGZDid5tJ",
        "outputId": "7ceb7f90-baff-4f3f-9d23-6507a3187c12"
      },
      "source": [
        "model.wv.most_similar('лестница')"
      ],
      "execution_count": 33,
      "outputs": [
        {
          "output_type": "execute_result",
          "data": {
            "text/plain": [
              "[('прихожая', 0.5206669569015503),\n",
              " ('ступенька', 0.5133342742919922),\n",
              " ('узенький', 0.4848982095718384),\n",
              " ('всходить', 0.47868430614471436),\n",
              " ('передний', 0.47048020362854004),\n",
              " ('смутно', 0.4595457911491394),\n",
              " ('спускаться', 0.4505569338798523),\n",
              " ('ступень', 0.44437867403030396),\n",
              " ('цыпочки', 0.4261908531188965),\n",
              " ('вниз', 0.4184418320655823)]"
            ]
          },
          "metadata": {},
          "execution_count": 33
        }
      ]
    },
    {
      "cell_type": "code",
      "metadata": {
        "colab": {
          "base_uri": "https://localhost:8080/"
        },
        "id": "ezETleesd5tJ",
        "outputId": "3ee80ca6-ff2d-455d-8e70-a4281a487c93"
      },
      "source": [
        "# арифметика\n",
        "model.most_similar(positive=['раскольников'], negative=['тварь'])[:10]"
      ],
      "execution_count": 34,
      "outputs": [
        {
          "output_type": "stream",
          "name": "stderr",
          "text": [
            "/usr/local/lib/python3.7/dist-packages/ipykernel_launcher.py:2: DeprecationWarning: Call to deprecated `most_similar` (Method will be removed in 4.0.0, use self.wv.most_similar() instead).\n",
            "  \n"
          ]
        },
        {
          "output_type": "execute_result",
          "data": {
            "text/plain": [
              "[('остановиться', 0.31796663999557495),\n",
              " ('несколько', 0.29886406660079956),\n",
              " ('показаться', 0.281860888004303),\n",
              " ('уставиться', 0.2810265123844147),\n",
              " ('приятно', 0.2789955735206604),\n",
              " ('скрываться', 0.2723502516746521),\n",
              " ('провожать', 0.27022111415863037),\n",
              " ('задушить', 0.26799285411834717),\n",
              " ('испугаться', 0.25882771611213684),\n",
              " ('верно', 0.2564633786678314)]"
            ]
          },
          "metadata": {},
          "execution_count": 34
        }
      ]
    },
    {
      "cell_type": "markdown",
      "metadata": {
        "id": "qvtDpB6sd5tK"
      },
      "source": [
        "## 4. Как дообучить модель? \n",
        "\n",
        "Ради чистоты эксперимента сохраним текущую модель и заново подгрузим её. "
      ]
    },
    {
      "cell_type": "code",
      "metadata": {
        "id": "JqGK-hH_d5tK"
      },
      "source": [
        "model_path = \"./our_w2v.model\"\n",
        "model.save(model_path)"
      ],
      "execution_count": 35,
      "outputs": []
    },
    {
      "cell_type": "code",
      "metadata": {
        "id": "heSM5OPPd5tK"
      },
      "source": [
        "our_model = Word2Vec.load(model_path)"
      ],
      "execution_count": 36,
      "outputs": []
    },
    {
      "cell_type": "markdown",
      "metadata": {
        "id": "TdYlSnXLd5tL"
      },
      "source": [
        "Подгрузим другое произведение и сделаем для него предобработку. "
      ]
    },
    {
      "cell_type": "code",
      "metadata": {
        "colab": {
          "base_uri": "https://localhost:8080/"
        },
        "id": "CZ7wlLMFd5tL",
        "outputId": "4cae383e-679c-45dc-d111-459593670d0f"
      },
      "source": [
        "url = 'https://raw.githubusercontent.com/nevmenandr/word2vec-russian-novels/master/vector-school/SkazkaOCareSaltane.txt'\n",
        "\n",
        "resp = requests.get(url)\n",
        "text2 = resp.text \n",
        "\n",
        "# Последние 500 символов. Аккуратно! Спойлеры!\n",
        "print(text2[-500:])"
      ],
      "execution_count": 37,
      "outputs": [
        {
          "output_type": "stream",
          "name": "stdout",
          "text": [
            " узнает...\n",
            "В нем взыграло ретивое!\n",
            "\"Что я вижу? что такое?\n",
            "Как!\" - и дух в нем занялся...\n",
            "Царь слезами залился,\n",
            "Обнимает он царицу,\n",
            "И сынка, и молодицу,\n",
            "\n",
            "\n",
            "\n",
            "И садятся все за стол;\n",
            "И веселый пир пошел.\n",
            "А ткачиха с поварихой,\n",
            "С сватьей бабой Бабарихой\n",
            "Разбежались по углам;\n",
            "Их нашли насилу там.\n",
            "Тут во всем они признались,\n",
            "Повинились, разрыдались;\n",
            "Царь для радости такой\n",
            "Отпустил всех трех домой.\n",
            "День прошел - царя Салтана\n",
            "Уложили спать вполпьяна.\n",
            "Я там был; мед, пиво пил -\n",
            "И усы лишь обмочил.\n",
            "\n",
            "1831\n",
            "\n",
            "\n"
          ]
        }
      ]
    },
    {
      "cell_type": "markdown",
      "metadata": {
        "id": "allloXfDd5tM"
      },
      "source": [
        "Предобработка."
      ]
    },
    {
      "cell_type": "code",
      "metadata": {
        "id": "-sD7Sr1zd5tM"
      },
      "source": [
        "text2 = text2.lower()\n",
        "sents2 = sent_tokenize(text2)\n",
        "\n",
        "sents_tokenize2 = [tokenizer.tokenize(sent) for sent in sents2]\n",
        "sents_tokenize2 = [[morph.normal_forms(word)[0] for word in text_cur if word not in stopwords_ru]\n",
        "                      for text_cur in sents_tokenize2]\n"
      ],
      "execution_count": 38,
      "outputs": []
    },
    {
      "cell_type": "code",
      "metadata": {
        "colab": {
          "base_uri": "https://localhost:8080/"
        },
        "id": "R_u1-lNpd5tM",
        "outputId": "4db2cca0-d4fa-4ce6-95a1-58d0657502fc"
      },
      "source": [
        "sents_tokenize2[10]"
      ],
      "execution_count": 39,
      "outputs": [
        {
          "output_type": "execute_result",
          "data": {
            "text/plain": [
              "['сени', 'выйти', 'царь', 'отец']"
            ]
          },
          "metadata": {},
          "execution_count": 39
        }
      ]
    },
    {
      "cell_type": "code",
      "metadata": {
        "colab": {
          "base_uri": "https://localhost:8080/"
        },
        "id": "wHojRiI8d5tM",
        "outputId": "b5ef8f21-2209-49f4-93e0-5e2b9a79020a"
      },
      "source": [
        "len(sents_tokenize2)"
      ],
      "execution_count": 40,
      "outputs": [
        {
          "output_type": "execute_result",
          "data": {
            "text/plain": [
              "254"
            ]
          },
          "metadata": {},
          "execution_count": 40
        }
      ]
    },
    {
      "cell_type": "markdown",
      "metadata": {
        "id": "eXd6U6gwd5tN"
      },
      "source": [
        "Дополняем модель."
      ]
    },
    {
      "cell_type": "code",
      "metadata": {
        "colab": {
          "base_uri": "https://localhost:8080/"
        },
        "id": "1VTe-L9Sd5tN",
        "outputId": "62115249-75c6-4f69-aa6e-18c6197e860a"
      },
      "source": [
        "# обновили словарь\n",
        "our_model.build_vocab(sents_tokenize2, update=True)\n",
        "\n",
        "# дообучили\n",
        "our_model.train(sents_tokenize2, total_examples=our_model.corpus_count, epochs=100)"
      ],
      "execution_count": 41,
      "outputs": [
        {
          "output_type": "execute_result",
          "data": {
            "text/plain": [
              "(177400, 269000)"
            ]
          },
          "metadata": {},
          "execution_count": 41
        }
      ]
    },
    {
      "cell_type": "code",
      "metadata": {
        "colab": {
          "base_uri": "https://localhost:8080/"
        },
        "id": "vfsEdScpd5tN",
        "outputId": "58a15920-af05-4edb-99b0-c4250a472c4d"
      },
      "source": [
        "'ядро' in model.wv.vocab"
      ],
      "execution_count": 42,
      "outputs": [
        {
          "output_type": "execute_result",
          "data": {
            "text/plain": [
              "False"
            ]
          },
          "metadata": {},
          "execution_count": 42
        }
      ]
    },
    {
      "cell_type": "code",
      "metadata": {
        "colab": {
          "base_uri": "https://localhost:8080/"
        },
        "id": "VSvgwZgLd5tN",
        "outputId": "b13c492f-76be-4300-a7fe-86c7ae42323b"
      },
      "source": [
        "'ядро' in our_model.wv.vocab"
      ],
      "execution_count": 43,
      "outputs": [
        {
          "output_type": "execute_result",
          "data": {
            "text/plain": [
              "True"
            ]
          },
          "metadata": {},
          "execution_count": 43
        }
      ]
    },
    {
      "cell_type": "code",
      "metadata": {
        "colab": {
          "base_uri": "https://localhost:8080/"
        },
        "id": "XvFMQIXwd5tN",
        "outputId": "afc27717-64f5-48f0-d32a-ff30a9712f62"
      },
      "source": [
        "our_model.wv.most_similar('ядро')"
      ],
      "execution_count": 44,
      "outputs": [
        {
          "output_type": "execute_result",
          "data": {
            "text/plain": [
              "[('изумруд', 0.6895874738693237),\n",
              " ('грызть', 0.6602988243103027),\n",
              " ('скатерть', 0.6405527591705322),\n",
              " ('орешек', 0.6062536239624023),\n",
              " ('чистый', 0.6033691167831421),\n",
              " ('серебро', 0.5802929401397705),\n",
              " ('складка', 0.5550426244735718),\n",
              " ('научить', 0.5542415976524353),\n",
              " ('золотой', 0.5489482283592224),\n",
              " ('скорлупка', 0.5316975712776184)]"
            ]
          },
          "metadata": {},
          "execution_count": 44
        }
      ]
    },
    {
      "cell_type": "markdown",
      "metadata": {
        "id": "dM49y14Pd5tN"
      },
      "source": [
        "Пример со старым словом."
      ]
    },
    {
      "cell_type": "code",
      "metadata": {
        "colab": {
          "base_uri": "https://localhost:8080/"
        },
        "id": "X5UpYQJGd5tN",
        "outputId": "2fcfbefd-cf4b-4983-89a0-c5f9f9e1e5d3"
      },
      "source": [
        "our_model.wv.most_similar('сын')"
      ],
      "execution_count": 45,
      "outputs": [
        {
          "output_type": "execute_result",
          "data": {
            "text/plain": [
              "[('губерния', 0.5313253402709961),\n",
              " ('обеспечить', 0.5155653953552246),\n",
              " ('благословить', 0.5150047540664673),\n",
              " ('враньё', 0.4995172321796417),\n",
              " ('уезд', 0.4862736761569977),\n",
              " ('адвокатский', 0.4796649217605591),\n",
              " ('наущение', 0.4727262854576111),\n",
              " ('совет', 0.4673498868942261),\n",
              " ('сумление', 0.46556758880615234),\n",
              " ('раздражать', 0.46401143074035645)]"
            ]
          },
          "metadata": {},
          "execution_count": 45
        }
      ]
    },
    {
      "cell_type": "code",
      "metadata": {
        "colab": {
          "base_uri": "https://localhost:8080/"
        },
        "id": "2XjkqfZyd5tO",
        "outputId": "2803c7fb-9e8a-48ca-8129-716da72d6450"
      },
      "source": [
        "model.wv.most_similar('сын')"
      ],
      "execution_count": 46,
      "outputs": [
        {
          "output_type": "execute_result",
          "data": {
            "text/plain": [
              "[('наущение', 0.4834819734096527),\n",
              " ('раздражать', 0.4694327116012573),\n",
              " ('совет', 0.46878790855407715),\n",
              " ('поступок', 0.4687827229499817),\n",
              " ('положение', 0.46577367186546326),\n",
              " ('интерес', 0.46447113156318665),\n",
              " ('адвокатский', 0.46211057901382446),\n",
              " ('обеспечить', 0.46016496419906616),\n",
              " ('секрет', 0.4543688893318176),\n",
              " ('сестрица', 0.45223936438560486)]"
            ]
          },
          "metadata": {},
          "execution_count": 46
        }
      ]
    },
    {
      "cell_type": "markdown",
      "metadata": {
        "id": "LkLNq8S3ijAt"
      },
      "source": [
        "Как мы и говорили, есть еще и модель Fasttext. Есть как самостоятельная реализация в отдельной бибилиотеке (из командной строки быстрее будет учиться), так и реализация Gensim"
      ]
    },
    {
      "cell_type": "code",
      "metadata": {
        "id": "EAu68Ow0i1ZX"
      },
      "source": [
        "from gensim.models import FastText"
      ],
      "execution_count": 47,
      "outputs": []
    },
    {
      "cell_type": "code",
      "metadata": {
        "id": "lmvr9IdziJMI"
      },
      "source": [
        "model_ft = FastText(size=100, window=3, min_count=3, iter=10)  # instantiate\n",
        "model_ft.build_vocab(sentences=sents_tokenize)\n",
        "model_ft.train(sentences=sents_tokenize, total_examples=len(sents_tokenize), epochs=20)"
      ],
      "execution_count": 48,
      "outputs": []
    },
    {
      "cell_type": "code",
      "metadata": {
        "colab": {
          "base_uri": "https://localhost:8080/"
        },
        "id": "7g1HgSufjWmF",
        "outputId": "8ce76ce7-3ec4-44ac-9e7c-234bb6ed6297"
      },
      "source": [
        "model_ft.wv.most_similar('старуха')"
      ],
      "execution_count": 49,
      "outputs": [
        {
          "output_type": "execute_result",
          "data": {
            "text/plain": [
              "[('старухин', 0.9733899831771851),\n",
              " ('старушонка', 0.9703361988067627),\n",
              " ('старец', 0.9643481969833374),\n",
              " ('кожа', 0.9576848745346069),\n",
              " ('колея', 0.9558264017105103),\n",
              " ('старик', 0.9542369246482849),\n",
              " ('картинка', 0.9538529515266418),\n",
              " ('старичок', 0.9527403116226196),\n",
              " ('кухарка', 0.9524151086807251),\n",
              " ('старое', 0.9501200318336487)]"
            ]
          },
          "metadata": {},
          "execution_count": 49
        }
      ]
    },
    {
      "cell_type": "code",
      "metadata": {
        "colab": {
          "base_uri": "https://localhost:8080/"
        },
        "id": "QmoZ1CqvjzqO",
        "outputId": "e7642090-494b-4e4c-89d6-81ab8c991606"
      },
      "source": [
        "'старухин' in model_ft.wv.vocab"
      ],
      "execution_count": 50,
      "outputs": [
        {
          "output_type": "execute_result",
          "data": {
            "text/plain": [
              "True"
            ]
          },
          "metadata": {},
          "execution_count": 50
        }
      ]
    },
    {
      "cell_type": "markdown",
      "metadata": {
        "id": "04KK-Nd8kVqR"
      },
      "source": [
        "Немного развлечений"
      ]
    },
    {
      "cell_type": "code",
      "metadata": {
        "colab": {
          "base_uri": "https://localhost:8080/"
        },
        "id": "52CtT2Qej8Tk",
        "outputId": "2c9a8f1a-a274-42aa-d0fd-cec9c61d978e"
      },
      "source": [
        "'старухака' in model_ft.wv.vocab"
      ],
      "execution_count": 51,
      "outputs": [
        {
          "output_type": "execute_result",
          "data": {
            "text/plain": [
              "False"
            ]
          },
          "metadata": {},
          "execution_count": 51
        }
      ]
    },
    {
      "cell_type": "code",
      "metadata": {
        "colab": {
          "base_uri": "https://localhost:8080/"
        },
        "id": "kenz5hqgkC7U",
        "outputId": "6f422c0d-9ea0-4320-de2b-520dc4712fee"
      },
      "source": [
        "model_ft.wv.most_similar('старухака')"
      ],
      "execution_count": 52,
      "outputs": [
        {
          "output_type": "execute_result",
          "data": {
            "text/plain": [
              "[('старуха', 0.9737210273742676),\n",
              " ('полечка', 0.9474987983703613),\n",
              " ('крест', 0.9360047578811646),\n",
              " ('кожа', 0.9303662776947021),\n",
              " ('старухин', 0.9291467666625977),\n",
              " ('карета', 0.9266821146011353),\n",
              " ('карта', 0.9261944890022278),\n",
              " ('полячка', 0.9254623651504517),\n",
              " ('старушонка', 0.9221905469894409),\n",
              " ('кох', 0.9221305847167969)]"
            ]
          },
          "metadata": {},
          "execution_count": 52
        }
      ]
    },
    {
      "cell_type": "code",
      "metadata": {
        "colab": {
          "base_uri": "https://localhost:8080/"
        },
        "id": "HSTzzkgTlR7T",
        "outputId": "10fe2ea0-214a-47b0-c800-075578c60006"
      },
      "source": [
        "model_ft.wv.most_similar('меч')"
      ],
      "execution_count": 53,
      "outputs": [
        {
          "output_type": "execute_result",
          "data": {
            "text/plain": [
              "[('мечта', 0.9542185068130493),\n",
              " ('восьмой', 0.9344176054000854),\n",
              " ('че', 0.9257203936576843),\n",
              " ('враг', 0.9217530488967896),\n",
              " ('гораздо', 0.9176746010780334),\n",
              " ('часто', 0.917295515537262),\n",
              " ('мир', 0.9146737456321716),\n",
              " ('венец', 0.910340428352356),\n",
              " ('жестяной', 0.9101762175559998),\n",
              " ('везде', 0.9088507890701294)]"
            ]
          },
          "metadata": {},
          "execution_count": 53
        }
      ]
    },
    {
      "cell_type": "code",
      "metadata": {
        "colab": {
          "base_uri": "https://localhost:8080/"
        },
        "id": "lERMFLaMkYhk",
        "outputId": "4322b5b6-0f5c-44ba-a9e5-07e0f38e051f"
      },
      "source": [
        "model_ft.wv.similarity('старуха', 'топор')"
      ],
      "execution_count": 54,
      "outputs": [
        {
          "output_type": "execute_result",
          "data": {
            "text/plain": [
              "0.8443027"
            ]
          },
          "metadata": {},
          "execution_count": 54
        }
      ]
    },
    {
      "cell_type": "markdown",
      "metadata": {
        "id": "boHaEca6qtrt"
      },
      "source": [
        "А теперь возьмем что-то предобученное"
      ]
    },
    {
      "cell_type": "code",
      "metadata": {
        "id": "j_0B2mooq5yq"
      },
      "source": [
        "import urllib\n",
        "import gensim"
      ],
      "execution_count": 55,
      "outputs": []
    },
    {
      "cell_type": "code",
      "metadata": {
        "colab": {
          "base_uri": "https://localhost:8080/"
        },
        "id": "fYdATopZq1aZ",
        "outputId": "00928221-5e2f-4b59-ee25-8e1b317f33fa"
      },
      "source": [
        "urllib.request.urlretrieve(\"https://rusvectores.org/static/models/rusvectores2/ruscorpora_mystem_cbow_300_2_2015.bin.gz\", \"ruscorpora_mystem_cbow_300_2_2015.bin.gz\")"
      ],
      "execution_count": 56,
      "outputs": [
        {
          "output_type": "execute_result",
          "data": {
            "text/plain": [
              "('ruscorpora_mystem_cbow_300_2_2015.bin.gz',\n",
              " <http.client.HTTPMessage at 0x7f2c96b63210>)"
            ]
          },
          "metadata": {},
          "execution_count": 56
        }
      ]
    },
    {
      "cell_type": "code",
      "metadata": {
        "id": "X7N-pxBVrMjw"
      },
      "source": [
        "model_path = 'ruscorpora_mystem_cbow_300_2_2015.bin.gz'\n",
        "\n",
        "model_ru = gensim.models.KeyedVectors.load_word2vec_format(model_path, binary=True)"
      ],
      "execution_count": 57,
      "outputs": []
    },
    {
      "cell_type": "code",
      "metadata": {
        "colab": {
          "base_uri": "https://localhost:8080/"
        },
        "id": "veudbG2br3aV",
        "outputId": "72b20a63-c534-4b4c-9e09-ab87459d52ef"
      },
      "source": [
        "len(model_ru.wv.vocab)"
      ],
      "execution_count": 58,
      "outputs": [
        {
          "output_type": "stream",
          "name": "stderr",
          "text": [
            "/usr/local/lib/python3.7/dist-packages/ipykernel_launcher.py:1: DeprecationWarning: Call to deprecated `wv` (Attribute will be removed in 4.0.0, use self instead).\n",
            "  \"\"\"Entry point for launching an IPython kernel.\n"
          ]
        },
        {
          "output_type": "execute_result",
          "data": {
            "text/plain": [
              "281776"
            ]
          },
          "metadata": {},
          "execution_count": 58
        }
      ]
    },
    {
      "cell_type": "code",
      "metadata": {
        "colab": {
          "base_uri": "https://localhost:8080/"
        },
        "id": "x_illtFpsHx2",
        "outputId": "2431eb4a-e067-448e-dd50-652616d46e41"
      },
      "source": [
        "model_ru.wv.most_similar('мир_S')"
      ],
      "execution_count": 59,
      "outputs": [
        {
          "output_type": "stream",
          "name": "stderr",
          "text": [
            "/usr/local/lib/python3.7/dist-packages/ipykernel_launcher.py:1: DeprecationWarning: Call to deprecated `wv` (Attribute will be removed in 4.0.0, use self instead).\n",
            "  \"\"\"Entry point for launching an IPython kernel.\n"
          ]
        },
        {
          "output_type": "execute_result",
          "data": {
            "text/plain": [
              "[('вселенная_S', 0.5629245638847351),\n",
              " ('человечество_S', 0.5042722225189209),\n",
              " ('мироздание_S', 0.4957387447357178),\n",
              " ('реальность_S', 0.48456305265426636),\n",
              " ('природа_S', 0.47663506865501404),\n",
              " ('страна_S', 0.46604788303375244),\n",
              " ('действительность_S', 0.45931386947631836),\n",
              " ('царство_S', 0.45035111904144287),\n",
              " ('жизнь_S', 0.4466155171394348),\n",
              " ('бытие_S', 0.4450710713863373)]"
            ]
          },
          "metadata": {},
          "execution_count": 59
        }
      ]
    },
    {
      "cell_type": "code",
      "metadata": {
        "colab": {
          "base_uri": "https://localhost:8080/"
        },
        "id": "Y2C9LL2ls4ae",
        "outputId": "dc23226f-af63-49cd-ae84-cd2d41989efc"
      },
      "source": [
        "model_ru.wv.most_similar('москва_S')"
      ],
      "execution_count": 60,
      "outputs": [
        {
          "output_type": "stream",
          "name": "stderr",
          "text": [
            "/usr/local/lib/python3.7/dist-packages/ipykernel_launcher.py:1: DeprecationWarning: Call to deprecated `wv` (Attribute will be removed in 4.0.0, use self instead).\n",
            "  \"\"\"Entry point for launching an IPython kernel.\n"
          ]
        },
        {
          "output_type": "execute_result",
          "data": {
            "text/plain": [
              "[('петербург_S', 0.8158844709396362),\n",
              " ('ленинград_S', 0.7828081846237183),\n",
              " ('киев_S', 0.7416712641716003),\n",
              " ('ташкент_S', 0.7391982078552246),\n",
              " ('париж_S', 0.6919562816619873),\n",
              " ('петроград_S', 0.68897944688797),\n",
              " ('питер_S', 0.6885060667991638),\n",
              " ('рига_S', 0.6870608329772949),\n",
              " ('казань_S', 0.6827309131622314),\n",
              " ('одесса_S', 0.6681023836135864)]"
            ]
          },
          "metadata": {},
          "execution_count": 60
        }
      ]
    },
    {
      "cell_type": "code",
      "metadata": {
        "colab": {
          "base_uri": "https://localhost:8080/"
        },
        "id": "glmqeTAotjcX",
        "outputId": "319a2956-c820-4843-d056-f26192f0a1da"
      },
      "source": [
        "model_ru.wv.most_similar('старуха_S')"
      ],
      "execution_count": 61,
      "outputs": [
        {
          "output_type": "stream",
          "name": "stderr",
          "text": [
            "/usr/local/lib/python3.7/dist-packages/ipykernel_launcher.py:1: DeprecationWarning: Call to deprecated `wv` (Attribute will be removed in 4.0.0, use self instead).\n",
            "  \"\"\"Entry point for launching an IPython kernel.\n"
          ]
        },
        {
          "output_type": "execute_result",
          "data": {
            "text/plain": [
              "[('старик_S', 0.7658199071884155),\n",
              " ('старушка_S', 0.7462228536605835),\n",
              " ('баба_S', 0.5645360350608826),\n",
              " ('старушонка_S', 0.5538790225982666),\n",
              " ('бабка_S', 0.5478786826133728),\n",
              " ('тетка_S', 0.5364400148391724),\n",
              " ('нянька_S', 0.5299326777458191),\n",
              " ('мать_S', 0.5191550850868225),\n",
              " ('старичок_S', 0.5074124336242676),\n",
              " ('монашек_S', 0.49750322103500366)]"
            ]
          },
          "metadata": {},
          "execution_count": 61
        }
      ]
    },
    {
      "cell_type": "code",
      "metadata": {
        "colab": {
          "base_uri": "https://localhost:8080/"
        },
        "id": "2K2APTres-pB",
        "outputId": "9bacceea-35a1-49e0-be9c-571a1b697816"
      },
      "source": [
        "model_ru.wv.most_similar(positive=['старуха_S'], negative=['старик_S'])"
      ],
      "execution_count": 62,
      "outputs": [
        {
          "output_type": "stream",
          "name": "stderr",
          "text": [
            "/usr/local/lib/python3.7/dist-packages/ipykernel_launcher.py:1: DeprecationWarning: Call to deprecated `wv` (Attribute will be removed in 4.0.0, use self instead).\n",
            "  \"\"\"Entry point for launching an IPython kernel.\n"
          ]
        },
        {
          "output_type": "execute_result",
          "data": {
            "text/plain": [
              "[('иванна_S', 0.3401370942592621),\n",
              " ('разводиться_V', 0.3309248387813568),\n",
              " ('тюрингенский_A', 0.32313793897628784),\n",
              " ('покойница_S', 0.3211488127708435),\n",
              " ('ебеный_A', 0.31691834330558777),\n",
              " ('родить_V', 0.29508769512176514),\n",
              " ('развод_S', 0.28807705640792847),\n",
              " ('фуран_S', 0.28661054372787476),\n",
              " ('чертовый_A', 0.28630179166793823),\n",
              " ('берестовой_S', 0.28268522024154663)]"
            ]
          },
          "metadata": {},
          "execution_count": 62
        }
      ]
    },
    {
      "cell_type": "code",
      "metadata": {
        "colab": {
          "base_uri": "https://localhost:8080/"
        },
        "id": "ruvCe4tut7Nz",
        "outputId": "df189fb7-65ba-4386-b21e-17e8d95c92d8"
      },
      "source": [
        "model_ru.wv.most_similar(positive=['королева_S'], negative=['женщина_S'])"
      ],
      "execution_count": 63,
      "outputs": [
        {
          "output_type": "stream",
          "name": "stderr",
          "text": [
            "/usr/local/lib/python3.7/dist-packages/ipykernel_launcher.py:1: DeprecationWarning: Call to deprecated `wv` (Attribute will be removed in 4.0.0, use self instead).\n",
            "  \"\"\"Entry point for launching an IPython kernel.\n"
          ]
        },
        {
          "output_type": "execute_result",
          "data": {
            "text/plain": [
              "[('король_S', 0.37886035442352295),\n",
              " ('франкский_A', 0.31811249256134033),\n",
              " ('аглицкий_A', 0.3177199959754944),\n",
              " ('балтасар_S', 0.3167581558227539),\n",
              " ('арканарский_A', 0.3164834976196289),\n",
              " ('пэр_S', 0.3119353652000427),\n",
              " ('арагонский_A', 0.30933094024658203),\n",
              " ('почивальня_S', 0.3064378798007965),\n",
              " ('прешпургский_A', 0.3057243227958679),\n",
              " ('фахд_S', 0.3056405782699585)]"
            ]
          },
          "metadata": {},
          "execution_count": 63
        }
      ]
    },
    {
      "cell_type": "code",
      "metadata": {
        "colab": {
          "base_uri": "https://localhost:8080/"
        },
        "id": "qM0JScf7uGrU",
        "outputId": "5f1d636c-799b-4456-e653-12fb74d292d0"
      },
      "source": [
        "model_ru.wv.most_similar(positive=['девочка_S'], negative=['маленький_S'])"
      ],
      "execution_count": 64,
      "outputs": [
        {
          "output_type": "stream",
          "name": "stderr",
          "text": [
            "/usr/local/lib/python3.7/dist-packages/ipykernel_launcher.py:1: DeprecationWarning: Call to deprecated `wv` (Attribute will be removed in 4.0.0, use self instead).\n",
            "  \"\"\"Entry point for launching an IPython kernel.\n"
          ]
        },
        {
          "output_type": "execute_result",
          "data": {
            "text/plain": [
              "[('девушка_S', 0.5032362937927246),\n",
              " ('мальчик_S', 0.47413814067840576),\n",
              " ('девица_S', 0.43953511118888855),\n",
              " ('девчонка_S', 0.4362611770629883),\n",
              " ('малыш_S', 0.43147242069244385),\n",
              " ('ребенок_S', 0.4179821312427521),\n",
              " ('женщина_S', 0.41777801513671875),\n",
              " ('японка_S', 0.41478800773620605),\n",
              " ('девчушка_S', 0.3969481587409973),\n",
              " ('барышня_S', 0.39466592669487)]"
            ]
          },
          "metadata": {},
          "execution_count": 64
        }
      ]
    },
    {
      "cell_type": "code",
      "metadata": {
        "colab": {
          "base_uri": "https://localhost:8080/"
        },
        "id": "cp376I5ITu2E",
        "outputId": "79f1cb52-c766-4d34-dc07-9e9fa76a3e33"
      },
      "source": [
        "model_ru.wv.most_similar(positive=['москва_S', 'франция_S'], negative=['россия_S'])"
      ],
      "execution_count": 65,
      "outputs": [
        {
          "output_type": "stream",
          "name": "stderr",
          "text": [
            "/usr/local/lib/python3.7/dist-packages/ipykernel_launcher.py:1: DeprecationWarning: Call to deprecated `wv` (Attribute will be removed in 4.0.0, use self instead).\n",
            "  \"\"\"Entry point for launching an IPython kernel.\n"
          ]
        },
        {
          "output_type": "execute_result",
          "data": {
            "text/plain": [
              "[('париж_S', 0.6707262992858887),\n",
              " ('лондон_S', 0.6117687225341797),\n",
              " ('петербург_S', 0.5936024188995361),\n",
              " ('берлин_S', 0.582137405872345),\n",
              " ('ташкент_S', 0.5710321068763733),\n",
              " ('ленинград_S', 0.5650396347045898),\n",
              " ('швейцария_S', 0.564936637878418),\n",
              " ('копенгаген_S', 0.5555600523948669),\n",
              " ('мюнхен_S', 0.5477045774459839),\n",
              " ('питер_S', 0.5471242666244507)]"
            ]
          },
          "metadata": {},
          "execution_count": 65
        }
      ]
    },
    {
      "cell_type": "markdown",
      "metadata": {
        "id": "kRtVyjhpVl0l"
      },
      "source": [
        ""
      ]
    }
  ]
}