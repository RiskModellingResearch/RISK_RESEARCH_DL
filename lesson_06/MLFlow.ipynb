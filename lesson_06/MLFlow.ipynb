{
 "cells": [
  {
   "cell_type": "markdown",
   "metadata": {},
   "source": [
    "https://mlflow.org/docs/latest/python_api/mlflow.html"
   ]
  },
  {
   "cell_type": "code",
   "execution_count": null,
   "metadata": {
    "collapsed": true
   },
   "outputs": [],
   "source": [
    "pip install mlflow"
   ]
  },
  {
   "cell_type": "code",
   "execution_count": null,
   "metadata": {
    "collapsed": true
   },
   "outputs": [],
   "source": [
    "import mlflow"
   ]
  },
  {
   "cell_type": "markdown",
   "metadata": {},
   "source": [
    "Отдельный объект создавать не нужно, просто вызываем необходимые методы из библиотеки"
   ]
  },
  {
   "cell_type": "code",
   "execution_count": null,
   "metadata": {
    "collapsed": true
   },
   "outputs": [],
   "source": [
    "with mlflow.start_run(run_name='MLFlow_experiment'):\n",
    "    mlflow.log_artifact(\"mlflow_exmpl.py\")\n",
    "    run_experiment()"
   ]
  },
  {
   "cell_type": "markdown",
   "metadata": {},
   "source": [
    "В папке проекта, где лежит запускаемый код, создаться папка `mlruns` и там будут лежать папки, которые будут хранить все логи по всем запускам"
   ]
  },
  {
   "cell_type": "markdown",
   "metadata": {},
   "source": [
    "В терминале, будучи в папке, где лежит папка `mlruns` запускаем в консоли "
   ]
  },
  {
   "cell_type": "markdown",
   "metadata": {},
   "source": [
    "`mlflow ui`"
   ]
  },
  {
   "cell_type": "markdown",
   "metadata": {},
   "source": [
    "<img src=\"./images/mlflow.png\" alt=\"Drawing\" />"
   ]
  },
  {
   "cell_type": "markdown",
   "metadata": {},
   "source": [
    "# Пример"
   ]
  },
  {
   "cell_type": "code",
   "execution_count": null,
   "metadata": {
    "collapsed": true
   },
   "outputs": [],
   "source": [
    "import warnings\n",
    "warnings.filterwarnings(\"ignore\")\n",
    "\n",
    "import numpy as np\n",
    "import pandas as pd\n",
    "import seaborn as sns\n",
    "import matplotlib.pyplot as plt\n",
    "plt.style.use('ggplot')\n",
    "\n",
    "import torch\n",
    "\n",
    "print(torch.__version__)\n",
    "\n",
    "import torch.nn as nn # содержит функции для реалзации архитектуры нейронных сетей\n",
    "import torch.optim as optim\n",
    "import torch.utils.data as data_utils\n",
    "\n",
    "from pytorch_lightning.metrics import Accuracy\n",
    "\n",
    "from sklearn.model_selection import train_test_split\n",
    "from sklearn.preprocessing import LabelEncoder\n",
    "from sklearn.preprocessing import StandardScaler\n",
    "\n",
    "import mlflow"
   ]
  },
  {
   "cell_type": "code",
   "execution_count": null,
   "metadata": {
    "collapsed": true
   },
   "outputs": [],
   "source": [
    "INPUT_SIZE = 37\n",
    "HIDDEN_SIZE = 25\n",
    "OUTPUT_SIZE = 4\n",
    "LEARNING_RATE = 1e-2\n",
    "EPOCHS = 400\n",
    "BATCH_SIZE = 256"
   ]
  },
  {
   "cell_type": "markdown",
   "metadata": {},
   "source": [
    "## ETL"
   ]
  },
  {
   "cell_type": "code",
   "execution_count": null,
   "metadata": {
    "collapsed": true
   },
   "outputs": [],
   "source": [
    "def load_dataset():\n",
    "    X = pd.read_csv('./data/X_cat.csv', sep='\\t', index_col=0)\n",
    "    target = pd.read_csv('./data/y_cat.csv', sep='\\t', index_col=0, names=['status'])  # header=-1,\n",
    "\n",
    "    print(X.shape)\n",
    "    print(X.head())\n",
    "\n",
    "    target = target.iloc[:, :].values\n",
    "    target[target == 'Died'] = 'Euthanasia'\n",
    "\n",
    "    le = LabelEncoder()\n",
    "    y = le.fit_transform(target)\n",
    "\n",
    "    return X, y"
   ]
  },
  {
   "cell_type": "code",
   "execution_count": null,
   "metadata": {
    "collapsed": true
   },
   "outputs": [],
   "source": [
    "def create_data_loader(X, y):\n",
    "    X_train, X_test, y_train, y_test = train_test_split(X.values, y,\n",
    "                                                        test_size=0.2, stratify=y, random_state=42)\n",
    "    \n",
    "    scaler = StandardScaler()\n",
    "    X_train = scaler.fit_transform(X_train)\n",
    "    X_test = scaler.transform(X_test)\n",
    "\n",
    "    train_tensor = data_utils.TensorDataset(torch.tensor(X_train.astype(np.float32)), torch.tensor(y_train))\n",
    "    train_loader = data_utils.DataLoader(dataset=train_tensor,\n",
    "                                         batch_size=BATCH_SIZE,\n",
    "                                         shuffle=True)\n",
    "\n",
    "    test_tensor = data_utils.TensorDataset(torch.tensor(X_test.astype(np.float32)), torch.tensor(y_test))\n",
    "    test_loader = data_utils.DataLoader(dataset=test_tensor,\n",
    "                                        batch_size=BATCH_SIZE,\n",
    "                                        shuffle=False)\n",
    "    \n",
    "    return X_train, X_test, y_train, y_test, train_loader, test_loader"
   ]
  },
  {
   "cell_type": "markdown",
   "metadata": {},
   "source": [
    "## Model Architecture"
   ]
  },
  {
   "cell_type": "code",
   "execution_count": null,
   "metadata": {
    "collapsed": true
   },
   "outputs": [],
   "source": [
    "class MLPNet(nn.Module):\n",
    "\n",
    "    def __init__(self, input_size, hidden_size, output_size):\n",
    "        super(MLPNet, self).__init__()\n",
    "\n",
    "        self.linear1 = torch.nn.Linear(input_size, hidden_size)\n",
    "\n",
    "        self.linear2 = torch.nn.Linear(hidden_size, hidden_size)\n",
    "\n",
    "        self.linear3 = torch.nn.Linear(hidden_size, output_size)\n",
    "\n",
    "    def forward(self, x):\n",
    "        output = self.linear1(x)\n",
    "        output = torch.relu(output)\n",
    "\n",
    "        output = self.linear2(output)\n",
    "        output = torch.relu(output)\n",
    "\n",
    "        output = self.linear3(output)\n",
    "        predictions = torch.softmax(output, dim=1)\n",
    "\n",
    "        return predictions"
   ]
  },
  {
   "cell_type": "markdown",
   "metadata": {},
   "source": [
    "## Train pipeline"
   ]
  },
  {
   "cell_type": "code",
   "execution_count": null,
   "metadata": {
    "collapsed": true
   },
   "outputs": [],
   "source": [
    "def run_train(train_loader, test_loader):\n",
    "    model = MLPNet(INPUT_SIZE, HIDDEN_SIZE, OUTPUT_SIZE)\n",
    "\n",
    "    criterion = nn.CrossEntropyLoss()\n",
    "    accuracy = Accuracy()\n",
    "    optimizer = optim.SGD(model.parameters(), lr=LEARNING_RATE)\n",
    "\n",
    "    step = 0\n",
    "    for epoch in range(EPOCHS):\n",
    "        model.train()\n",
    "\n",
    "        for features, label in train_loader:\n",
    "            # Reset gradients\n",
    "            optimizer.zero_grad()\n",
    "\n",
    "            output = model(features)\n",
    "            # Calculate error and backpropagate\n",
    "            loss = criterion(output, label)\n",
    "            loss.backward()\n",
    "            acc = accuracy(output, label).item()\n",
    "\n",
    "            # Update weights with gradients\n",
    "            optimizer.step()\n",
    "\n",
    "            mlflow.log_metric('Train/CrossEntropyLoss', loss.item(), step)\n",
    "            mlflow.log_metric('Train/Accuracy', acc, step)\n",
    "\n",
    "            step += 1\n",
    "\n",
    "            if step % 50 == 0:\n",
    "                print('EPOCH %d STEP %d : train_loss: %f train_acc: %f' %\n",
    "                      (epoch, step, loss, acc))\n",
    "\n",
    "\n",
    "        # Run validation\n",
    "        running_loss = []\n",
    "        valid_scores = []\n",
    "        valid_labels = []\n",
    "        model.eval()\n",
    "        with torch.no_grad():\n",
    "            for features, label in test_loader:\n",
    "                output = model(features)\n",
    "                # Calculate error and backpropagate\n",
    "                loss = criterion(output, label)\n",
    "\n",
    "                running_loss.append(loss.item())\n",
    "                valid_scores.extend(torch.argmax(output, dim=1))\n",
    "                valid_labels.extend(label)\n",
    "\n",
    "        valid_accuracy = accuracy(torch.tensor(valid_scores), torch.tensor(valid_labels)).item()\n",
    "\n",
    "        mlflow.log_metric('Valid/CrossEntropyLoss', np.mean(running_loss), step)\n",
    "        mlflow.log_metric('Valid/Accuracy', valid_accuracy, step)\n",
    "\n",
    "        print('EPOCH %d : valid_loss: %f valid_acc: %f' % (epoch, np.mean(running_loss), valid_accuracy))\n",
    "\n",
    "    return"
   ]
  },
  {
   "cell_type": "code",
   "execution_count": null,
   "metadata": {
    "collapsed": true
   },
   "outputs": [],
   "source": [
    "def run_experiment():\n",
    "    features, labels = load_dataset()\n",
    "    X_train, X_test, y_train, y_test, train_loader, test_loader = create_data_loader(features, labels)\n",
    "\n",
    "    mlflow.log_param(\"LEARNING_RATE\", LEARNING_RATE)\n",
    "    mlflow.log_metric(\"INPUT_SIZE\", INPUT_SIZE)\n",
    "    mlflow.log_metric(\"HIDDEN_SIZE\", HIDDEN_SIZE)\n",
    "    mlflow.log_param(\"NROF_CLASSES\", OUTPUT_SIZE)\n",
    "    mlflow.log_metric(\"BATCH_SIZE\", BATCH_SIZE)\n",
    "\n",
    "    run_train(train_loader, test_loader)\n",
    "\n",
    "    return"
   ]
  },
  {
   "cell_type": "code",
   "execution_count": null,
   "metadata": {
    "collapsed": true
   },
   "outputs": [],
   "source": [
    "with mlflow.start_run(run_name='MLFlow_experiment'):\n",
    "    mlflow.log_artifact(\"mlflow_exmpl.py\")\n",
    "    run_experiment()"
   ]
  },
  {
   "cell_type": "code",
   "execution_count": null,
   "metadata": {
    "collapsed": true
   },
   "outputs": [],
   "source": []
  }
 ],
 "metadata": {
  "kernelspec": {
   "display_name": "Python 3",
   "language": "python",
   "name": "python3"
  },
  "language_info": {
   "codemirror_mode": {
    "name": "ipython",
    "version": 3
   },
   "file_extension": ".py",
   "mimetype": "text/x-python",
   "name": "python",
   "nbconvert_exporter": "python",
   "pygments_lexer": "ipython3",
   "version": "3.6.5"
  }
 },
 "nbformat": 4,
 "nbformat_minor": 4
}
